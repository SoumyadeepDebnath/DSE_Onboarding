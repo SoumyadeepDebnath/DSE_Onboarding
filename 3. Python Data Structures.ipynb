{
 "cells": [
  {
   "cell_type": "markdown",
   "metadata": {},
   "source": [
    "### List"
   ]
  },
  {
   "cell_type": "code",
   "execution_count": 43,
   "metadata": {},
   "outputs": [
    {
     "name": "stdout",
     "output_type": "stream",
     "text": [
      "[]\n",
      "Type:  <class 'list'>\n"
     ]
    }
   ],
   "source": [
    "lst=list() #Declairation\n",
    "print(lst)\n",
    "\n",
    "print(\"Type: \",type(lst)) #Type"
   ]
  },
  {
   "cell_type": "code",
   "execution_count": 44,
   "metadata": {},
   "outputs": [
    {
     "name": "stdout",
     "output_type": "stream",
     "text": [
      "['Sam', 100, 200.9, True, ['python', 'r']]\n",
      "Size/Length:  5\n"
     ]
    }
   ],
   "source": [
    "lst=['Sam',100,200.9,True,['python','r']]\n",
    "print(lst)\n",
    "\n",
    "print(\"Size/Length: \",len(lst)) #Size"
   ]
  },
  {
   "cell_type": "code",
   "execution_count": 45,
   "metadata": {},
   "outputs": [
    {
     "name": "stdout",
     "output_type": "stream",
     "text": [
      "Slicing:  [100, 200.9, True]\n"
     ]
    }
   ],
   "source": [
    "print(\"Slicing: \",lst[1:4]) #Slicing"
   ]
  },
  {
   "cell_type": "code",
   "execution_count": 74,
   "metadata": {},
   "outputs": [
    {
     "name": "stdout",
     "output_type": "stream",
     "text": [
      "After Insertion:\n",
      " [1, 1, 'interted item in 2nd position', 'interted item in 2nd position', 'interted item in 2nd position', 1, 2, 3, 4, 5, 'appended item', 'extended item1', 'extended item2', 'appended item', 'extended item1', 'extended item2', 'appended item', 'extended item1', 'extended item2']\n"
     ]
    }
   ],
   "source": [
    "#Adding Item\n",
    "lst.append(\"appended item\") #Add item in the end\n",
    "lst.insert(2,\"interted item in 2nd position\") #Add item in particular position\n",
    "lst.extend([\"extended item1\",\"extended item2\"]) #Add another list in the end\n",
    "print(\"After Insertion:\\n\",lst)"
   ]
  },
  {
   "cell_type": "code",
   "execution_count": 47,
   "metadata": {},
   "outputs": [
    {
     "name": "stdout",
     "output_type": "stream",
     "text": [
      "After Deletion:\n",
      " ['Sam', 100, 'interted item in 2nd position', 200.9, True, 'appended item', 'extended item1', 'extended item2']\n"
     ]
    }
   ],
   "source": [
    "#Removing Item\n",
    "lst.pop(5) #Remove item from particular position\n",
    "print(\"After Deletion:\\n\",lst)"
   ]
  },
  {
   "cell_type": "code",
   "execution_count": 63,
   "metadata": {},
   "outputs": [
    {
     "name": "stdout",
     "output_type": "stream",
     "text": [
      "Sum of all items:  17\n",
      "Repetation:  [1, 1, 1, 2, 3, 4, 5, 1, 1, 1, 2, 3, 4, 5, 1, 1, 1, 2, 3, 4, 5, 1, 1, 1, 2, 3, 4, 5, 1, 1, 1, 2, 3, 4, 5]\n",
      "Occurance of 1:  3\n",
      "Max: 5 and Min: 1\n"
     ]
    }
   ],
   "source": [
    "#List Operations\n",
    "lst=[1,1,1,2,3,4,5]\n",
    "print(\"Sum of all items: \",sum(lst)) #If all items are numbers\n",
    "print(\"Repetation: \",lst*5) #Repetation\n",
    "print(\"Occurance of 1: \",lst.count(1)) #Occurance of an item\n",
    "print(\"Max:\",max(lst),\"and Min:\",min(lst)) #Max and Min item"
   ]
  },
  {
   "cell_type": "code",
   "execution_count": 69,
   "metadata": {},
   "outputs": [
    {
     "name": "stdout",
     "output_type": "stream",
     "text": [
      "Index of 1:  1\n"
     ]
    }
   ],
   "source": [
    "#Search\n",
    "print(\"Index of 1: \",lst.index(1,1,4)) #Error if not present, index of first occurrence of any item, Start and End index are optional parameters"
   ]
  },
  {
   "cell_type": "code",
   "execution_count": 62,
   "metadata": {},
   "outputs": [
    {
     "name": "stdout",
     "output_type": "stream",
     "text": [
      "By sort() method -\n",
      "Actual List:  ['u', 'a', 'i', 'e', 'o']\n",
      "Ascending Order:  ['a', 'e', 'i', 'o', 'u']\n",
      "Descending Order:  ['u', 'o', 'i', 'e', 'a']\n",
      "By sorted() method -\n",
      "Actual List:  ['u', 'a', 'i', 'e', 'o']\n",
      "Ascending Order:  ['a', 'e', 'i', 'o', 'u']\n",
      "Descending Order:  ['u', 'o', 'i', 'e', 'a']\n"
     ]
    }
   ],
   "source": [
    "#Sort() - changes the list directly and doesn't return any value\n",
    "print(\"By sort() method -\")\n",
    "vowels = ['u','a','i','e','o']\n",
    "print(\"Actual List: \",vowels)\n",
    "vowels.sort() #Default Ascending order\n",
    "print(\"Ascending Order: \",vowels)\n",
    "vowels.sort(reverse=True) #Descending order\n",
    "print(\"Descending Order: \",vowels)\n",
    "\n",
    "#Sort() - doesn't change the list directly and returns the sorted value\n",
    "print(\"By sorted() method -\")\n",
    "vowels = ['u','a','i','e','o']\n",
    "print(\"Actual List: \",vowels)\n",
    "vowels1 = sorted(vowels) #Default Ascending order\n",
    "print(\"Ascending Order: \",vowels1)\n",
    "vowels2 = sorted(vowels,reverse=True) #Descending order\n",
    "print(\"Descending Order: \",vowels2)"
   ]
  },
  {
   "cell_type": "markdown",
   "metadata": {},
   "source": [
    "### Tuple"
   ]
  },
  {
   "cell_type": "markdown",
   "metadata": {},
   "source": [
    "### Set"
   ]
  },
  {
   "cell_type": "markdown",
   "metadata": {},
   "source": [
    "### Dictionary"
   ]
  },
  {
   "cell_type": "code",
   "execution_count": null,
   "metadata": {},
   "outputs": [],
   "source": []
  }
 ],
 "metadata": {
  "kernelspec": {
   "display_name": "Python 3",
   "language": "python",
   "name": "python3"
  },
  "language_info": {
   "codemirror_mode": {
    "name": "ipython",
    "version": 3
   },
   "file_extension": ".py",
   "mimetype": "text/x-python",
   "name": "python",
   "nbconvert_exporter": "python",
   "pygments_lexer": "ipython3",
   "version": "3.8.3"
  }
 },
 "nbformat": 4,
 "nbformat_minor": 4
}
