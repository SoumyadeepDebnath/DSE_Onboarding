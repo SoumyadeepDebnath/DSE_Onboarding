{
  "cells": [
    {
      "cell_type": "markdown",
      "metadata": {
        "id": "view-in-github",
        "colab_type": "text"
      },
      "source": [
        "<a href=\"https://colab.research.google.com/github/SoumyadeepDebnath/DataEngineering_with_Python_by_SAM/blob/main/1.%20Python_Basics.ipynb\" target=\"_parent\"><img src=\"https://colab.research.google.com/assets/colab-badge.svg\" alt=\"Open In Colab\"/></a>"
      ]
    },
    {
      "cell_type": "markdown",
      "metadata": {
        "id": "3pOJrk8lSCIn"
      },
      "source": [
        "#### 1. Comment\n",
        "\n",
        "- Single Line Comment - #\n",
        "- Multiline Comment - \"\"\" \"\"\""
      ]
    },
    {
      "cell_type": "markdown",
      "metadata": {
        "id": "ViJxfKSVSCIs"
      },
      "source": [
        "#### 2. Built in method - print()"
      ]
    },
    {
      "cell_type": "code",
      "execution_count": null,
      "metadata": {
        "id": "Lc89P2PXSCIy",
        "outputId": "9ebd7310-c79a-4caf-d022-d565f1fae83c"
      },
      "outputs": [
        {
          "name": "stdout",
          "output_type": "stream",
          "text": [
            "Hello\n",
            "My name is  Soumyadeep\n",
            "My name is Soumyadeep\n",
            "My first name is Soumyadeep and last name is Debnath\n",
            "My first name is Soumyadeep and last name is Debnath\n",
            "C://python37\n"
          ]
        }
      ],
      "source": [
        "print('Hello')\n",
        "\n",
        "firstName = \"Soumyadeep\"\n",
        "print(\"My name is \",firstName)\n",
        "print(\"My name is %s\"%(firstName))\n",
        "\n",
        "firstName = \"Soumyadeep\"\n",
        "lastName = \"Debnath\"\n",
        "print(\"My first name is {} and last name is {}\".format(firstName,lastName)) #sequence matter\n",
        "print(\"My first name is {value1} and last name is {value2}\".format(value2=lastName,value1=firstName)) #sequence not matter\n",
        "\n",
        "print(r'C://python37') #print as it is written"
      ]
    },
    {
      "cell_type": "markdown",
      "metadata": {
        "id": "1J0Kv1YvSCI2"
      },
      "source": [
        "#### 3. Escape Sequences\n"
      ]
    },
    {
      "cell_type": "markdown",
      "source": [
        "```\n",
        "1. \\n - newline\n",
        "2. \\\\ - Backslash\n",
        "3. \\' -\tSingle Quote\t\n",
        "4. \\\\'' - Double Quote\n",
        "5. \\a - ASCII Bell\n",
        "6. \\b - ASCII Backspace(BS)\n",
        "7. \\f - ASCII Formfeed\n",
        "8. \\n - ASCII Linefeed\n",
        "9. \\r - ASCII Carriege Return(CR)\n",
        "10. \\t - ASCII Horizontal Tab\n",
        "11. \\v - ASCII Vertical Tab\n",
        "12. \\ooo - Character with octal value\n",
        "13. \\xHH - Character with hex value.\n",
        "```"
      ],
      "metadata": {
        "id": "0evVYv_OTiwU"
      }
    },
    {
      "cell_type": "markdown",
      "metadata": {
        "id": "xNPRInt0SCI4"
      },
      "source": [
        "#### 4. Naming Convension\n"
      ]
    },
    {
      "cell_type": "markdown",
      "source": [
        "```\n",
        "- Camel Case: In the camel case, each word or abbreviation in the middle of begins with a capital letter. \n",
        "            There is no intervention of whitespace. For example - nameOfStudent, valueOfVaraible, etc.\n",
        "- Pascal Case: It is the same as the Camel Case, but here the first word is also capital. \n",
        "            For example - NameOfStudent, etc.\n",
        "- Snake Case: In the snake case, Words are separated by the underscore. \n",
        "            For example - name_of_student, etc.\n",
        "```"
      ],
      "metadata": {
        "id": "hf4KDoCrTy5b"
      }
    },
    {
      "cell_type": "markdown",
      "metadata": {
        "id": "klPxQ_KhSCI5"
      },
      "source": [
        "#### 5. Variable and Assignments"
      ]
    },
    {
      "cell_type": "code",
      "execution_count": null,
      "metadata": {
        "id": "g46Bqx8wSCI6",
        "outputId": "9fd1dbad-6a53-4693-fc2a-18a56cabe893"
      },
      "outputs": [
        {
          "name": "stdout",
          "output_type": "stream",
          "text": [
            "value:  50 , id:  140727138860352\n",
            "value:  50 , id:  140727138860352\n",
            "value:  python , id:  2065268063024\n"
          ]
        }
      ],
      "source": [
        "#Reassigning values to a variable\n",
        "var1 = 50\n",
        "var2 = var1\n",
        "print('value: ', var1,', id: ',id(var1))\n",
        "print('value: ', var2,', id: ',id(var2))\n",
        "var1 = 'python'  \n",
        "print('value: ', var1,', id: ',id(var1))"
      ]
    },
    {
      "cell_type": "code",
      "execution_count": null,
      "metadata": {
        "id": "aZWHOAK5SCI8",
        "outputId": "ce852727-1ee0-419c-9b01-17b5c71ebfc1"
      },
      "outputs": [
        {
          "name": "stdout",
          "output_type": "stream",
          "text": [
            "50 50 50\n"
          ]
        }
      ],
      "source": [
        "#Assigning single value to multiple variables\n",
        "x=y=z=50\n",
        "print(x,y,z)"
      ]
    },
    {
      "cell_type": "code",
      "execution_count": null,
      "metadata": {
        "id": "PkmdPIijSCI-",
        "outputId": "546099ac-780b-43a1-efa8-1c547c2d2cc8"
      },
      "outputs": [
        {
          "name": "stdout",
          "output_type": "stream",
          "text": [
            "5 10 15\n"
          ]
        }
      ],
      "source": [
        "#Assigning multiple values to multiple variables\n",
        "a,b,c=5,10,15\n",
        "print(a,b,c)"
      ]
    },
    {
      "cell_type": "markdown",
      "metadata": {
        "id": "XWRSvl2aSCJC"
      },
      "source": [
        "#### 6. Datatypes\n"
      ]
    },
    {
      "cell_type": "markdown",
      "source": [
        "```\n",
        "- Boolean - True, False\n",
        "- Numbers: Integer, Float, Complex\n",
        "- Sequence: (Concatenation by +, Repetation by *, Slicing by [:])\n",
        "    - String - Immutable (can't modify the size of string and value of the any element)\n",
        "    - List - Contains data of different types, ordered, mutable and also duplicate elements.\n",
        "    - Tuple - Contains data of different types but immutable (can't modify the size of tuple and value of the any element).\n",
        "- Set: Contains data of different types, unordered, mutable, with no duplicate elements.\n",
        "- Dictionary - Key can hold any primitive data type, whereas value is an arbitrary python object.\n",
        "```"
      ],
      "metadata": {
        "id": "CKwkIBacU5sp"
      }
    },
    {
      "cell_type": "markdown",
      "metadata": {
        "id": "WQAAKEelSCJE"
      },
      "source": [
        "#### 7. Built in method - type()\n"
      ]
    },
    {
      "cell_type": "code",
      "source": [
        "print(\"Boolean: \",type(True))\n",
        "print(\"Integer: \",type(1))\n",
        "print(\"Float: \",type(1.4))\n",
        "print(\"Complex: \",type(1+3j))\n",
        "print(\"Character/String: \",type('p'))\n",
        "print(\"List: \",type([1,'hi',2.3]))\n",
        "print(\"Tuple: \",type((\"hi\", \"Python\", 2)))\n",
        "print(\"Dictionary: \",type({1:'Sam', 2:'Alex'}))"
      ],
      "metadata": {
        "colab": {
          "base_uri": "https://localhost:8080/"
        },
        "id": "lGhHuNvWknun",
        "outputId": "65d10e3e-d179-4bde-eb8e-7955fcc7b6a6"
      },
      "execution_count": 146,
      "outputs": [
        {
          "output_type": "stream",
          "name": "stdout",
          "text": [
            "Boolean:  <class 'bool'>\n",
            "Integer:  <class 'int'>\n",
            "Float:  <class 'float'>\n",
            "Complex:  <class 'complex'>\n",
            "Character/String:  <class 'str'>\n",
            "List:  <class 'list'>\n",
            "Tuple:  <class 'tuple'>\n",
            "Dictionary:  <class 'dict'>\n"
          ]
        }
      ]
    },
    {
      "cell_type": "markdown",
      "metadata": {
        "id": "etWWTkDySCJG"
      },
      "source": [
        "#### 8. Built in method - isinstance()\n"
      ]
    },
    {
      "cell_type": "markdown",
      "source": [
        "function is used to check an object belongs to a particular class - return Ture/False"
      ],
      "metadata": {
        "id": "1X34dPHfVSHW"
      }
    },
    {
      "cell_type": "code",
      "source": [
        "isinstance({1:'Sam', 2:'Alex'},dict)"
      ],
      "metadata": {
        "colab": {
          "base_uri": "https://localhost:8080/"
        },
        "id": "re7EmTwBlcd9",
        "outputId": "d112edc2-08ff-474f-c331-1c1abad1d52d"
      },
      "execution_count": 147,
      "outputs": [
        {
          "output_type": "execute_result",
          "data": {
            "text/plain": [
              "True"
            ]
          },
          "metadata": {},
          "execution_count": 147
        }
      ]
    },
    {
      "cell_type": "markdown",
      "metadata": {
        "id": "0ZaEoqGlSCJH"
      },
      "source": [
        "#### 8. Arithmetic Operators"
      ]
    },
    {
      "cell_type": "code",
      "execution_count": null,
      "metadata": {
        "id": "S2EpzuvsSCJI",
        "outputId": "bbfda759-c354-4f3b-81b7-db4fdad93b01"
      },
      "outputs": [
        {
          "name": "stdout",
          "output_type": "stream",
          "text": [
            "Addition: 5+2 = 7\n",
            "Substraction: 5-2 = 3\n",
            "Multiplication: 5*2 = 10\n",
            "Division: 5/2 = 2.5\n",
            "Floor Division: 5//2 = 2\n",
            "Reminder: 5%2 = 1\n",
            "Exponent: 5**2 = 25\n",
            "Concat: 5*'i'+'j' = iiiiij\n"
          ]
        }
      ],
      "source": [
        "print(\"Addition: 5+2 =\",5+2)\n",
        "print(\"Substraction: 5-2 =\",5-2)\n",
        "print(\"Multiplication: 5*2 =\",5*2)\n",
        "print(\"Division: 5/2 =\",5/2)\n",
        "print(\"Floor Division: 5//2 =\",5//2)\n",
        "print(\"Reminder: 5%2 =\",5%2)\n",
        "print(\"Exponent: 5**2 =\",5**2)\n",
        "print(\"Concat: 5*'i'+'j' =\",5*'i'+'j')"
      ]
    },
    {
      "cell_type": "markdown",
      "metadata": {
        "id": "zudWVNlPSCJJ"
      },
      "source": [
        "#### 9. String Operations"
      ]
    },
    {
      "cell_type": "code",
      "execution_count": 166,
      "metadata": {
        "id": "qm9I18D6SCJK",
        "outputId": "3cc75d43-d5f6-421b-a6dc-484b7d0d6da6",
        "colab": {
          "base_uri": "https://localhost:8080/"
        }
      },
      "outputs": [
        {
          "output_type": "stream",
          "name": "stdout",
          "text": [
            "String Concat: 5*'i'+'j' = iiiiij\n",
            "Single String:  single line string\n",
            "Length:  18\n",
            "Multiline String:  multiline \n",
            "string\n",
            "Length:  17\n"
          ]
        }
      ],
      "source": [
        "print(\"String Concat: 5*'i'+'j' =\",5*'i'+'j')\n",
        "\n",
        "#Single line String - if double quoted (\" \") then we can put single quotation (' ') inside the string and vice versa\n",
        "str = \"single line string\"  \n",
        "print(\"Single String: \",str)\n",
        "print(\"Length: \",len(str)) \n",
        "\n",
        "#Multi line String\n",
        "str = \"\"\"multiline \n",
        "string\"\"\"  \n",
        "print(\"Multiline String: \",str)\n",
        "print(\"Length: \",len(str))"
      ]
    },
    {
      "cell_type": "markdown",
      "source": [
        "String is Immutable\n",
        "\n",
        "\n",
        "```\n",
        "str = \"Soumyadeep\"\n",
        "str[1] = 'a'\n",
        "```\n",
        "```\n",
        "-> error occurs\n",
        "```"
      ],
      "metadata": {
        "id": "KiieK5oC_sPB"
      }
    },
    {
      "cell_type": "code",
      "source": [
        "str = \"Soumyadeep\"\n",
        "print(str.replace(\"Soumya\",\"Deb\")) #inspite of immutable"
      ],
      "metadata": {
        "colab": {
          "base_uri": "https://localhost:8080/"
        },
        "id": "KJHCUB_XMyo0",
        "outputId": "04291af2-b079-4dfd-8317-b0333fc65078"
      },
      "execution_count": 197,
      "outputs": [
        {
          "output_type": "stream",
          "name": "stdout",
          "text": [
            "Debdeep\n"
          ]
        }
      ]
    },
    {
      "cell_type": "code",
      "execution_count": 193,
      "metadata": {
        "id": "ZkFE_ne_SCJL",
        "outputId": "f9bcb99e-2e0e-46e7-8b96-387ab2893ebf",
        "colab": {
          "base_uri": "https://localhost:8080/"
        }
      },
      "outputs": [
        {
          "output_type": "stream",
          "name": "stdout",
          "text": [
            "Actual String: hey all Sam is here now\n",
            "\n",
            "Occurance of a:  2\n",
            "Fourth character from left:  h\n",
            "Fourth character from right/Last charactert:  w\n",
            "\n",
            "Concatination:  hey all Sam is here nowhey all Sam is here now\n",
            "Repetation:  hey all Sam is here nowhey all Sam is here nowhey all Sam is here now\n",
            "\n",
            "From 1st to 4th:  ey a\n",
            "From Start to 4th:  hey a\n",
            "From 10th to Last:  m is here now\n",
            "From last 5th to last 2nd:  e no\n",
            "Slicing with 2 step from start to end:  hyalSmi eenw\n",
            "Reverse Slicing:  lay\n",
            "Reverse:  won ereh si maS lla yeh\n",
            "\n",
            "Wrong Slicing (Always empty):\n",
            "lst[4:1] -  \n",
            "lst[6:1:2] -  \n",
            "lst[1:6:-2] -  \n",
            "\n",
            "Reverse:  won ereh si maS lla yeh\n",
            "Reverse:  won ereh si maS lla ye\n"
          ]
        }
      ],
      "source": [
        "#String operatios\n",
        "\n",
        "str1 = 'hey all Sam is here now'\n",
        "print(\"Actual String: \"+str1)\n",
        "print()\n",
        "#Occurance\n",
        "print(\"Occurance of a: \",str1.count('a')) #count of an item\n",
        "#Retrieving character\n",
        "print(\"Fourth character from left: \",str1[0]) #positive index\n",
        "print(\"Fourth character from right/Last charactert: \",str1[-1]) #negative index\n",
        "print()\n",
        "print(\"Concatination: \",str1+str1) #Concatination\n",
        "print(\"Repetation: \",str1*3) #Repetation\n",
        "print()\n",
        "#Substring/Slicing\n",
        "print(\"From 1st to 4th: \",str1[1:5]) #full - [0:n] - 0 to n-1 place\n",
        "print(\"From Start to 4th: \",str1[:5])\n",
        "print(\"From 10th to Last: \",str1[10:])\n",
        "print(\"From last 5th to last 2nd: \",str1[-5:-1])\n",
        "print(\"Slicing with 2 step from start to end: \",str1[0:len(str1):2]) #last is step, default step size is 1\n",
        "print(\"Reverse Slicing: \",str1[6:1:-2]) #Negative step\n",
        "print(\"Reverse: \",str1[::-1]) #Reverse\n",
        "print()\n",
        "print(\"Wrong Slicing (Always empty):\")\n",
        "print(\"lst[4:1] - \",str1[4:1])\n",
        "print(\"lst[6:1:2] - \",str1[6:1:2])\n",
        "print(\"lst[1:6:-2] - \",str1[1:6:-2])\n",
        "print()\n",
        "#Reversing\n",
        "print(\"Reverse: \",str1[::-1]) #if step is negative, reverse order\n",
        "print(\"Reverse: \",str1[len(str1):0:-1]) #excluding 0th"
      ]
    },
    {
      "cell_type": "code",
      "execution_count": 188,
      "metadata": {
        "id": "ZkDS8JXwSCJM",
        "outputId": "4880a7a9-bbd9-49aa-d95a-8e8e9585383e",
        "colab": {
          "base_uri": "https://localhost:8080/"
        }
      },
      "outputs": [
        {
          "output_type": "stream",
          "name": "stdout",
          "text": [
            "Present in:  True\n",
            "Not Present in:  False\n",
            "First index of substring by index():  8\n",
            "First index of substring by find():  8\n"
          ]
        }
      ],
      "source": [
        "#Search\n",
        "print(\"Present in: \",'Sam' in str1)\n",
        "print(\"Not Present in: \",'Sam' not in str1)\n",
        "print(\"First index of substring by index(): \",str1.index('Sam',0,18)) #Error if not present, index of first occurrence, Start and End index are optional parameters\n",
        "status=str1.find('Sam',0,18) #-1 if not present, Index of first occurrence, Start and End index are optional parameters\n",
        "if(status!=-1): \n",
        "    print(\"First index of substring by find(): \",status)\n",
        "else:\n",
        "    print(\"Item not present\")"
      ]
    },
    {
      "cell_type": "code",
      "source": [
        "str1=\"Hey all, Sam is here now\"\n",
        "print(\"Actual String: \"+str1)\n",
        "print()\n",
        "print(\"Word Split: \",str1.split()) #default split by space\n",
        "print(\"Split by character (,): \",str1.split(','))\n",
        "print()\n",
        "print(\"Upper Case: \",str1.upper())\n",
        "print(\"Lower Case: \",str1.lower())\n",
        "print(\"Swapping Case: \",str1.swapcase())\n",
        "\n",
        "\n",
        "print()\n",
        "str2=\"  Soumyadeep Debnath  \"\n",
        "print(\"Actual String: \"+str2)\n",
        "print(\"Strip left & right: \",str2.strip()+\".\")\n",
        "print(\"Strip left: \",str2.lstrip()+\".\")\n",
        "print(\"Strip right: \",str2.rstrip()+\".\")"
      ],
      "metadata": {
        "colab": {
          "base_uri": "https://localhost:8080/"
        },
        "id": "UpYQ-lv2BTMM",
        "outputId": "ea6df82e-6070-463b-eb8c-74049847996e"
      },
      "execution_count": 195,
      "outputs": [
        {
          "output_type": "stream",
          "name": "stdout",
          "text": [
            "Actual String: Hey all, Sam is here now\n",
            "Word Split:  ['Hey', 'all,', 'Sam', 'is', 'here', 'now']\n",
            "Split by character (,):  ['Hey all', ' Sam is here now']\n",
            "Upper Case:  HEY ALL, SAM IS HERE NOW\n",
            "Lower Case:  hey all, sam is here now\n",
            "Swapping Case:  hEY ALL, sAM IS HERE NOW\n",
            "\n",
            "Actual String:   Soumyadeep Debnath  \n",
            "Strip left & right:  Soumyadeep Debnath.\n",
            "Strip left:  Soumyadeep Debnath  .\n",
            "Strip right:    Soumyadeep Debnath.\n"
          ]
        }
      ]
    },
    {
      "cell_type": "markdown",
      "metadata": {
        "id": "PZWimyWJSCJN"
      },
      "source": [
        "#### 10. Boolean Operations"
      ]
    },
    {
      "cell_type": "code",
      "execution_count": 200,
      "metadata": {
        "id": "Zzj02CrFSCJP",
        "outputId": "ef1915a8-04e2-48e5-fd52-5f53425a8d72",
        "colab": {
          "base_uri": "https://localhost:8080/"
        }
      },
      "outputs": [
        {
          "output_type": "stream",
          "name": "stdout",
          "text": [
            "Initialize:  False\n",
            "\n",
            "String:  Sam is 1st Chief Data Scientist\n",
            "Starts with Sam:  True\n",
            "Ends with Scientist:  True\n",
            "Upper Only Case:  False\n",
            "Lower Only Case:  False\n",
            "Contain Only Space:  False\n",
            "\n",
            "String:  Soumyadeep\n",
            "Alphanumeric:  True\n",
            "Alphabetic:  True\n",
            "Numeric:  False\n",
            "Numeric  False\n",
            "Have Tile word:  True\n"
          ]
        }
      ],
      "source": [
        "bl = bool() #Declair and Initialize with False value\n",
        "print(\"Initialize: \",bl)\n",
        "print()\n",
        "my_str = 'Sam is 1st Chief Data Scientist'\n",
        "print(\"String: \",my_str)\n",
        "print(\"Starts with Sam: \",my_str.startswith('Sam')) #test if string startswith 'Sam'\n",
        "print(\"Ends with Scientist: \",my_str.endswith('Scientist')) #test if string endswith 'Scientist'\n",
        "print(\"Upper Only Case: \",my_str.isupper())\n",
        "print(\"Lower Only Case: \",my_str.islower())\n",
        "print(\"Contain Only Space: \",my_str.isspace())\n",
        "print()\n",
        "my_str='Soumyadeep'\n",
        "print(\"String: \",my_str)\n",
        "#For single word    #whitespace is not allowed for these methods\n",
        "print(\"Alphanumeric: \",my_str.isalnum()) \n",
        "print(\"Alphabetic: \",my_str.isalpha())\n",
        "print(\"Numeric: \",my_str.isdigit())\n",
        "print(\"Numeric \",my_str.isnumeric())\n",
        "print(\"Have Tile word: \",my_str.istitle()) #first character is capital"
      ]
    },
    {
      "cell_type": "markdown",
      "source": [
        "#### 11. Conditional Statement (if else)"
      ],
      "metadata": {
        "id": "yCFLlO0aUZnV"
      }
    },
    {
      "cell_type": "code",
      "source": [
        "salary = int(input(\"enter your salary\\n\"))\n",
        "if( salary > 1000):\n",
        "    print(\"you salary is good\")\n",
        "    if salary > 5000 and salary <= 10000:\n",
        "        print(\"i will go with a card nano\")\n",
        "        if True:\n",
        "            print(\"always executable line inside\")\n",
        "    if salary == 10000:\n",
        "        print(\"after somemore i will go with maruti\")\n",
        "    elif salary >10000:\n",
        "        print(\"i will go with maruti\")\n",
        "    elif salary > 50000:\n",
        "        print(\"i wil go with toyota\")\n",
        "    else :\n",
        "        print(\"i will rent a car \")\n",
        "elif salary > 500:\n",
        "    print(\" i will go for bike \")\n",
        "elif salary> 100:\n",
        "    print(\"i will not buy anyting\")\n",
        "else :\n",
        "    print(\"i will go for savinig \")"
      ],
      "metadata": {
        "id": "-b0gx7bdUdrr",
        "colab": {
          "base_uri": "https://localhost:8080/"
        },
        "outputId": "f806ab7f-236c-484b-9088-f0b2d8789a75"
      },
      "execution_count": 20,
      "outputs": [
        {
          "output_type": "stream",
          "name": "stdout",
          "text": [
            "enter your salary\n",
            "10000\n",
            "you salary is good\n",
            "i will go with a card nano\n",
            "always executable line inside\n",
            "after somemore i will go with maruti\n"
          ]
        }
      ]
    },
    {
      "cell_type": "markdown",
      "source": [
        "#### 12. Loop & Control Statements"
      ],
      "metadata": {
        "id": "VFvcnR4AlgEc"
      }
    },
    {
      "cell_type": "markdown",
      "source": [
        "##### 1. while loop"
      ],
      "metadata": {
        "id": "XRYAA3wxlp3F"
      }
    },
    {
      "cell_type": "code",
      "source": [
        "count = 0\n",
        "while (count < 10):   \n",
        "    count = count + 1\n",
        "    if (count == 2):\n",
        "        pass\n",
        "    if (count == 4):\n",
        "        print(\"Line Before Continue\")\n",
        "        continue\n",
        "    if (count == 6):\n",
        "        print(\"Line Before Break\")\n",
        "        break\n",
        "    print(\"Line no - \",count)"
      ],
      "metadata": {
        "id": "Y7ad-R4hluA0",
        "colab": {
          "base_uri": "https://localhost:8080/"
        },
        "outputId": "4e707e48-2c24-461e-a518-e2fccd90e187"
      },
      "execution_count": 23,
      "outputs": [
        {
          "output_type": "stream",
          "name": "stdout",
          "text": [
            "Line no -  1\n",
            "Line no -  2\n",
            "Line no -  3\n",
            "Line Before Continue\n",
            "Line no -  5\n",
            "Line Before Break\n"
          ]
        }
      ]
    },
    {
      "cell_type": "code",
      "source": [
        "#while don't support these cases - causes infinite loop \n",
        "\n",
        "#range\n",
        "i=0 #while requires initialization before starting loop\n",
        "while i in range(0,10,3):\n",
        "    print(\"Line no - \",i)\n",
        "\n",
        "#iterate string/list/tuple\n",
        "str = \"Sam\"\n",
        "i='' #while requires initialization before starting loop\n",
        "while i in str:\n",
        "    print(i)"
      ],
      "metadata": {
        "id": "tRSPSvK45thh"
      },
      "execution_count": null,
      "outputs": []
    },
    {
      "cell_type": "code",
      "source": [
        "#iterate string/list/tuple\n",
        "\n",
        "str = \"Sam\"\n",
        "i=0\n",
        "while str[i] in str:\n",
        "    print(str[i])\n",
        "    i=i+1\n",
        "    if(i==len(str)):\n",
        "        break"
      ],
      "metadata": {
        "colab": {
          "base_uri": "https://localhost:8080/"
        },
        "id": "DI29IdNgPcp4",
        "outputId": "0223e864-8114-4adf-b217-3bc76e44c1a2"
      },
      "execution_count": 88,
      "outputs": [
        {
          "output_type": "stream",
          "name": "stdout",
          "text": [
            "S\n",
            "a\n",
            "m\n"
          ]
        }
      ]
    },
    {
      "cell_type": "markdown",
      "source": [
        "##### 2. for loop"
      ],
      "metadata": {
        "id": "8fZpGwjntjgp"
      }
    },
    {
      "cell_type": "code",
      "source": [
        "#using for & range, act like while\n",
        "for i in range(0,10,3):\n",
        "    print(\"Line no - \",i)"
      ],
      "metadata": {
        "colab": {
          "base_uri": "https://localhost:8080/"
        },
        "id": "bfXkSSU79tKI",
        "outputId": "b27ce80b-aeea-44b7-fb68-a04d0051946f"
      },
      "execution_count": 75,
      "outputs": [
        {
          "output_type": "stream",
          "name": "stdout",
          "text": [
            "Line no -  0\n",
            "Line no -  3\n",
            "Line no -  6\n",
            "Line no -  9\n"
          ]
        }
      ]
    },
    {
      "cell_type": "code",
      "source": [
        "#iterate string/list/tuple\n",
        "str = \"Sam\"\n",
        "print(\"Directly retrieve Character: \")\n",
        "for i in str:\n",
        "    print(i)\n",
        "print(\"Index wise retrieve Character: \")\n",
        "for i in range(len(str)):\n",
        "    print(str[i])"
      ],
      "metadata": {
        "colab": {
          "base_uri": "https://localhost:8080/"
        },
        "id": "Uyr_s9RUtlKq",
        "outputId": "232c37b9-b0ee-42ae-d8c5-32b4f210e84d"
      },
      "execution_count": 81,
      "outputs": [
        {
          "output_type": "stream",
          "name": "stdout",
          "text": [
            "Directly retrieve Character: \n",
            "S\n",
            "a\n",
            "m\n",
            "Index wise retrieve Character: \n",
            "S\n",
            "a\n",
            "m\n"
          ]
        }
      ]
    },
    {
      "cell_type": "markdown",
      "source": [
        "##### 3. loop and else"
      ],
      "metadata": {
        "id": "mDck5jlPQzV0"
      }
    },
    {
      "cell_type": "code",
      "source": [
        "#Only python support loop and else\n",
        "\n",
        "count = 5\n",
        "i=1\n",
        "while (i<count):\n",
        "    print(\"Inside while Line no - \",i)\n",
        "    i=i+1\n",
        "else: #executed because no break in while\n",
        "    print(\"Inside else, Line no - \",i)\n",
        "\n",
        "print()\n",
        "\n",
        "for i in range(1, 5):\n",
        "\tprint(\"Inside for, Line no - \",i)\n",
        "else: #executed because no break in for\n",
        "\tprint(\"Inside else, Line no - \",i)"
      ],
      "metadata": {
        "colab": {
          "base_uri": "https://localhost:8080/"
        },
        "id": "m6sYWNc7T2U_",
        "outputId": "02ba3b31-30e6-4c7a-ff00-cb1e733ecf67"
      },
      "execution_count": 97,
      "outputs": [
        {
          "output_type": "stream",
          "name": "stdout",
          "text": [
            "Inside while Line no -  1\n",
            "Inside while Line no -  2\n",
            "Inside while Line no -  3\n",
            "Inside while Line no -  4\n",
            "Inside else, Line no -  5\n",
            "\n",
            "Inside for, Line no -  1\n",
            "Inside for, Line no -  2\n",
            "Inside for, Line no -  3\n",
            "Inside for, Line no -  4\n",
            "Inside else, Line no -  4\n"
          ]
        }
      ]
    },
    {
      "cell_type": "code",
      "source": [
        "#else is skipped by break - it's not skipped by pass or continue\n",
        "\n",
        "count = 5\n",
        "i=1\n",
        "while (i<count):\n",
        "    print(\"Inside while Line no - \",i)\n",
        "    i=i+1\n",
        "    if(i==3):\n",
        "        break\n",
        "else: #not executed due to break in while\n",
        "    print(\"Inside else, Line no - \",i)\n",
        "\n",
        "print()\n",
        "\n",
        "for i in range(1, 5):\n",
        "    print(\"Inside for, Line no - \",i)\n",
        "    if(i==3):\n",
        "        break\n",
        "else: #not executed due to break in for\n",
        "\tprint(\"Inside else, Line no - \",i)"
      ],
      "metadata": {
        "colab": {
          "base_uri": "https://localhost:8080/"
        },
        "id": "aNrIMCQgT7aX",
        "outputId": "26ec3b49-8640-4be2-ecb4-399fc36f2547"
      },
      "execution_count": 108,
      "outputs": [
        {
          "output_type": "stream",
          "name": "stdout",
          "text": [
            "Inside while Line no -  1\n",
            "Inside while Line no -  2\n",
            "\n",
            "Inside for, Line no -  1\n",
            "Inside for, Line no -  2\n",
            "Inside for, Line no -  3\n"
          ]
        }
      ]
    }
  ],
  "metadata": {
    "kernelspec": {
      "display_name": "Python 3",
      "language": "python",
      "name": "python3"
    },
    "language_info": {
      "codemirror_mode": {
        "name": "ipython",
        "version": 3
      },
      "file_extension": ".py",
      "mimetype": "text/x-python",
      "name": "python",
      "nbconvert_exporter": "python",
      "pygments_lexer": "ipython3",
      "version": "3.8.3"
    },
    "colab": {
      "name": "1. Python_Basics.ipynb",
      "provenance": [],
      "collapsed_sections": [
        "XWRSvl2aSCJC",
        "PZWimyWJSCJN",
        "yCFLlO0aUZnV",
        "VFvcnR4AlgEc",
        "XRYAA3wxlp3F",
        "8fZpGwjntjgp",
        "mDck5jlPQzV0"
      ],
      "include_colab_link": true
    }
  },
  "nbformat": 4,
  "nbformat_minor": 0
}