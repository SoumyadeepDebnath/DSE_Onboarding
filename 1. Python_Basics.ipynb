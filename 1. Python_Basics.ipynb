{
  "cells": [
    {
      "cell_type": "markdown",
      "metadata": {
        "id": "view-in-github",
        "colab_type": "text"
      },
      "source": [
        "<a href=\"https://colab.research.google.com/github/SoumyadeepDebnath/DataEngineering_with_Python_by_SAM/blob/main/1.%20Python_Basics.ipynb\" target=\"_parent\"><img src=\"https://colab.research.google.com/assets/colab-badge.svg\" alt=\"Open In Colab\"/></a>"
      ]
    },
    {
      "cell_type": "markdown",
      "source": [
        "# 1. Basics"
      ],
      "metadata": {
        "id": "pyz9LOBHtbkH"
      }
    },
    {
      "cell_type": "markdown",
      "metadata": {
        "id": "3pOJrk8lSCIn"
      },
      "source": [
        "#### 1. Comment\n",
        "\n",
        "- Single Line Comment - #\n",
        "- Multiline Comment - \"\"\" \"\"\""
      ]
    },
    {
      "cell_type": "markdown",
      "metadata": {
        "id": "ViJxfKSVSCIs"
      },
      "source": [
        "#### 2. Built in method - print()"
      ]
    },
    {
      "cell_type": "code",
      "execution_count": null,
      "metadata": {
        "id": "Lc89P2PXSCIy",
        "outputId": "9ebd7310-c79a-4caf-d022-d565f1fae83c"
      },
      "outputs": [
        {
          "name": "stdout",
          "output_type": "stream",
          "text": [
            "Hello\n",
            "My name is  Soumyadeep\n",
            "My name is Soumyadeep\n",
            "My first name is Soumyadeep and last name is Debnath\n",
            "My first name is Soumyadeep and last name is Debnath\n",
            "C://python37\n"
          ]
        }
      ],
      "source": [
        "print('Hello')\n",
        "\n",
        "firstName = \"Soumyadeep\"\n",
        "print(\"My name is \",firstName)\n",
        "print(\"My name is %s\"%(firstName))\n",
        "\n",
        "firstName = \"Soumyadeep\"\n",
        "lastName = \"Debnath\"\n",
        "print(\"My first name is {} and last name is {}\".format(firstName,lastName)) #sequence matter\n",
        "print(\"My first name is {value1} and last name is {value2}\".format(value2=lastName,value1=firstName)) #sequence not matter\n",
        "\n",
        "print(r'C://python37') #print as it is written"
      ]
    },
    {
      "cell_type": "markdown",
      "metadata": {
        "id": "1J0Kv1YvSCI2"
      },
      "source": [
        "#### 3. Escape Sequence\n"
      ]
    },
    {
      "cell_type": "markdown",
      "source": [
        "* \\n - newline\t\n",
        "* \\\\ - Backslash\t\n",
        "print(\"\\\\\")\n",
        "Output:\n",
        "\\\n",
        "3.\t\\'\tSingle Quotes\t\n",
        "print('\\'')\n",
        "Output:\n",
        "'\n",
        "4.\t\\\\''\tDouble Quotes\t\n",
        "print(\"\\\"\")\n",
        "Output:\n",
        "\"\n",
        "5.\t\\a\tASCII Bell\t\n",
        "print(\"\\a\")\n",
        "6.\t\\b\tASCII Backspace(BS)\t\n",
        "print(\"Hello \\b World\")\n",
        "Output:\n",
        "Hello World\n",
        "7.\t\\f\tASCII Formfeed\t\n",
        "print(\"Hello \\f World!\")\n",
        "Hello  World!\n",
        "8.\t\\n\tASCII Linefeed\t\n",
        "print(\"Hello \\n World!\")\n",
        "Output:\n",
        "Hello\n",
        " World!\n",
        "9.\t\\r\tASCII Carriege Return(CR)\t\n",
        "print(\"Hello \\r World!\")\n",
        "Output:\n",
        "World!\n",
        "10.\t\\t\tASCII Horizontal Tab\t\n",
        "print(\"Hello \\t World!\")\n",
        "Output:\n",
        "Hello \t World!\n",
        "11.\t\\v\tASCII Vertical Tab\t\n",
        "print(\"Hello \\v World!\")\n",
        "Output:\n",
        "Hello \n",
        " World!\n",
        "12.\t\\ooo\tCharacter with octal value\t\n",
        "print(\"\\110\\145\\154\\154\\157\")\n",
        "Output:\n",
        "Hello\n",
        "13\t\\xHH\tCharacter with hex value.\t\n",
        "print(\"\\x48\\x65\\x6c\\x6c\\x6f\")\n",
        "Output:\n",
        "Hello"
      ],
      "metadata": {
        "id": "0evVYv_OTiwU"
      }
    },
    {
      "cell_type": "markdown",
      "metadata": {
        "id": "xNPRInt0SCI4"
      },
      "source": [
        "#### 4. Naming Convension\n"
      ]
    },
    {
      "cell_type": "markdown",
      "source": [
        "- Camel Case: In the camel case, each word or abbreviation in the middle of begins with a capital letter. There is no intervention of whitespace. For example - nameOfStudent, valueOfVaraible, etc.\n",
        "- Pascal Case: It is the same as the Camel Case, but here the first word is also capital. For example - NameOfStudent, etc.\n",
        "- Snake Case: In the snake case, Words are separated by the underscore. For example - name_of_student, etc."
      ],
      "metadata": {
        "id": "hf4KDoCrTy5b"
      }
    },
    {
      "cell_type": "markdown",
      "metadata": {
        "id": "klPxQ_KhSCI5"
      },
      "source": [
        "#### 5. Variable and Assignments"
      ]
    },
    {
      "cell_type": "code",
      "execution_count": null,
      "metadata": {
        "id": "g46Bqx8wSCI6",
        "outputId": "9fd1dbad-6a53-4693-fc2a-18a56cabe893"
      },
      "outputs": [
        {
          "name": "stdout",
          "output_type": "stream",
          "text": [
            "value:  50 , id:  140727138860352\n",
            "value:  50 , id:  140727138860352\n",
            "value:  python , id:  2065268063024\n"
          ]
        }
      ],
      "source": [
        "#Reassigning values to a variable\n",
        "var1 = 50\n",
        "var2 = var1\n",
        "print('value: ', var1,', id: ',id(var1))\n",
        "print('value: ', var2,', id: ',id(var2))\n",
        "var1 = 'python'  \n",
        "print('value: ', var1,', id: ',id(var1))"
      ]
    },
    {
      "cell_type": "code",
      "execution_count": null,
      "metadata": {
        "id": "aZWHOAK5SCI8",
        "outputId": "ce852727-1ee0-419c-9b01-17b5c71ebfc1"
      },
      "outputs": [
        {
          "name": "stdout",
          "output_type": "stream",
          "text": [
            "50 50 50\n"
          ]
        }
      ],
      "source": [
        "#Assigning single value to multiple variables\n",
        "x=y=z=50\n",
        "print(x,y,z)"
      ]
    },
    {
      "cell_type": "code",
      "execution_count": null,
      "metadata": {
        "id": "PkmdPIijSCI-",
        "outputId": "546099ac-780b-43a1-efa8-1c547c2d2cc8"
      },
      "outputs": [
        {
          "name": "stdout",
          "output_type": "stream",
          "text": [
            "5 10 15\n"
          ]
        }
      ],
      "source": [
        "#Assigning multiple values to multiple variables\n",
        "a,b,c=5,10,15\n",
        "print(a,b,c)"
      ]
    },
    {
      "cell_type": "markdown",
      "metadata": {
        "id": "XWRSvl2aSCJC"
      },
      "source": [
        "#### 6. Datatypes\n"
      ]
    },
    {
      "cell_type": "markdown",
      "source": [
        "- Boolean - True, False\n",
        "- Numbers: Integer, Float, Complex\n",
        "- Sequence: (Concatenation by +, Repetation by *, Slicing by [:])\n",
        " - String\n",
        " - List - Contains data of different types, ordered, mutable and also duplicate elements.\n",
        " - Tuple - Contains data of different types but immutable/Read-only (can't modify the size of tuple and value of the any element).\n",
        "- Set: Contains data of different types, unordered, mutable, with no duplicate elements.\n",
        "- Dictionary - Key can hold any primitive data type, whereas value is an arbitrary python object."
      ],
      "metadata": {
        "id": "CKwkIBacU5sp"
      }
    },
    {
      "cell_type": "markdown",
      "metadata": {
        "id": "WQAAKEelSCJE"
      },
      "source": [
        "#### 7. Built in method - type()\n"
      ]
    },
    {
      "cell_type": "code",
      "source": [
        "print(\"Boolean: \",type(True))\n",
        "print(\"Integer: \",type(1))\n",
        "print(\"Float: \",type(1.4))\n",
        "print(\"Complex: \",type(1+3j))\n",
        "print(\"Character/String: \",type('p'))\n",
        "print(\"List: \",type([1,'hi',2.3]))\n",
        "print(\"Tuple: \",type((\"hi\", \"Python\", 2)))\n",
        "print(\"Dictionary: \",type({1:'Sam', 2:'Alex'}))"
      ],
      "metadata": {
        "colab": {
          "base_uri": "https://localhost:8080/"
        },
        "id": "lGhHuNvWknun",
        "outputId": "65d10e3e-d179-4bde-eb8e-7955fcc7b6a6"
      },
      "execution_count": 146,
      "outputs": [
        {
          "output_type": "stream",
          "name": "stdout",
          "text": [
            "Boolean:  <class 'bool'>\n",
            "Integer:  <class 'int'>\n",
            "Float:  <class 'float'>\n",
            "Complex:  <class 'complex'>\n",
            "Character/String:  <class 'str'>\n",
            "List:  <class 'list'>\n",
            "Tuple:  <class 'tuple'>\n",
            "Dictionary:  <class 'dict'>\n"
          ]
        }
      ]
    },
    {
      "cell_type": "markdown",
      "metadata": {
        "id": "etWWTkDySCJG"
      },
      "source": [
        "#### 8. Built in method - isinstance()\n"
      ]
    },
    {
      "cell_type": "markdown",
      "source": [
        "function is used to check an object belongs to a particular class - return Ture/False"
      ],
      "metadata": {
        "id": "1X34dPHfVSHW"
      }
    },
    {
      "cell_type": "code",
      "source": [
        "isinstance({1:'Sam', 2:'Alex'},dict)"
      ],
      "metadata": {
        "colab": {
          "base_uri": "https://localhost:8080/"
        },
        "id": "re7EmTwBlcd9",
        "outputId": "d112edc2-08ff-474f-c331-1c1abad1d52d"
      },
      "execution_count": 147,
      "outputs": [
        {
          "output_type": "execute_result",
          "data": {
            "text/plain": [
              "True"
            ]
          },
          "metadata": {},
          "execution_count": 147
        }
      ]
    },
    {
      "cell_type": "markdown",
      "metadata": {
        "id": "0ZaEoqGlSCJH"
      },
      "source": [
        "#### 8. Arithmetic Operators"
      ]
    },
    {
      "cell_type": "code",
      "execution_count": null,
      "metadata": {
        "id": "S2EpzuvsSCJI",
        "outputId": "bbfda759-c354-4f3b-81b7-db4fdad93b01"
      },
      "outputs": [
        {
          "name": "stdout",
          "output_type": "stream",
          "text": [
            "Addition: 5+2 = 7\n",
            "Substraction: 5-2 = 3\n",
            "Multiplication: 5*2 = 10\n",
            "Division: 5/2 = 2.5\n",
            "Floor Division: 5//2 = 2\n",
            "Reminder: 5%2 = 1\n",
            "Exponent: 5**2 = 25\n",
            "Concat: 5*'i'+'j' = iiiiij\n"
          ]
        }
      ],
      "source": [
        "print(\"Addition: 5+2 =\",5+2)\n",
        "print(\"Substraction: 5-2 =\",5-2)\n",
        "print(\"Multiplication: 5*2 =\",5*2)\n",
        "print(\"Division: 5/2 =\",5/2)\n",
        "print(\"Floor Division: 5//2 =\",5//2)\n",
        "print(\"Reminder: 5%2 =\",5%2)\n",
        "print(\"Exponent: 5**2 =\",5**2)\n",
        "print(\"Concat: 5*'i'+'j' =\",5*'i'+'j')"
      ]
    },
    {
      "cell_type": "markdown",
      "metadata": {
        "id": "zudWVNlPSCJJ"
      },
      "source": [
        "#### 9. String Operations"
      ]
    },
    {
      "cell_type": "code",
      "execution_count": 166,
      "metadata": {
        "id": "qm9I18D6SCJK",
        "outputId": "3cc75d43-d5f6-421b-a6dc-484b7d0d6da6",
        "colab": {
          "base_uri": "https://localhost:8080/"
        }
      },
      "outputs": [
        {
          "output_type": "stream",
          "name": "stdout",
          "text": [
            "String Concat: 5*'i'+'j' = iiiiij\n",
            "Single String:  single line string\n",
            "Length:  18\n",
            "Multiline String:  multiline \n",
            "string\n",
            "Length:  17\n"
          ]
        }
      ],
      "source": [
        "print(\"String Concat: 5*'i'+'j' =\",5*'i'+'j')\n",
        "\n",
        "#Single line String - if double quoted (\" \") then we can put single quotation (' ') inside the string and vice versa\n",
        "str = \"single line string\"  \n",
        "print(\"Single String: \",str)\n",
        "print(\"Length: \",len(str)) \n",
        "\n",
        "#Multi line String\n",
        "str = \"\"\"multiline \n",
        "string\"\"\"  \n",
        "print(\"Multiline String: \",str)\n",
        "print(\"Length: \",len(str))"
      ]
    },
    {
      "cell_type": "code",
      "execution_count": 173,
      "metadata": {
        "id": "ZkFE_ne_SCJL",
        "outputId": "ca91b2e3-bf57-4dce-9189-b89d519b23bf",
        "colab": {
          "base_uri": "https://localhost:8080/"
        }
      },
      "outputs": [
        {
          "output_type": "stream",
          "name": "stdout",
          "text": [
            "Actual String: hey all Sam is here now\n",
            "Fourth character from left:  h\n",
            "Fourth character from right/Last charactert:  w\n",
            "From 1st to 4th:  ey a\n",
            "From Start to 4th:  hey a\n",
            "From 10th to Last:  m is here now\n",
            "From Last 5th to last 2nd:  e no\n",
            "From Start to 9th with 2 step:  hyalS\n",
            "Reverse:  won ereh si maS lla yeh\n",
            "Reverse:  won ereh si maS lla ye\n"
          ]
        }
      ],
      "source": [
        "str1 = 'hey all Sam is here now'\n",
        "print(\"Actual String: \"+str1)\n",
        "\n",
        "#Retrieving character\n",
        "print(\"Fourth character from left: \",str1[0]) #positive index\n",
        "print(\"Fourth character from right/Last charactert: \",str1[-1]) #negative index\n",
        "\n",
        "#Substring\n",
        "print(\"From 1st to 4th: \",str1[1:5]) #full - [0:n] - 0 to n-1 place\n",
        "print(\"From Start to 4th: \",str1[:5])\n",
        "print(\"From 10th to Last: \",str1[10:])\n",
        "print(\"From Last 5th to last 2nd: \",str1[-5:-1])\n",
        "print(\"From Start to 9th with 2 step: \",str1[0:10:2]) #last is step, default step size is 1\n",
        "\n",
        "#Reversing\n",
        "print(\"Reverse: \",str1[::-1]) #if step is negative, reverse order\n",
        "print(\"Reverse: \",str1[len(str1):0:-1]) #excluding 0th"
      ]
    },
    {
      "cell_type": "code",
      "execution_count": 52,
      "metadata": {
        "id": "ZkDS8JXwSCJM",
        "outputId": "25212fa6-03c6-4888-af44-b60b0bcfcdfc",
        "colab": {
          "base_uri": "https://localhost:8080/"
        }
      },
      "outputs": [
        {
          "output_type": "stream",
          "name": "stdout",
          "text": [
            "Present in:  True\n",
            "Not Present in:  False\n",
            "First index of substring by index():  8\n",
            "First index of substring by find():  8\n"
          ]
        }
      ],
      "source": [
        "#Search\n",
        "print(\"Present in: \",'Sam' in str1)\n",
        "print(\"Not Present in: \",'Sam' not in str1)\n",
        "print(\"First index of substring by index(): \",str1.index('Sam',0,18)) #Error if not present, index of first occurrence, Start and End index are optional parameters\n",
        "status = str1.find('Sam',0,18) #-1 if not present, Index of first occurrence, Start and End index are optional parameters\n",
        "if(status!=-1): \n",
        "    print(\"First index of substring by find(): \",status)\n",
        "else:\n",
        "    print(\"Item not present\")"
      ]
    },
    {
      "cell_type": "markdown",
      "metadata": {
        "id": "PZWimyWJSCJN"
      },
      "source": [
        "#### 10. Boolean Operations"
      ]
    },
    {
      "cell_type": "code",
      "execution_count": 18,
      "metadata": {
        "id": "Zzj02CrFSCJP",
        "outputId": "49bda414-58d5-4dc4-fe33-ffab40dfbd3f",
        "colab": {
          "base_uri": "https://localhost:8080/"
        }
      },
      "outputs": [
        {
          "output_type": "stream",
          "name": "stdout",
          "text": [
            "Initialize:  False\n",
            "True\n",
            "True\n",
            "Upper Only Case:  False\n",
            "Lower Only Case:  False\n",
            "Contain Only Space:  False\n",
            "Alphanumeric:  True\n",
            "Alphabetic:  True\n",
            "Numeric:  False\n",
            "Numeric  False\n",
            "Have Tile word:  True\n"
          ]
        }
      ],
      "source": [
        "bl = bool() #Declair and Initialize with False value\n",
        "print(\"Initialize: \",bl)\n",
        "\n",
        "my_str = 'Sam is 1st Chief Data Scientist'\n",
        "print(my_str.startswith('Sam')) #test if string startswith 'Sam'\n",
        "print(my_str.endswith('Scientist')) #test if string endswith 'Scientist'\n",
        "print(\"Upper Only Case: \",my_str.isupper())\n",
        "print(\"Lower Only Case: \",my_str.islower())\n",
        "print(\"Contain Only Space: \",my_str.isspace())\n",
        "\n",
        "my_str='Soumyadeep'\n",
        "#For single word    #whitespace is not allowed for these methods\n",
        "print(\"Alphanumeric: \",my_str.isalnum()) \n",
        "print(\"Alphabetic: \",my_str.isalpha())\n",
        "print(\"Numeric: \",my_str.isdigit())\n",
        "print(\"Numeric \",my_str.isnumeric())\n",
        "print(\"Have Tile word: \",my_str.istitle()) #first character is capital"
      ]
    },
    {
      "cell_type": "markdown",
      "source": [
        "#### 11. Conditional Statement (if else)"
      ],
      "metadata": {
        "id": "yCFLlO0aUZnV"
      }
    },
    {
      "cell_type": "code",
      "source": [
        "salary = int(input(\"enter your salary\\n\"))\n",
        "if( salary > 1000):\n",
        "    print(\"you salary is good\")\n",
        "    if salary > 5000 and salary <= 10000:\n",
        "        print(\"i will go with a card nano\")\n",
        "        if True:\n",
        "            print(\"always executable line inside\")\n",
        "    if salary == 10000:\n",
        "        print(\"after somemore i will go with maruti\")\n",
        "    elif salary >10000:\n",
        "        print(\"i will go with maruti\")\n",
        "    elif salary > 50000:\n",
        "        print(\"i wil go with toyota\")\n",
        "    else :\n",
        "        print(\"i will rent a car \")\n",
        "elif salary > 500:\n",
        "    print(\" i will go for bike \")\n",
        "elif salary> 100:\n",
        "    print(\"i will not buy anyting\")\n",
        "else :\n",
        "    print(\"i will go for savinig \")"
      ],
      "metadata": {
        "id": "-b0gx7bdUdrr",
        "colab": {
          "base_uri": "https://localhost:8080/"
        },
        "outputId": "f806ab7f-236c-484b-9088-f0b2d8789a75"
      },
      "execution_count": 20,
      "outputs": [
        {
          "output_type": "stream",
          "name": "stdout",
          "text": [
            "enter your salary\n",
            "10000\n",
            "you salary is good\n",
            "i will go with a card nano\n",
            "always executable line inside\n",
            "after somemore i will go with maruti\n"
          ]
        }
      ]
    },
    {
      "cell_type": "markdown",
      "source": [
        "#### 12. Loop & Control Statements"
      ],
      "metadata": {
        "id": "VFvcnR4AlgEc"
      }
    },
    {
      "cell_type": "markdown",
      "source": [
        "##### 1. while loop"
      ],
      "metadata": {
        "id": "XRYAA3wxlp3F"
      }
    },
    {
      "cell_type": "code",
      "source": [
        "count = 0\n",
        "while (count < 10):   \n",
        "    count = count + 1\n",
        "    if (count == 2):\n",
        "        pass\n",
        "    if (count == 4):\n",
        "        print(\"Line Before Continue\")\n",
        "        continue\n",
        "    if (count == 6):\n",
        "        print(\"Line Before Break\")\n",
        "        break\n",
        "    print(\"Line no - \",count)"
      ],
      "metadata": {
        "id": "Y7ad-R4hluA0",
        "colab": {
          "base_uri": "https://localhost:8080/"
        },
        "outputId": "4e707e48-2c24-461e-a518-e2fccd90e187"
      },
      "execution_count": 23,
      "outputs": [
        {
          "output_type": "stream",
          "name": "stdout",
          "text": [
            "Line no -  1\n",
            "Line no -  2\n",
            "Line no -  3\n",
            "Line Before Continue\n",
            "Line no -  5\n",
            "Line Before Break\n"
          ]
        }
      ]
    },
    {
      "cell_type": "code",
      "source": [
        "#while don't support these cases - causes infinite loop \n",
        "\n",
        "#range\n",
        "i=0 #while requires initialization before starting loop\n",
        "while i in range(0,10,3):\n",
        "    print(\"Line no - \",i)\n",
        "\n",
        "#iterate string/list/tuple\n",
        "str = \"Sam\"\n",
        "i='' #while requires initialization before starting loop\n",
        "while i in str:\n",
        "    print(i)"
      ],
      "metadata": {
        "id": "tRSPSvK45thh"
      },
      "execution_count": null,
      "outputs": []
    },
    {
      "cell_type": "code",
      "source": [
        "#iterate string/list/tuple\n",
        "\n",
        "str = \"Sam\"\n",
        "i=0\n",
        "while str[i] in str:\n",
        "    print(str[i])\n",
        "    i=i+1\n",
        "    if(i==len(str)):\n",
        "        break"
      ],
      "metadata": {
        "colab": {
          "base_uri": "https://localhost:8080/"
        },
        "id": "DI29IdNgPcp4",
        "outputId": "0223e864-8114-4adf-b217-3bc76e44c1a2"
      },
      "execution_count": 88,
      "outputs": [
        {
          "output_type": "stream",
          "name": "stdout",
          "text": [
            "S\n",
            "a\n",
            "m\n"
          ]
        }
      ]
    },
    {
      "cell_type": "markdown",
      "source": [
        "##### 2. for loop"
      ],
      "metadata": {
        "id": "8fZpGwjntjgp"
      }
    },
    {
      "cell_type": "code",
      "source": [
        "#using for & range, act like while\n",
        "for i in range(0,10,3):\n",
        "    print(\"Line no - \",i)"
      ],
      "metadata": {
        "colab": {
          "base_uri": "https://localhost:8080/"
        },
        "id": "bfXkSSU79tKI",
        "outputId": "b27ce80b-aeea-44b7-fb68-a04d0051946f"
      },
      "execution_count": 75,
      "outputs": [
        {
          "output_type": "stream",
          "name": "stdout",
          "text": [
            "Line no -  0\n",
            "Line no -  3\n",
            "Line no -  6\n",
            "Line no -  9\n"
          ]
        }
      ]
    },
    {
      "cell_type": "code",
      "source": [
        "#iterate string/list/tuple\n",
        "str = \"Sam\"\n",
        "print(\"Directly retrieve Character: \")\n",
        "for i in str:\n",
        "    print(i)\n",
        "print(\"Index wise retrieve Character: \")\n",
        "for i in range(len(str)):\n",
        "    print(str[i])"
      ],
      "metadata": {
        "colab": {
          "base_uri": "https://localhost:8080/"
        },
        "id": "Uyr_s9RUtlKq",
        "outputId": "232c37b9-b0ee-42ae-d8c5-32b4f210e84d"
      },
      "execution_count": 81,
      "outputs": [
        {
          "output_type": "stream",
          "name": "stdout",
          "text": [
            "Directly retrieve Character: \n",
            "S\n",
            "a\n",
            "m\n",
            "Index wise retrieve Character: \n",
            "S\n",
            "a\n",
            "m\n"
          ]
        }
      ]
    },
    {
      "cell_type": "markdown",
      "source": [
        "##### 3. loop and else"
      ],
      "metadata": {
        "id": "mDck5jlPQzV0"
      }
    },
    {
      "cell_type": "code",
      "source": [
        "#Only python support loop and else\n",
        "\n",
        "count = 5\n",
        "i=1\n",
        "while (i<count):\n",
        "    print(\"Inside while Line no - \",i)\n",
        "    i=i+1\n",
        "else: #executed because no break in while\n",
        "    print(\"Inside else, Line no - \",i)\n",
        "\n",
        "print()\n",
        "\n",
        "for i in range(1, 5):\n",
        "\tprint(\"Inside for, Line no - \",i)\n",
        "else: #executed because no break in for\n",
        "\tprint(\"Inside else, Line no - \",i)"
      ],
      "metadata": {
        "colab": {
          "base_uri": "https://localhost:8080/"
        },
        "id": "m6sYWNc7T2U_",
        "outputId": "02ba3b31-30e6-4c7a-ff00-cb1e733ecf67"
      },
      "execution_count": 97,
      "outputs": [
        {
          "output_type": "stream",
          "name": "stdout",
          "text": [
            "Inside while Line no -  1\n",
            "Inside while Line no -  2\n",
            "Inside while Line no -  3\n",
            "Inside while Line no -  4\n",
            "Inside else, Line no -  5\n",
            "\n",
            "Inside for, Line no -  1\n",
            "Inside for, Line no -  2\n",
            "Inside for, Line no -  3\n",
            "Inside for, Line no -  4\n",
            "Inside else, Line no -  4\n"
          ]
        }
      ]
    },
    {
      "cell_type": "code",
      "source": [
        "#else is skipped by break - it's not skipped by pass or continue\n",
        "\n",
        "count = 5\n",
        "i=1\n",
        "while (i<count):\n",
        "    print(\"Inside while Line no - \",i)\n",
        "    i=i+1\n",
        "    if(i==3):\n",
        "        break\n",
        "else: #not executed due to break in while\n",
        "    print(\"Inside else, Line no - \",i)\n",
        "\n",
        "print()\n",
        "\n",
        "for i in range(1, 5):\n",
        "    print(\"Inside for, Line no - \",i)\n",
        "    if(i==3):\n",
        "        break\n",
        "else: #not executed due to break in for\n",
        "\tprint(\"Inside else, Line no - \",i)"
      ],
      "metadata": {
        "colab": {
          "base_uri": "https://localhost:8080/"
        },
        "id": "aNrIMCQgT7aX",
        "outputId": "26ec3b49-8640-4be2-ecb4-399fc36f2547"
      },
      "execution_count": 108,
      "outputs": [
        {
          "output_type": "stream",
          "name": "stdout",
          "text": [
            "Inside while Line no -  1\n",
            "Inside while Line no -  2\n",
            "\n",
            "Inside for, Line no -  1\n",
            "Inside for, Line no -  2\n",
            "Inside for, Line no -  3\n"
          ]
        }
      ]
    },
    {
      "cell_type": "markdown",
      "source": [
        "#### 13. List Operations"
      ],
      "metadata": {
        "id": "5HwSow5QYxYk"
      }
    },
    {
      "cell_type": "code",
      "source": [
        "lst=list() #Declairation, Initialized empty\n",
        "print(lst)\n",
        "lst=[] #Declairation, Initialized empty\n",
        "print(lst)\n",
        "print(\"Type: \",type(lst)) #Type"
      ],
      "metadata": {
        "colab": {
          "base_uri": "https://localhost:8080/"
        },
        "id": "kGHjUhdsYw0J",
        "outputId": "723ada30-0e41-4a8f-c48a-df46e64ce3ed"
      },
      "execution_count": 111,
      "outputs": [
        {
          "output_type": "stream",
          "name": "stdout",
          "text": [
            "[]\n",
            "[]\n",
            "Type:  <class 'list'>\n"
          ]
        }
      ]
    },
    {
      "cell_type": "code",
      "source": [
        "lst=['Sam',100,200.9,True,['python','r']]\n",
        "print(lst)\n",
        "print(\"Size/Length: \",len(lst)) #Size\n",
        "\n",
        "#Retrieving element\n",
        "print(\"First character from left: \",lst[0]) #positive index\n",
        "print(\"First character from right/Last character: \",lst[-1]) #negative index"
      ],
      "metadata": {
        "colab": {
          "base_uri": "https://localhost:8080/"
        },
        "id": "1Av66Xl6aamU",
        "outputId": "ef884c7f-9ec5-47c7-fe53-73f575d1aec5"
      },
      "execution_count": 172,
      "outputs": [
        {
          "output_type": "stream",
          "name": "stdout",
          "text": [
            "['Sam', 100, 200.9, True, ['python', 'r']]\n",
            "Size/Length:  5\n",
            "First character from left:  Sam\n",
            "First character from right/Last character:  ['python', 'r']\n"
          ]
        }
      ]
    },
    {
      "cell_type": "code",
      "source": [
        "#Adding Item\n",
        "lst.append(\"appended item\") #Add item in the end\n",
        "lst.insert(2,\"interted item at 2nd index\") #Add item at particular index\n",
        "lst.extend([\"extended item1\",\"extended item2\"]) #Add another list in the end\n",
        "print(\"After Insertion:\\n\",lst)"
      ],
      "metadata": {
        "colab": {
          "base_uri": "https://localhost:8080/"
        },
        "id": "vxu6mWZgfFs9",
        "outputId": "b49c4478-036e-4725-f4a0-45d653754330"
      },
      "execution_count": 127,
      "outputs": [
        {
          "output_type": "stream",
          "name": "stdout",
          "text": [
            "After Insertion:\n",
            " ['Sam', 100, 'interted item at 2nd index', 200.9, True, ['python', 'r'], 'appended item', 'extended item1', 'extended item2']\n"
          ]
        }
      ]
    },
    {
      "cell_type": "code",
      "source": [
        "#Removing Item\n",
        "lst.pop(2) #Remove item from particular index\n",
        "print(\"After Deletion:\\n\",lst)"
      ],
      "metadata": {
        "colab": {
          "base_uri": "https://localhost:8080/"
        },
        "id": "IF9aI6kxfQ2c",
        "outputId": "062f281e-5acd-4ca4-c95a-995361ede35e"
      },
      "execution_count": 128,
      "outputs": [
        {
          "output_type": "stream",
          "name": "stdout",
          "text": [
            "After Deletion:\n",
            " ['Sam', 100, 200.9, True, ['python', 'r'], 'appended item', 'extended item1', 'extended item2']\n"
          ]
        }
      ]
    },
    {
      "cell_type": "code",
      "source": [
        "#List Operations\n",
        "\n",
        "lst=[0,1,2,3,4,5,5]\n",
        "print(\"Original List: \",lst)\n",
        "print()\n",
        "print(\"Sum of all items: \",sum(lst)) #If all items are numbers\n",
        "print(\"Occurance of 1: \",lst.count(5)) #Occurance of an item\n",
        "print(\"Max:\",max(lst),\"and Min:\",min(lst)) #Max and Min item\n",
        "print()\n",
        "print(\"Concatination: \",lst+lst) #Concatination\n",
        "print(\"Repetation: \",lst*3) #Repetation\n",
        "print(\"Slicing from 1 to 4 index (positive index):: \",lst[1:5]) #Slicing with positive index\n",
        "print(\"Slicing from 1 to 4 index (negative index): \",lst[-6:-2]) #Slicing with negative index\n",
        "print(\"Slicing with 2 step from start to end: \",lst[0:len(lst):2]) #Slicing with step\n",
        "print(\"Reverse Slicing: \",lst[6:1:-2]) #Negative step\n",
        "print(\"Reverse: \",lst[::-1]) #Reverse\n",
        "print()\n",
        "print(\"Wrong Slicing (Always empty):\")\n",
        "print(\"lst[4:1] - \",lst[4:1])\n",
        "print(\"lst[6:1:2] - \",lst[6:1:2])\n",
        "print(\"lst[1:6:-2] - \",lst[1:6:-2])"
      ],
      "metadata": {
        "colab": {
          "base_uri": "https://localhost:8080/"
        },
        "id": "OIctfjYRfTBD",
        "outputId": "ea4dd579-961b-4fc1-a757-fb35f0d1153f"
      },
      "execution_count": 165,
      "outputs": [
        {
          "output_type": "stream",
          "name": "stdout",
          "text": [
            "Original List:  [0, 1, 2, 3, 4, 5, 5]\n",
            "\n",
            "Sum of all items:  20\n",
            "Occurance of 1:  2\n",
            "Max: 5 and Min: 0\n",
            "\n",
            "Concatination:  [0, 1, 2, 3, 4, 5, 5, 0, 1, 2, 3, 4, 5, 5]\n",
            "Repetation:  [0, 1, 2, 3, 4, 5, 5, 0, 1, 2, 3, 4, 5, 5, 0, 1, 2, 3, 4, 5, 5]\n",
            "Slicing from 1 to 4 index (positive index)::  [1, 2, 3, 4]\n",
            "Slicing from 1 to 4 index (negative index):  [1, 2, 3, 4]\n",
            "Slicing with 2 step from start to end:  [0, 2, 4, 5]\n",
            "Reverse Slicing:  [5, 4, 2]\n",
            "Reverse:  [5, 5, 4, 3, 2, 1, 0]\n",
            "\n",
            "Wrong Slicing (Always empty):\n",
            "lst[4:1] -  []\n",
            "lst[6:1:2] -  []\n",
            "lst[1:6:-2] -  []\n"
          ]
        }
      ]
    },
    {
      "cell_type": "code",
      "source": [
        "#Search - return index of first occurrence of the item (Start and End index are optional parameter)\n",
        "\n",
        "print(\"Index of 5: \",lst.index(5,1,6)) #Error if not present\n",
        "\n",
        "#find() method is only for string, not other sequences"
      ],
      "metadata": {
        "colab": {
          "base_uri": "https://localhost:8080/"
        },
        "id": "fV9SNv0UgnQd",
        "outputId": "943064a3-a3d3-4fb6-ad57-3e98309fe935"
      },
      "execution_count": 142,
      "outputs": [
        {
          "output_type": "stream",
          "name": "stdout",
          "text": [
            "Index of 5:  5\n"
          ]
        }
      ]
    },
    {
      "cell_type": "code",
      "source": [
        "#Sort() - changes the list directly and doesn't return any value\n",
        "print(\"By sort() method -\")\n",
        "vowels = ['u','a','i','e','o']\n",
        "print(\"Actual List: \",vowels)\n",
        "vowels.sort() #Default Ascending order\n",
        "print(\"Ascending Order: \",vowels)\n",
        "vowels.sort(reverse=True) #Descending order\n",
        "print(\"Descending Order: \",vowels)\n",
        "\n",
        "#Sort() - doesn't change the list directly and returns the sorted value\n",
        "print(\"By sorted() method -\")\n",
        "vowels = ['u','a','i','e','o']\n",
        "print(\"Actual List: \",vowels)\n",
        "vowels1 = sorted(vowels) #Default Ascending order\n",
        "print(\"Ascending Order: \",vowels1)\n",
        "vowels2 = sorted(vowels,reverse=True) #Descending order\n",
        "print(\"Descending Order: \",vowels2)"
      ],
      "metadata": {
        "colab": {
          "base_uri": "https://localhost:8080/"
        },
        "id": "xjssfo5Xjbu8",
        "outputId": "e402dab2-6f90-40f9-fc06-f7f41f66a62a"
      },
      "execution_count": 143,
      "outputs": [
        {
          "output_type": "stream",
          "name": "stdout",
          "text": [
            "By sort() method -\n",
            "Actual List:  ['u', 'a', 'i', 'e', 'o']\n",
            "Ascending Order:  ['a', 'e', 'i', 'o', 'u']\n",
            "Descending Order:  ['u', 'o', 'i', 'e', 'a']\n",
            "By sorted() method -\n",
            "Actual List:  ['u', 'a', 'i', 'e', 'o']\n",
            "Ascending Order:  ['a', 'e', 'i', 'o', 'u']\n",
            "Descending Order:  ['u', 'o', 'i', 'e', 'a']\n"
          ]
        }
      ]
    },
    {
      "cell_type": "markdown",
      "source": [
        "#### 14. Tuple Operations"
      ],
      "metadata": {
        "id": "SO1ECpPlls9J"
      }
    },
    {
      "cell_type": "code",
      "source": [
        ""
      ],
      "metadata": {
        "id": "ddHv4Jsnlzn8"
      },
      "execution_count": null,
      "outputs": []
    },
    {
      "cell_type": "markdown",
      "source": [
        "#### 16. Python Array"
      ],
      "metadata": {
        "id": "ZZJD9H3IbYMI"
      }
    },
    {
      "cell_type": "markdown",
      "source": [
        "Python does not have built-in Array.\n",
        "Here all elements should be same datatype."
      ],
      "metadata": {
        "id": "nn_xAXdTbhem"
      }
    },
    {
      "cell_type": "code",
      "source": [
        "import array as arr\n",
        "\n",
        "#integer type array\n",
        "a = arr.array('i', [1, 2, 3])\n",
        "print(\"Original array: \", end =\" \")\n",
        "for i in range(0, len(a)):\n",
        "\tprint(a[i], end =\" \")\n",
        "print()\n",
        "\n",
        "a.append(4) #add at the last\n",
        "print(\"After append: \", end =\" \")\n",
        "for i in range(0, len(a)):\n",
        "\tprint(a[i], end =\" \")\n",
        "print()\n",
        "\n",
        "a.insert(2, 4) #add at 2nd index\n",
        "print(\"After insert: \", end =\" \")\n",
        "for i in range(0, len(a)):\n",
        "\tprint(a[i], end =\" \")\n",
        "print()\n",
        "\n",
        "\n",
        "#float type array\n",
        "b = arr.array('d', [2.5, 3.2, 3.3])\n",
        "print(\"Float array: \", end =\" \")\n",
        "for i in range(0, len(b)):\n",
        "\tprint (b[i], end =\" \")"
      ],
      "metadata": {
        "colab": {
          "base_uri": "https://localhost:8080/"
        },
        "id": "N0g6AXWrbb7N",
        "outputId": "480cd6cd-9a6e-47a5-b816-328a531ecd6d"
      },
      "execution_count": 121,
      "outputs": [
        {
          "output_type": "stream",
          "name": "stdout",
          "text": [
            "Original array:  1 2 3 \n",
            "After append:  1 2 3 4 \n",
            "After insert:  1 2 4 3 4 \n",
            "Float array:  2.5 3.2 3.3 "
          ]
        }
      ]
    }
  ],
  "metadata": {
    "kernelspec": {
      "display_name": "Python 3",
      "language": "python",
      "name": "python3"
    },
    "language_info": {
      "codemirror_mode": {
        "name": "ipython",
        "version": 3
      },
      "file_extension": ".py",
      "mimetype": "text/x-python",
      "name": "python",
      "nbconvert_exporter": "python",
      "pygments_lexer": "ipython3",
      "version": "3.8.3"
    },
    "colab": {
      "name": "1. Python.ipynb",
      "provenance": [],
      "include_colab_link": true
    }
  },
  "nbformat": 4,
  "nbformat_minor": 0
}