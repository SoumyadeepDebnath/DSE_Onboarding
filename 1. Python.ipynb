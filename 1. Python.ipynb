{
  "cells": [
    {
      "cell_type": "markdown",
      "metadata": {
        "id": "view-in-github",
        "colab_type": "text"
      },
      "source": [
        "<a href=\"https://colab.research.google.com/github/SoumyadeepDebnath/DataEngineering_with_Python_by_SAM/blob/main/1.%20Python.ipynb\" target=\"_parent\"><img src=\"https://colab.research.google.com/assets/colab-badge.svg\" alt=\"Open In Colab\"/></a>"
      ]
    },
    {
      "cell_type": "markdown",
      "source": [
        "## Basics"
      ],
      "metadata": {
        "id": "pyz9LOBHtbkH"
      }
    },
    {
      "cell_type": "markdown",
      "metadata": {
        "id": "3pOJrk8lSCIn"
      },
      "source": [
        "#### 1. Comment\n",
        "\n",
        "- Single Line Comment - #\n",
        "- Multiline Comment - \"\"\" \"\"\""
      ]
    },
    {
      "cell_type": "markdown",
      "metadata": {
        "id": "ViJxfKSVSCIs"
      },
      "source": [
        "#### 2. Built in method - print()"
      ]
    },
    {
      "cell_type": "code",
      "execution_count": null,
      "metadata": {
        "id": "Lc89P2PXSCIy",
        "outputId": "9ebd7310-c79a-4caf-d022-d565f1fae83c"
      },
      "outputs": [
        {
          "name": "stdout",
          "output_type": "stream",
          "text": [
            "Hello\n",
            "My name is  Soumyadeep\n",
            "My name is Soumyadeep\n",
            "My first name is Soumyadeep and last name is Debnath\n",
            "My first name is Soumyadeep and last name is Debnath\n",
            "C://python37\n"
          ]
        }
      ],
      "source": [
        "print('Hello')\n",
        "\n",
        "firstName = \"Soumyadeep\"\n",
        "print(\"My name is \",firstName)\n",
        "print(\"My name is %s\"%(firstName))\n",
        "\n",
        "firstName = \"Soumyadeep\"\n",
        "lastName = \"Debnath\"\n",
        "print(\"My first name is {} and last name is {}\".format(firstName,lastName)) #sequence matter\n",
        "print(\"My first name is {value1} and last name is {value2}\".format(value2=lastName,value1=firstName)) #sequence not matter\n",
        "\n",
        "print(r'C://python37') #print as it is written"
      ]
    },
    {
      "cell_type": "markdown",
      "metadata": {
        "id": "1J0Kv1YvSCI2"
      },
      "source": [
        "#### 3. Escape Sequence\n"
      ]
    },
    {
      "cell_type": "markdown",
      "source": [
        "* \\n - newline\t\n",
        "* \\\\ - Backslash\t\n",
        "print(\"\\\\\")\n",
        "Output:\n",
        "\\\n",
        "3.\t\\'\tSingle Quotes\t\n",
        "print('\\'')\n",
        "Output:\n",
        "'\n",
        "4.\t\\\\''\tDouble Quotes\t\n",
        "print(\"\\\"\")\n",
        "Output:\n",
        "\"\n",
        "5.\t\\a\tASCII Bell\t\n",
        "print(\"\\a\")\n",
        "6.\t\\b\tASCII Backspace(BS)\t\n",
        "print(\"Hello \\b World\")\n",
        "Output:\n",
        "Hello World\n",
        "7.\t\\f\tASCII Formfeed\t\n",
        "print(\"Hello \\f World!\")\n",
        "Hello  World!\n",
        "8.\t\\n\tASCII Linefeed\t\n",
        "print(\"Hello \\n World!\")\n",
        "Output:\n",
        "Hello\n",
        " World!\n",
        "9.\t\\r\tASCII Carriege Return(CR)\t\n",
        "print(\"Hello \\r World!\")\n",
        "Output:\n",
        "World!\n",
        "10.\t\\t\tASCII Horizontal Tab\t\n",
        "print(\"Hello \\t World!\")\n",
        "Output:\n",
        "Hello \t World!\n",
        "11.\t\\v\tASCII Vertical Tab\t\n",
        "print(\"Hello \\v World!\")\n",
        "Output:\n",
        "Hello \n",
        " World!\n",
        "12.\t\\ooo\tCharacter with octal value\t\n",
        "print(\"\\110\\145\\154\\154\\157\")\n",
        "Output:\n",
        "Hello\n",
        "13\t\\xHH\tCharacter with hex value.\t\n",
        "print(\"\\x48\\x65\\x6c\\x6c\\x6f\")\n",
        "Output:\n",
        "Hello"
      ],
      "metadata": {
        "id": "0evVYv_OTiwU"
      }
    },
    {
      "cell_type": "markdown",
      "metadata": {
        "id": "xNPRInt0SCI4"
      },
      "source": [
        "#### 4. Naming Convension\n"
      ]
    },
    {
      "cell_type": "markdown",
      "source": [
        "- Camel Case: In the camel case, each word or abbreviation in the middle of begins with a capital letter. There is no intervention of whitespace. For example - nameOfStudent, valueOfVaraible, etc.\n",
        "- Pascal Case: It is the same as the Camel Case, but here the first word is also capital. For example - NameOfStudent, etc.\n",
        "- Snake Case: In the snake case, Words are separated by the underscore. For example - name_of_student, etc."
      ],
      "metadata": {
        "id": "hf4KDoCrTy5b"
      }
    },
    {
      "cell_type": "markdown",
      "metadata": {
        "id": "klPxQ_KhSCI5"
      },
      "source": [
        "#### 5. Variable and Assignments"
      ]
    },
    {
      "cell_type": "code",
      "execution_count": null,
      "metadata": {
        "id": "g46Bqx8wSCI6",
        "outputId": "9fd1dbad-6a53-4693-fc2a-18a56cabe893"
      },
      "outputs": [
        {
          "name": "stdout",
          "output_type": "stream",
          "text": [
            "value:  50 , id:  140727138860352\n",
            "value:  50 , id:  140727138860352\n",
            "value:  python , id:  2065268063024\n"
          ]
        }
      ],
      "source": [
        "#Reassigning values to a variable\n",
        "var1 = 50\n",
        "var2 = var1\n",
        "print('value: ', var1,', id: ',id(var1))\n",
        "print('value: ', var2,', id: ',id(var2))\n",
        "var1 = 'python'  \n",
        "print('value: ', var1,', id: ',id(var1))"
      ]
    },
    {
      "cell_type": "code",
      "execution_count": null,
      "metadata": {
        "id": "aZWHOAK5SCI8",
        "outputId": "ce852727-1ee0-419c-9b01-17b5c71ebfc1"
      },
      "outputs": [
        {
          "name": "stdout",
          "output_type": "stream",
          "text": [
            "50 50 50\n"
          ]
        }
      ],
      "source": [
        "#Assigning single value to multiple variables\n",
        "x=y=z=50\n",
        "print(x,y,z)"
      ]
    },
    {
      "cell_type": "code",
      "execution_count": null,
      "metadata": {
        "id": "PkmdPIijSCI-",
        "outputId": "546099ac-780b-43a1-efa8-1c547c2d2cc8"
      },
      "outputs": [
        {
          "name": "stdout",
          "output_type": "stream",
          "text": [
            "5 10 15\n"
          ]
        }
      ],
      "source": [
        "#Assigning multiple values to multiple variables\n",
        "a,b,c=5,10,15\n",
        "print(a,b,c)"
      ]
    },
    {
      "cell_type": "markdown",
      "metadata": {
        "id": "XWRSvl2aSCJC"
      },
      "source": [
        "#### 6. Datatypes\n"
      ]
    },
    {
      "cell_type": "markdown",
      "source": [
        "- Boolean - True, False\n",
        "- Numbers: Integer, Float, Complex\n",
        "- Sequence: (Concatenation by +, Repetation by *, Slicing by [:])\n",
        " - String\n",
        " - List - Contains data of different types, ordered, mutable and also duplicate elements.\n",
        " - Tuple - Contains data of different types but immutable/Read-only (can't modify the size of tuple and value of the any element).\n",
        "- Set: Contains data of different types, unordered, mutable, with no duplicate elements.\n",
        "- Dictionary - Key can hold any primitive data type, whereas value is an arbitrary python object."
      ],
      "metadata": {
        "id": "CKwkIBacU5sp"
      }
    },
    {
      "cell_type": "markdown",
      "metadata": {
        "id": "WQAAKEelSCJE"
      },
      "source": [
        "#### 7. Built in method - type()\n"
      ]
    },
    {
      "cell_type": "markdown",
      "source": [
        "type(True) - bool <br>\n",
        "\n",
        "type(1) - int <br>\n",
        "type(1.4) - float <br>\n",
        "type(1+3j) - complex <br>\n",
        "\n",
        "type('p') - str <br>\n",
        "type([1,'hi',2.3]) - list <br>\n",
        "type((\"hi\", \"Python\", 2)) - tuple <br>\n",
        "\n",
        "type({1:'Sam', 2:'Alex'}) - dict"
      ],
      "metadata": {
        "id": "O2KR_4htU-9W"
      }
    },
    {
      "cell_type": "markdown",
      "metadata": {
        "id": "etWWTkDySCJG"
      },
      "source": [
        "#### 8. Built in method - isinstance()\n"
      ]
    },
    {
      "cell_type": "markdown",
      "source": [
        "function is used to check an object belongs to a particular class - return Ture/False\n",
        "\n",
        "isinstance({1:'Sam', 2:'Alex'},dict) - True"
      ],
      "metadata": {
        "id": "1X34dPHfVSHW"
      }
    },
    {
      "cell_type": "markdown",
      "metadata": {
        "id": "0ZaEoqGlSCJH"
      },
      "source": [
        "#### 8. Arithmetic Operators"
      ]
    },
    {
      "cell_type": "code",
      "execution_count": null,
      "metadata": {
        "id": "S2EpzuvsSCJI",
        "outputId": "bbfda759-c354-4f3b-81b7-db4fdad93b01"
      },
      "outputs": [
        {
          "name": "stdout",
          "output_type": "stream",
          "text": [
            "Addition: 5+2 = 7\n",
            "Substraction: 5-2 = 3\n",
            "Multiplication: 5*2 = 10\n",
            "Division: 5/2 = 2.5\n",
            "Floor Division: 5//2 = 2\n",
            "Reminder: 5%2 = 1\n",
            "Exponent: 5**2 = 25\n",
            "Concat: 5*'i'+'j' = iiiiij\n"
          ]
        }
      ],
      "source": [
        "print(\"Addition: 5+2 =\",5+2)\n",
        "print(\"Substraction: 5-2 =\",5-2)\n",
        "print(\"Multiplication: 5*2 =\",5*2)\n",
        "print(\"Division: 5/2 =\",5/2)\n",
        "print(\"Floor Division: 5//2 =\",5//2)\n",
        "print(\"Reminder: 5%2 =\",5%2)\n",
        "print(\"Exponent: 5**2 =\",5**2)\n",
        "print(\"Concat: 5*'i'+'j' =\",5*'i'+'j')"
      ]
    },
    {
      "cell_type": "markdown",
      "metadata": {
        "id": "zudWVNlPSCJJ"
      },
      "source": [
        "#### 9. String Operations"
      ]
    },
    {
      "cell_type": "code",
      "execution_count": null,
      "metadata": {
        "id": "qm9I18D6SCJK",
        "outputId": "1fa6b50e-1aa8-48d4-86a5-941295defe79"
      },
      "outputs": [
        {
          "name": "stdout",
          "output_type": "stream",
          "text": [
            "String Concat: 5*'i'+'j' = iiiiij\n",
            "single line string\n",
            "multiline \n",
            "string\n"
          ]
        }
      ],
      "source": [
        "print(\"String Concat: 5*'i'+'j' =\",5*'i'+'j')\n",
        "\n",
        "#Single line String\n",
        "str = \"single line string\"  \n",
        "print(str)\n",
        "\n",
        "str = \"\"\"multiline \n",
        "string\"\"\"  \n",
        "print(str)"
      ]
    },
    {
      "cell_type": "code",
      "execution_count": null,
      "metadata": {
        "id": "ZkFE_ne_SCJL",
        "outputId": "a553913b-a9ee-438a-9f9b-75b166fe9da7"
      },
      "outputs": [
        {
          "name": "stdout",
          "output_type": "stream",
          "text": [
            "Actual String: hey all, Sam is here now\n",
            "Fourth Character: a\n",
            "From 1st to 4th:  ey a\n",
            "From Start to 4th:  hey a\n",
            "From 10th to Last:  am is here now\n",
            "From Last 5th to last 2nd:  e no\n",
            "Reverse:  won ereh si maS ,lla yeh\n"
          ]
        }
      ],
      "source": [
        "str1 = 'hey all, Sam is here now'\n",
        "print(\"Actual String: \"+str1)\n",
        "print(\"Fourth Character: \"+str1[4]) #Retrieving character\n",
        "\n",
        "#Substring\n",
        "print(\"From 1st to 4th: \",str1[1:5])\n",
        "print(\"From Start to 4th: \",str1[:5])\n",
        "print(\"From 10th to Last: \",str1[10:])\n",
        "print(\"From Last 5th to last 2nd: \",str1[-5:-1])\n",
        "\n",
        "#Reversing\n",
        "print(\"Reverse: \",str1[::-1])"
      ]
    },
    {
      "cell_type": "code",
      "execution_count": null,
      "metadata": {
        "id": "ZkDS8JXwSCJM",
        "outputId": "2e2dc9dc-ad77-470c-9b97-d465c3b6c4d9"
      },
      "outputs": [
        {
          "name": "stdout",
          "output_type": "stream",
          "text": [
            "Present in:  True\n",
            "Not Present in:  False\n",
            "First index of substring by index():  9\n",
            "First index of substring by find():  9\n"
          ]
        }
      ],
      "source": [
        "#Search\n",
        "print(\"Present in: \",'Sam' in str1)\n",
        "print(\"Not Present in: \",'Sam' not in str1)\n",
        "print(\"First index of substring by index(): \",str1.index('Sam',0,18)) #Error if not present, index of first occurrence, Start and End index are optional parameters\n",
        "status = str1.find('Sam',0,18) #-1 if not present, Index of first occurrence, Start and End index are optional parameters\n",
        "if(status!=-1): \n",
        "    print(\"First index of substring by find(): \",status)\n",
        "else:\n",
        "    print(\"Item not present\")"
      ]
    },
    {
      "cell_type": "markdown",
      "metadata": {
        "id": "PZWimyWJSCJN"
      },
      "source": [
        "#### 10. Boolean Operations"
      ]
    },
    {
      "cell_type": "code",
      "execution_count": 18,
      "metadata": {
        "id": "Zzj02CrFSCJP",
        "outputId": "49bda414-58d5-4dc4-fe33-ffab40dfbd3f",
        "colab": {
          "base_uri": "https://localhost:8080/"
        }
      },
      "outputs": [
        {
          "output_type": "stream",
          "name": "stdout",
          "text": [
            "Initialize:  False\n",
            "True\n",
            "True\n",
            "Upper Only Case:  False\n",
            "Lower Only Case:  False\n",
            "Contain Only Space:  False\n",
            "Alphanumeric:  True\n",
            "Alphabetic:  True\n",
            "Numeric:  False\n",
            "Numeric  False\n",
            "Have Tile word:  True\n"
          ]
        }
      ],
      "source": [
        "bl = bool() #Declair and Initialize with False value\n",
        "print(\"Initialize: \",bl)\n",
        "\n",
        "my_str = 'Sam is 1st Chief Data Scientist'\n",
        "print(my_str.startswith('Sam')) #test if string startswith 'Sam'\n",
        "print(my_str.endswith('Scientist')) #test if string endswith 'Scientist'\n",
        "print(\"Upper Only Case: \",my_str.isupper())\n",
        "print(\"Lower Only Case: \",my_str.islower())\n",
        "print(\"Contain Only Space: \",my_str.isspace())\n",
        "\n",
        "my_str='Soumyadeep'\n",
        "#For single word    #whitespace is not allowed for these methods\n",
        "print(\"Alphanumeric: \",my_str.isalnum()) \n",
        "print(\"Alphabetic: \",my_str.isalpha())\n",
        "print(\"Numeric: \",my_str.isdigit())\n",
        "print(\"Numeric \",my_str.isnumeric())\n",
        "print(\"Have Tile word: \",my_str.istitle()) #first character is capital"
      ]
    },
    {
      "cell_type": "markdown",
      "source": [
        "#### 11. Conditional Statement (if else)"
      ],
      "metadata": {
        "id": "yCFLlO0aUZnV"
      }
    },
    {
      "cell_type": "code",
      "source": [
        "salary = int(input(\"enter your salary\\n\"))\n",
        "if( salary > 1000):\n",
        "    print(\"you salary is good\")\n",
        "    if salary > 5000 and salary <= 10000:\n",
        "        print(\"i will go with a card nano\")\n",
        "        if True:\n",
        "            print(\"always executable line inside\")\n",
        "    if salary == 10000:\n",
        "        print(\"after somemore i will go with maruti\")\n",
        "    elif salary >10000:\n",
        "        print(\"i will go with maruti\")\n",
        "    elif salary > 50000:\n",
        "        print(\"i wil go with toyota\")\n",
        "    else :\n",
        "        print(\"i will rent a car \")\n",
        "elif salary > 500:\n",
        "    print(\" i will go for bike \")\n",
        "elif salary> 100:\n",
        "    print(\"i will not buy anyting\")\n",
        "else :\n",
        "    print(\"i will go for savinig \")"
      ],
      "metadata": {
        "id": "-b0gx7bdUdrr",
        "colab": {
          "base_uri": "https://localhost:8080/"
        },
        "outputId": "f806ab7f-236c-484b-9088-f0b2d8789a75"
      },
      "execution_count": 20,
      "outputs": [
        {
          "output_type": "stream",
          "name": "stdout",
          "text": [
            "enter your salary\n",
            "10000\n",
            "you salary is good\n",
            "i will go with a card nano\n",
            "always executable line inside\n",
            "after somemore i will go with maruti\n"
          ]
        }
      ]
    },
    {
      "cell_type": "markdown",
      "source": [
        "#### 12. Loop Statement"
      ],
      "metadata": {
        "id": "VFvcnR4AlgEc"
      }
    },
    {
      "cell_type": "markdown",
      "source": [
        "##### 1. while loop"
      ],
      "metadata": {
        "id": "XRYAA3wxlp3F"
      }
    },
    {
      "cell_type": "code",
      "source": [
        ""
      ],
      "metadata": {
        "id": "Y7ad-R4hluA0"
      },
      "execution_count": null,
      "outputs": []
    },
    {
      "cell_type": "markdown",
      "source": [
        "##### 2. for loop"
      ],
      "metadata": {
        "id": "8fZpGwjntjgp"
      }
    },
    {
      "cell_type": "code",
      "source": [
        ""
      ],
      "metadata": {
        "id": "Uyr_s9RUtlKq"
      },
      "execution_count": null,
      "outputs": []
    }
  ],
  "metadata": {
    "kernelspec": {
      "display_name": "Python 3",
      "language": "python",
      "name": "python3"
    },
    "language_info": {
      "codemirror_mode": {
        "name": "ipython",
        "version": 3
      },
      "file_extension": ".py",
      "mimetype": "text/x-python",
      "name": "python",
      "nbconvert_exporter": "python",
      "pygments_lexer": "ipython3",
      "version": "3.8.3"
    },
    "colab": {
      "name": "1. Python.ipynb",
      "provenance": [],
      "include_colab_link": true
    }
  },
  "nbformat": 4,
  "nbformat_minor": 0
}