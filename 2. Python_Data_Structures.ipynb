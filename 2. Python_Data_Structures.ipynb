{
  "nbformat": 4,
  "nbformat_minor": 0,
  "metadata": {
    "colab": {
      "name": "2. Python_Data_Structures.ipynb",
      "provenance": [],
      "authorship_tag": "ABX9TyNV8fO949FNDn+HDQ+AfeXO",
      "include_colab_link": true
    },
    "kernelspec": {
      "name": "python3",
      "display_name": "Python 3"
    },
    "language_info": {
      "name": "python"
    }
  },
  "cells": [
    {
      "cell_type": "markdown",
      "metadata": {
        "id": "view-in-github",
        "colab_type": "text"
      },
      "source": [
        "<a href=\"https://colab.research.google.com/github/SoumyadeepDebnath/Data-Engineering-using-Python/blob/main/2.%20Python_Data_Structures.ipynb\" target=\"_parent\"><img src=\"https://colab.research.google.com/assets/colab-badge.svg\" alt=\"Open In Colab\"/></a>"
      ]
    },
    {
      "cell_type": "markdown",
      "source": [
        "#### 1. List Operations"
      ],
      "metadata": {
        "id": "kTCsFPaKHJ1T"
      }
    },
    {
      "cell_type": "markdown",
      "source": [
        "```\n",
        "Contains data of different types, ordered, mutable and also duplicate elements\n",
        "```"
      ],
      "metadata": {
        "id": "5KIFNey3Hzhc"
      }
    },
    {
      "cell_type": "markdown",
      "source": [
        "##### 1. Initialization"
      ],
      "metadata": {
        "id": "yN13M9U52uiq"
      }
    },
    {
      "cell_type": "code",
      "execution_count": 125,
      "metadata": {
        "colab": {
          "base_uri": "https://localhost:8080/"
        },
        "id": "IngnwRoxG86S",
        "outputId": "56c3475d-aecd-4444-a8b5-3a0a6db72c0a"
      },
      "outputs": [
        {
          "output_type": "stream",
          "name": "stdout",
          "text": [
            "[]\n",
            "[]\n",
            "[0, 2, 4, 6, 8]\n",
            "['S', 'a', 'm']\n",
            "Type:  <class 'list'>\n"
          ]
        }
      ],
      "source": [
        "#Initialized empty\n",
        "lst = list()\n",
        "print(lst)\n",
        "lst = []\n",
        "print(lst)\n",
        "\n",
        "#Declairation with Initialization\n",
        "lst = list(range(0,10,2))\n",
        "print(lst)\n",
        "\n",
        "print(list(\"Sam\"))\n",
        "\n",
        "print(\"Type: \",type(lst)) #Type"
      ]
    },
    {
      "cell_type": "code",
      "source": [
        "#Mutable\n",
        "print(\"Before:\",lst)\n",
        "lst[0] = 10 \n",
        "print(\"After:\",lst)"
      ],
      "metadata": {
        "colab": {
          "base_uri": "https://localhost:8080/"
        },
        "id": "RR_K8J58tyLk",
        "outputId": "a02d2a8b-d1f1-41ab-ce37-cfda5ea06836"
      },
      "execution_count": 126,
      "outputs": [
        {
          "output_type": "stream",
          "name": "stdout",
          "text": [
            "Before: [0, 2, 4, 6, 8]\n",
            "After: [10, 2, 4, 6, 8]\n"
          ]
        }
      ]
    },
    {
      "cell_type": "code",
      "source": [
        "lst=['Sam',100,200.9,True,['python','r']]\n",
        "print(\"Original List: \",lst)\n",
        "#size\n",
        "print(\"Size/Length: \",len(lst))\n",
        "\n",
        "#Retrieving element\n",
        "print(\"First character from left: \",lst[0]) #positive index\n",
        "print(\"First character from right/Last character: \",lst[-1]) #negative index"
      ],
      "metadata": {
        "colab": {
          "base_uri": "https://localhost:8080/"
        },
        "id": "hn002dfEHXx0",
        "outputId": "3129a974-fb40-46eb-cfa1-28922a247917"
      },
      "execution_count": 127,
      "outputs": [
        {
          "output_type": "stream",
          "name": "stdout",
          "text": [
            "Original List:  ['Sam', 100, 200.9, True, ['python', 'r']]\n",
            "Size/Length:  5\n",
            "First character from left:  Sam\n",
            "First character from right/Last character:  ['python', 'r']\n"
          ]
        }
      ]
    },
    {
      "cell_type": "markdown",
      "source": [
        "##### 2. Remove"
      ],
      "metadata": {
        "id": "X4TqAsM22mGN"
      }
    },
    {
      "cell_type": "code",
      "source": [
        "print(\"Original List: \",lst)\n",
        "\n",
        "lst.remove('Sam') #remove first for more than one matching value & error for nonexistent value\n",
        "print(\"After remove:\\n\",lst)\n",
        "\n",
        "lst.pop() #default remove item from last end\n",
        "lst.pop(2) #del lst[2] #remove item from particular positive index\n",
        "lst.pop(-1) #del lst[-1] #remove item from particular negative index\n",
        "#error for wrong index\n",
        "print(\"After pop:\\n\",lst)\n",
        "\n",
        "lst.clear() #Remove all items\n",
        "print(\"After clear:\\n\",lst)"
      ],
      "metadata": {
        "colab": {
          "base_uri": "https://localhost:8080/"
        },
        "id": "ZyPkMO1dHdNu",
        "outputId": "c78382b8-facb-491d-d38b-33c7094f9b79"
      },
      "execution_count": 128,
      "outputs": [
        {
          "output_type": "stream",
          "name": "stdout",
          "text": [
            "Original List:  ['Sam', 100, 200.9, True, ['python', 'r']]\n",
            "After remove:\n",
            " [100, 200.9, True, ['python', 'r']]\n",
            "After pop:\n",
            " [100]\n",
            "After clear:\n",
            " []\n"
          ]
        }
      ]
    },
    {
      "cell_type": "markdown",
      "source": [
        "##### 3. Add"
      ],
      "metadata": {
        "id": "pxZyz3y72fVH"
      }
    },
    {
      "cell_type": "code",
      "source": [
        "#add any object (as it is) at the end\n",
        "lst = [1,2,3]\n",
        "lst.append(0)\n",
        "lst.append(\"appended item\")\n",
        "lst.append([4,5])\n",
        "lst.append((6,7))\n",
        "print(\"After Insertion:\\n\",lst)"
      ],
      "metadata": {
        "colab": {
          "base_uri": "https://localhost:8080/"
        },
        "id": "5U8G3_5cM03z",
        "outputId": "e467ce4c-41fb-4b82-b0fb-bad897d846f1"
      },
      "execution_count": 129,
      "outputs": [
        {
          "output_type": "stream",
          "name": "stdout",
          "text": [
            "After Insertion:\n",
            " [1, 2, 3, 0, 'appended item', [4, 5], (6, 7)]\n"
          ]
        }
      ]
    },
    {
      "cell_type": "code",
      "source": [
        "#add any object (as it is) at particular index\n",
        "lst = [1,2,3]\n",
        "lst.insert(2,0)\n",
        "lst.insert(2,\"interted item at 2nd index\")\n",
        "lst.insert(2,[4,5])\n",
        "lst.insert(2,(6,7))\n",
        "print(\"After Insertion:\\n\",lst)"
      ],
      "metadata": {
        "colab": {
          "base_uri": "https://localhost:8080/"
        },
        "id": "hP_EnWwcQUwB",
        "outputId": "83d7aa28-5b9e-4901-9cd0-0f16098f1cd1"
      },
      "execution_count": 130,
      "outputs": [
        {
          "output_type": "stream",
          "name": "stdout",
          "text": [
            "After Insertion:\n",
            " [1, 2, (6, 7), [4, 5], 'interted item at 2nd index', 0, 3]\n"
          ]
        }
      ]
    },
    {
      "cell_type": "code",
      "source": [
        "#Add only iterable object (list, tuple, string - list of characters) in the end\n",
        "#Return merged list\n",
        "lst = [1,2,3]\n",
        "#lst.extend(0) - error coz integer, float, complex, boolean are not iterable objects\n",
        "lst.extend(\"Sam\")\n",
        "lst.extend([\"Sam\"])\n",
        "lst.extend((\"Sam\"))\n",
        "lst.extend((\"Deb\",\"Deep\"))\n",
        "print(\"After Insertion:\\n\",lst)"
      ],
      "metadata": {
        "colab": {
          "base_uri": "https://localhost:8080/"
        },
        "id": "D2WTCBZhHbYi",
        "outputId": "276b636f-5a7a-4d86-a81b-27d670c69d2c"
      },
      "execution_count": 131,
      "outputs": [
        {
          "output_type": "stream",
          "name": "stdout",
          "text": [
            "After Insertion:\n",
            " [1, 2, 3, 'S', 'a', 'm', 'Sam', 'S', 'a', 'm', 'Deb', 'Deep']\n"
          ]
        }
      ]
    },
    {
      "cell_type": "markdown",
      "source": [
        "##### 4. List Operations"
      ],
      "metadata": {
        "id": "mAifNaV42J5h"
      }
    },
    {
      "cell_type": "code",
      "source": [
        "lst=[0,1,2,3,4,5,5]\n",
        "print(\"Original List: \",lst)"
      ],
      "metadata": {
        "colab": {
          "base_uri": "https://localhost:8080/"
        },
        "id": "jtL5WlAv2Pjx",
        "outputId": "61721f28-edd8-4827-8252-501d2a257dcb"
      },
      "execution_count": 132,
      "outputs": [
        {
          "output_type": "stream",
          "name": "stdout",
          "text": [
            "Original List:  [0, 1, 2, 3, 4, 5, 5]\n"
          ]
        }
      ]
    },
    {
      "cell_type": "code",
      "source": [
        "print(\"Sum of all items: \",sum(lst)) #If all items are numbers\n",
        "print(\"Occurance of 5: \",lst.count(5)) #Occurance of an item\n",
        "print(\"Max:\",max(lst),\"and Min:\",min(lst)) #Max and Min item"
      ],
      "metadata": {
        "colab": {
          "base_uri": "https://localhost:8080/"
        },
        "id": "3hGaEcUq2Rjy",
        "outputId": "f218fe20-6da7-4428-b853-eba53f1f184e"
      },
      "execution_count": 133,
      "outputs": [
        {
          "output_type": "stream",
          "name": "stdout",
          "text": [
            "Sum of all items:  20\n",
            "Occurance of 5:  2\n",
            "Max: 5 and Min: 0\n"
          ]
        }
      ]
    },
    {
      "cell_type": "code",
      "source": [
        "print(\"Concatination: \",lst+lst) #Concatination\n",
        "print(\"Repetation: \",lst*3) #Repetation\n",
        "print(\"Slicing from 1 to 4 index (positive index):: \",lst[1:5]) #Slicing with positive index\n",
        "print(\"Slicing from 1 to 4 index (negative index): \",lst[-6:-2]) #Slicing with negative index\n",
        "print(\"Slicing with 2 step from start to end: \",lst[0:len(lst):2]) #Slicing with step\n",
        "print(\"Reverse Slicing: \",lst[6:1:-2]) #Negative step\n",
        "print(\"Reverse: \",lst[::-1]) #Reverse"
      ],
      "metadata": {
        "colab": {
          "base_uri": "https://localhost:8080/"
        },
        "id": "bqHmkB-22VSJ",
        "outputId": "5118ef35-d840-4b05-9e06-318337a24e82"
      },
      "execution_count": 134,
      "outputs": [
        {
          "output_type": "stream",
          "name": "stdout",
          "text": [
            "Concatination:  [0, 1, 2, 3, 4, 5, 5, 0, 1, 2, 3, 4, 5, 5]\n",
            "Repetation:  [0, 1, 2, 3, 4, 5, 5, 0, 1, 2, 3, 4, 5, 5, 0, 1, 2, 3, 4, 5, 5]\n",
            "Slicing from 1 to 4 index (positive index)::  [1, 2, 3, 4]\n",
            "Slicing from 1 to 4 index (negative index):  [1, 2, 3, 4]\n",
            "Slicing with 2 step from start to end:  [0, 2, 4, 5]\n",
            "Reverse Slicing:  [5, 4, 2]\n",
            "Reverse:  [5, 5, 4, 3, 2, 1, 0]\n"
          ]
        }
      ]
    },
    {
      "cell_type": "code",
      "source": [
        "print(\"Wrong Slicing (Always empty):\")\n",
        "print(\"lst[4:1] - \",lst[4:1])\n",
        "print(\"lst[6:1:2] - \",lst[6:1:2])\n",
        "print(\"lst[1:6:-2] - \",lst[1:6:-2])"
      ],
      "metadata": {
        "colab": {
          "base_uri": "https://localhost:8080/"
        },
        "id": "AEYFfTL5Hf3w",
        "outputId": "362d312f-bfa6-4f1f-aa4b-87fc0c69b6dd"
      },
      "execution_count": 135,
      "outputs": [
        {
          "output_type": "stream",
          "name": "stdout",
          "text": [
            "Wrong Slicing (Always empty):\n",
            "lst[4:1] -  []\n",
            "lst[6:1:2] -  []\n",
            "lst[1:6:-2] -  []\n"
          ]
        }
      ]
    },
    {
      "cell_type": "markdown",
      "source": [
        "##### 5. Search"
      ],
      "metadata": {
        "id": "4LUqy8Vw2A-5"
      }
    },
    {
      "cell_type": "code",
      "source": [
        "print(\"Original List:\",lst)"
      ],
      "metadata": {
        "colab": {
          "base_uri": "https://localhost:8080/"
        },
        "id": "nzF9B_3_9jSo",
        "outputId": "8474abf8-4d46-4266-cc1b-ef8a168e7cb3"
      },
      "execution_count": 136,
      "outputs": [
        {
          "output_type": "stream",
          "name": "stdout",
          "text": [
            "Original List: [0, 1, 2, 3, 4, 5, 5]\n"
          ]
        }
      ]
    },
    {
      "cell_type": "code",
      "source": [
        "#return boolean - True/False\n",
        "print(\"5 Present in: \",5 in lst)\n",
        "print(\"5 Not Present in: \",5 not in lst)"
      ],
      "metadata": {
        "colab": {
          "base_uri": "https://localhost:8080/"
        },
        "id": "KKRVmrnR6R_g",
        "outputId": "e089633d-350b-46bb-8274-11c1fad59bb5"
      },
      "execution_count": 137,
      "outputs": [
        {
          "output_type": "stream",
          "name": "stdout",
          "text": [
            "5 Present in:  True\n",
            "5 Not Present in:  False\n"
          ]
        }
      ]
    },
    {
      "cell_type": "code",
      "source": [
        "#Error if not present, return index of first occurrence, Start and End index are optional parameters\n",
        "print(\"Index of 5: \",lst.index(5,1,6)) #Error if not present"
      ],
      "metadata": {
        "colab": {
          "base_uri": "https://localhost:8080/"
        },
        "id": "799c8RPAHkKx",
        "outputId": "3c819f35-db89-4118-eef5-c7fe7f5c2c8a"
      },
      "execution_count": 138,
      "outputs": [
        {
          "output_type": "stream",
          "name": "stdout",
          "text": [
            "Index of 5:  5\n"
          ]
        }
      ]
    },
    {
      "cell_type": "code",
      "source": [
        "#find() method is only for string, not other sequences"
      ],
      "metadata": {
        "id": "ZdPsobF464K5"
      },
      "execution_count": 139,
      "outputs": []
    },
    {
      "cell_type": "markdown",
      "source": [
        "##### 6. Sort"
      ],
      "metadata": {
        "id": "G1uwppW01yL7"
      }
    },
    {
      "cell_type": "code",
      "source": [
        "#sort() - changes the list directly and doesn't return any value\n",
        "print(\"By sort() method -\")\n",
        "vowels = ['u','a','i','e','o']\n",
        "print(\"Actual List: \",vowels)\n",
        "vowels.sort() #Default Ascending order\n",
        "print(\"Ascending Order: \",vowels)\n",
        "vowels.sort(reverse=True) #Descending order\n",
        "print(\"Descending Order: \",vowels)"
      ],
      "metadata": {
        "colab": {
          "base_uri": "https://localhost:8080/"
        },
        "id": "N5In-lpa17ER",
        "outputId": "34d3d7d0-00ef-4815-b090-d996de5aad1e"
      },
      "execution_count": 140,
      "outputs": [
        {
          "output_type": "stream",
          "name": "stdout",
          "text": [
            "By sort() method -\n",
            "Actual List:  ['u', 'a', 'i', 'e', 'o']\n",
            "Ascending Order:  ['a', 'e', 'i', 'o', 'u']\n",
            "Descending Order:  ['u', 'o', 'i', 'e', 'a']\n"
          ]
        }
      ]
    },
    {
      "cell_type": "code",
      "source": [
        "#sorted() - doesn't change the list directly and returns the sorted value\n",
        "print(\"By sorted() method -\")\n",
        "vowels = ['u','a','i','e','o']\n",
        "print(\"Actual List: \",vowels)\n",
        "vowels1 = sorted(vowels) #Default Ascending order\n",
        "print(\"Ascending Order: \",vowels1)\n",
        "vowels2 = sorted(vowels,reverse=True) #Descending order\n",
        "print(\"Descending Order: \",vowels2)"
      ],
      "metadata": {
        "colab": {
          "base_uri": "https://localhost:8080/"
        },
        "id": "LyEpQKVaHmFN",
        "outputId": "165b65c9-6a14-4c09-baea-9810b3847d46"
      },
      "execution_count": 141,
      "outputs": [
        {
          "output_type": "stream",
          "name": "stdout",
          "text": [
            "By sorted() method -\n",
            "Actual List:  ['u', 'a', 'i', 'e', 'o']\n",
            "Ascending Order:  ['a', 'e', 'i', 'o', 'u']\n",
            "Descending Order:  ['u', 'o', 'i', 'e', 'a']\n"
          ]
        }
      ]
    },
    {
      "cell_type": "markdown",
      "source": [
        "##### 7. Delete"
      ],
      "metadata": {
        "id": "BcbnnFbNFTT8"
      }
    },
    {
      "cell_type": "code",
      "source": [
        "lst=[0,1,2,3,4,5,5]\n",
        "print(\"List before delete: \",lst)\n",
        "del(lst)\n",
        "#print(\"After: \",lst) - error coz deleted"
      ],
      "metadata": {
        "colab": {
          "base_uri": "https://localhost:8080/"
        },
        "id": "H1CzJ4c5FV5q",
        "outputId": "ed7e3ac5-d67c-4cb7-9e04-55a0e65f7056"
      },
      "execution_count": 142,
      "outputs": [
        {
          "output_type": "stream",
          "name": "stdout",
          "text": [
            "List before delete:  [0, 1, 2, 3, 4, 5, 5]\n"
          ]
        }
      ]
    },
    {
      "cell_type": "markdown",
      "source": [
        "##### Comprehension"
      ],
      "metadata": {
        "id": "rLV02xxQb_HW"
      }
    },
    {
      "cell_type": "markdown",
      "source": [
        "***1. only loop:***\n",
        "```\n",
        "Syntax: newlist = [expression for item in iterable]\n",
        "```"
      ],
      "metadata": {
        "id": "IDDkVcWSdv1C"
      }
    },
    {
      "cell_type": "code",
      "source": [
        "lst = [1,2,3,4,5]\n",
        "\n",
        "#Instead of this\n",
        "lst1 = []\n",
        "for i in \"Soumya\":\n",
        "    lst1.append(list(i))\n",
        "print(lst1)\n",
        "\n",
        "#Do this\n",
        "lst1 = [list(i) for i in \"Soumya\"]\n",
        "print(lst1)"
      ],
      "metadata": {
        "colab": {
          "base_uri": "https://localhost:8080/"
        },
        "id": "5HtTgBr2cBMu",
        "outputId": "7031f380-72c0-4ff1-a20a-3103006acc2d"
      },
      "execution_count": 143,
      "outputs": [
        {
          "output_type": "stream",
          "name": "stdout",
          "text": [
            "[['S'], ['o'], ['u'], ['m'], ['y'], ['a']]\n",
            "[['S'], ['o'], ['u'], ['m'], ['y'], ['a']]\n"
          ]
        }
      ]
    },
    {
      "cell_type": "code",
      "source": [
        "#Instead of this\n",
        "lst = []\n",
        "for i in range(3):\n",
        "    lst.append([])\n",
        "    for j in range(3):\n",
        "        lst[i].append(j)\n",
        "print(lst)\n",
        "\n",
        "#Do this\n",
        "lst = [[j for j in range(3)] for i in range(3)]\n",
        "print(lst)"
      ],
      "metadata": {
        "colab": {
          "base_uri": "https://localhost:8080/"
        },
        "id": "FkSigiMej68n",
        "outputId": "a6ff8c6f-d8bd-4020-cb8a-35c4b14d2993"
      },
      "execution_count": 144,
      "outputs": [
        {
          "output_type": "stream",
          "name": "stdout",
          "text": [
            "[[0, 1, 2], [0, 1, 2], [0, 1, 2]]\n",
            "[[0, 1, 2], [0, 1, 2], [0, 1, 2]]\n"
          ]
        }
      ]
    },
    {
      "cell_type": "markdown",
      "source": [
        "***2. loop with if:***\n",
        "```\n",
        "Syntax: newlist = [expression for item in iterable if condition == True]\n",
        "```"
      ],
      "metadata": {
        "id": "FmqARZ4shclU"
      }
    },
    {
      "cell_type": "code",
      "source": [
        "#Instead of this\n",
        "lst = []\n",
        "for i in range(10) :\n",
        "    if (i%2 ==0):\n",
        "        lst.append(i)\n",
        "print(lst)\n",
        "\n",
        "#Do this\n",
        "lst = [i for i in range(10) if(i%2 == 0)]\n",
        "print(lst)"
      ],
      "metadata": {
        "colab": {
          "base_uri": "https://localhost:8080/"
        },
        "id": "qJI6G2P5dKIV",
        "outputId": "bf24561d-0f5b-4076-fde6-04316bba6d7d"
      },
      "execution_count": 145,
      "outputs": [
        {
          "output_type": "stream",
          "name": "stdout",
          "text": [
            "[0, 2, 4, 6, 8]\n",
            "[0, 2, 4, 6, 8]\n"
          ]
        }
      ]
    },
    {
      "cell_type": "code",
      "source": [
        "#Instead of this\n",
        "lst = []\n",
        "for i in range(10) :\n",
        "    if i % 2 == 0 :\n",
        "        if i % 3 == 0 :\n",
        "            lst.append(i)\n",
        "print(lst)\n",
        "\n",
        "#Do this\n",
        "lst = [i for i in range(10) if(i%2 == 0) if(i%3 == 0)]\n",
        "print(lst)"
      ],
      "metadata": {
        "colab": {
          "base_uri": "https://localhost:8080/"
        },
        "id": "FWyg88jkkZQx",
        "outputId": "017d0d12-6a31-4536-c3d7-3343dea7ba2b"
      },
      "execution_count": 146,
      "outputs": [
        {
          "output_type": "stream",
          "name": "stdout",
          "text": [
            "[0, 6]\n",
            "[0, 6]\n"
          ]
        }
      ]
    },
    {
      "cell_type": "markdown",
      "source": [
        "***3. loop with if else:***\n",
        "```\n",
        "Syntax: newlist = [expression1 if condition == True else expression2 for item in iterable]\n",
        "```"
      ],
      "metadata": {
        "id": "ok8MVCKWhh7W"
      }
    },
    {
      "cell_type": "code",
      "source": [
        "#Instead of this\n",
        "lst = []\n",
        "for i in range(10):\n",
        "    if (i%2 != 0):\n",
        "        lst.append(\"odd\")\n",
        "    else :\n",
        "        lst.append(\"even\")\n",
        "print(lst)\n",
        "\n",
        "#Do this\n",
        "lst = [\"odd\" if(i%2 != 0) else \"even\" for i in range(10)]\n",
        "print(lst)"
      ],
      "metadata": {
        "colab": {
          "base_uri": "https://localhost:8080/"
        },
        "id": "rvYZk8a2fJCA",
        "outputId": "56bcd797-6514-4aad-cb1b-4c84b524a40f"
      },
      "execution_count": 147,
      "outputs": [
        {
          "output_type": "stream",
          "name": "stdout",
          "text": [
            "['even', 'odd', 'even', 'odd', 'even', 'odd', 'even', 'odd', 'even', 'odd']\n",
            "['even', 'odd', 'even', 'odd', 'even', 'odd', 'even', 'odd', 'even', 'odd']\n"
          ]
        }
      ]
    },
    {
      "cell_type": "code",
      "source": [
        "#Instead of this\n",
        "lst = [0, 1, 2, 3, 4]\n",
        "lst1 = []\n",
        "for i in lst :\n",
        "    if i == 1 :\n",
        "        lst1.append(\"yes\")\n",
        "    elif i ==2 :\n",
        "        lst1.append(\"no\")\n",
        "    else :\n",
        "        lst1.append(\"test\")\n",
        "print(lst1)\n",
        "\n",
        "#Do this\n",
        "lst1 = [\"yes\" if(i == 1) else \"no\" if(i == 2) else \"test\" for i in lst]\n",
        "print(lst1)"
      ],
      "metadata": {
        "colab": {
          "base_uri": "https://localhost:8080/"
        },
        "id": "hZh7s4XRk4Pr",
        "outputId": "dea6cfa9-c8b6-43bc-d7a3-ebb188062962"
      },
      "execution_count": 148,
      "outputs": [
        {
          "output_type": "stream",
          "name": "stdout",
          "text": [
            "['test', 'yes', 'no', 'test', 'test']\n",
            "['test', 'yes', 'no', 'test', 'test']\n"
          ]
        }
      ]
    },
    {
      "cell_type": "markdown",
      "source": [
        "#### 2. Tuple Operations"
      ],
      "metadata": {
        "id": "sw5mr6DnHu91"
      }
    },
    {
      "cell_type": "markdown",
      "source": [
        "```\n",
        "Contains data of different types, ordered, but **immutable** (can't modify the size of tuple and value of the any element) and also duplicate elements\n",
        "```"
      ],
      "metadata": {
        "id": "fqRj1ypxPdAg"
      }
    },
    {
      "cell_type": "markdown",
      "source": [
        "##### 1. Initialization"
      ],
      "metadata": {
        "id": "yVCEPYziJjMm"
      }
    },
    {
      "cell_type": "code",
      "source": [
        "#Initialized empty\n",
        "tup = tuple()\n",
        "print(tup)\n",
        "tup=() \n",
        "print(tup)\n",
        "\n",
        "#Declairation with Initialization\n",
        "tup = tuple(range(0,10,2))\n",
        "print(tup)\n",
        "\n",
        "print(tuple(\"Sam\"))\n",
        "\n",
        "print(\"Type: \",type(tup)) #Type"
      ],
      "metadata": {
        "id": "HOvBBb8kHwtB",
        "colab": {
          "base_uri": "https://localhost:8080/"
        },
        "outputId": "66eac2af-fa65-4c2e-9c5c-507ba985e876"
      },
      "execution_count": 149,
      "outputs": [
        {
          "output_type": "stream",
          "name": "stdout",
          "text": [
            "()\n",
            "()\n",
            "(0, 2, 4, 6, 8)\n",
            "('S', 'a', 'm')\n",
            "Type:  <class 'tuple'>\n"
          ]
        }
      ]
    },
    {
      "cell_type": "code",
      "source": [
        "#Immutable\n",
        "print(\"Before:\",tup)\n",
        "#tup[0] = 10 - error\n",
        "print(\"After:\",tup)"
      ],
      "metadata": {
        "colab": {
          "base_uri": "https://localhost:8080/"
        },
        "id": "-AGZh7pN6T1U",
        "outputId": "cd9657f7-7c79-4a2f-bd91-215fcdf211dd"
      },
      "execution_count": 150,
      "outputs": [
        {
          "output_type": "stream",
          "name": "stdout",
          "text": [
            "Before: (0, 2, 4, 6, 8)\n",
            "After: (0, 2, 4, 6, 8)\n"
          ]
        }
      ]
    },
    {
      "cell_type": "code",
      "source": [
        "tup=('Sam',100,200.9,True,['python','r'])\n",
        "print(\"Original Tuple: \",tup)\n",
        "#size\n",
        "print(\"Size/Length: \",len(tup))\n",
        "\n",
        "#Retrieving element\n",
        "print(\"First character from left: \",tup[0]) #positive index\n",
        "print(\"First character from right/Last character: \",tup[-1]) #negative index"
      ],
      "metadata": {
        "colab": {
          "base_uri": "https://localhost:8080/"
        },
        "id": "KR2wvE9hJG7u",
        "outputId": "be1057cc-38e1-4673-8ae4-302f79a92a09"
      },
      "execution_count": 151,
      "outputs": [
        {
          "output_type": "stream",
          "name": "stdout",
          "text": [
            "Original Tuple:  ('Sam', 100, 200.9, True, ['python', 'r'])\n",
            "Size/Length:  5\n",
            "First character from left:  Sam\n",
            "First character from right/Last character:  ['python', 'r']\n"
          ]
        }
      ]
    },
    {
      "cell_type": "markdown",
      "source": [
        "##### 2. Remove - (not possible)"
      ],
      "metadata": {
        "id": "cFOZAmYzJlh4"
      }
    },
    {
      "cell_type": "markdown",
      "source": [
        "```\n",
        "remove(), pop(), del, clear() - not possible due to immutability\n",
        "```"
      ],
      "metadata": {
        "id": "WCvBiyOzBf2z"
      }
    },
    {
      "cell_type": "markdown",
      "source": [
        "##### 3. Add - (not possible)"
      ],
      "metadata": {
        "id": "j0Dm5eP075pv"
      }
    },
    {
      "cell_type": "markdown",
      "source": [
        "```\n",
        "append(), insert(), extend() - not possible due to immutability\n",
        "```"
      ],
      "metadata": {
        "id": "P7vfywln8oZ5"
      }
    },
    {
      "cell_type": "markdown",
      "source": [
        "##### 4. Tuple Operations"
      ],
      "metadata": {
        "id": "KZOocMJC653A"
      }
    },
    {
      "cell_type": "code",
      "source": [
        "tup=(0,1,2,3,4,5,5)\n",
        "print(\"Original Tuple: \",tup)"
      ],
      "metadata": {
        "colab": {
          "base_uri": "https://localhost:8080/"
        },
        "outputId": "f4915350-01ab-4341-9f1a-1ba82d6911b9",
        "id": "YEjbY686653D"
      },
      "execution_count": 152,
      "outputs": [
        {
          "output_type": "stream",
          "name": "stdout",
          "text": [
            "Original Tuple:  (0, 1, 2, 3, 4, 5, 5)\n"
          ]
        }
      ]
    },
    {
      "cell_type": "code",
      "source": [
        "print(\"Sum of all items: \",sum(tup)) #If all items are numbers\n",
        "print(\"Occurance of 5: \",tup.count(5)) #Occurance of an item\n",
        "print(\"Max:\",max(tup),\"and Min:\",min(tup)) #Max and Min item"
      ],
      "metadata": {
        "colab": {
          "base_uri": "https://localhost:8080/"
        },
        "outputId": "74aabe27-540b-4208-9c69-6cddf4ce3901",
        "id": "9AKuTrkN653H"
      },
      "execution_count": 153,
      "outputs": [
        {
          "output_type": "stream",
          "name": "stdout",
          "text": [
            "Sum of all items:  20\n",
            "Occurance of 5:  2\n",
            "Max: 5 and Min: 0\n"
          ]
        }
      ]
    },
    {
      "cell_type": "code",
      "source": [
        "print(\"Concatination: \",tup+tup) #Concatination\n",
        "print(\"Repetation: \",tup*3) #Repetation\n",
        "print(\"Slicing from 1 to 4 index (positive index):: \",tup[1:5]) #Slicing with positive index\n",
        "print(\"Slicing from 1 to 4 index (negative index): \",tup[-6:-2]) #Slicing with negative index\n",
        "print(\"Slicing with 2 step from start to end: \",tup[0:len(tup):2]) #Slicing with step\n",
        "print(\"Reverse Slicing: \",tup[6:1:-2]) #Negative step\n",
        "print(\"Reverse: \",tup[::-1]) #Reverse"
      ],
      "metadata": {
        "colab": {
          "base_uri": "https://localhost:8080/"
        },
        "outputId": "af9f778f-b999-4640-d719-d74e352b8ff6",
        "id": "VXcd85Hj653I"
      },
      "execution_count": 154,
      "outputs": [
        {
          "output_type": "stream",
          "name": "stdout",
          "text": [
            "Concatination:  (0, 1, 2, 3, 4, 5, 5, 0, 1, 2, 3, 4, 5, 5)\n",
            "Repetation:  (0, 1, 2, 3, 4, 5, 5, 0, 1, 2, 3, 4, 5, 5, 0, 1, 2, 3, 4, 5, 5)\n",
            "Slicing from 1 to 4 index (positive index)::  (1, 2, 3, 4)\n",
            "Slicing from 1 to 4 index (negative index):  (1, 2, 3, 4)\n",
            "Slicing with 2 step from start to end:  (0, 2, 4, 5)\n",
            "Reverse Slicing:  (5, 4, 2)\n",
            "Reverse:  (5, 5, 4, 3, 2, 1, 0)\n"
          ]
        }
      ]
    },
    {
      "cell_type": "code",
      "source": [
        "print(\"Wrong Slicing (Always empty):\")\n",
        "print(\"tup[4:1] - \",tup[4:1])\n",
        "print(\"tup[6:1:2] - \",tup[6:1:2])\n",
        "print(\"tup[1:6:-2] - \",tup[1:6:-2])"
      ],
      "metadata": {
        "colab": {
          "base_uri": "https://localhost:8080/"
        },
        "outputId": "c589d35f-6a8b-49d7-be6b-897619e6668f",
        "id": "wAPA2uCp653J"
      },
      "execution_count": 155,
      "outputs": [
        {
          "output_type": "stream",
          "name": "stdout",
          "text": [
            "Wrong Slicing (Always empty):\n",
            "tup[4:1] -  ()\n",
            "tup[6:1:2] -  ()\n",
            "tup[1:6:-2] -  ()\n"
          ]
        }
      ]
    },
    {
      "cell_type": "markdown",
      "source": [
        "##### 5. Search"
      ],
      "metadata": {
        "id": "a8tgGj8R8AiV"
      }
    },
    {
      "cell_type": "code",
      "source": [
        "print(\"Original Tuple: \",tup)"
      ],
      "metadata": {
        "colab": {
          "base_uri": "https://localhost:8080/"
        },
        "id": "FtNYz0Qe9InG",
        "outputId": "825fbe2b-e7ab-4546-c6a8-e0c0d8d7ccc8"
      },
      "execution_count": 156,
      "outputs": [
        {
          "output_type": "stream",
          "name": "stdout",
          "text": [
            "Original Tuple:  (0, 1, 2, 3, 4, 5, 5)\n"
          ]
        }
      ]
    },
    {
      "cell_type": "code",
      "source": [
        "#return boolean - True/False\n",
        "print(\"5 Present in: \",5 in tup)\n",
        "print(\"5 Not Present in: \",5 not in tup)"
      ],
      "metadata": {
        "colab": {
          "base_uri": "https://localhost:8080/"
        },
        "outputId": "772227d1-1f36-414a-894e-0b1f08d04979",
        "id": "YclQluso8AiZ"
      },
      "execution_count": 157,
      "outputs": [
        {
          "output_type": "stream",
          "name": "stdout",
          "text": [
            "5 Present in:  True\n",
            "5 Not Present in:  False\n"
          ]
        }
      ]
    },
    {
      "cell_type": "code",
      "source": [
        "#Error if not present, return index of first occurrence, Start and End index are optional parameters\n",
        "print(\"Index of 5: \",tup.index(5,1,6)) #Error if not present"
      ],
      "metadata": {
        "colab": {
          "base_uri": "https://localhost:8080/"
        },
        "outputId": "3a4c0215-4e90-4a41-cab0-d9e6e93a9267",
        "id": "gDPx9HbS8Aic"
      },
      "execution_count": 158,
      "outputs": [
        {
          "output_type": "stream",
          "name": "stdout",
          "text": [
            "Index of 5:  5\n"
          ]
        }
      ]
    },
    {
      "cell_type": "code",
      "source": [
        "#find() method is only for string, not other sequences"
      ],
      "metadata": {
        "id": "GgARlPvf8Aif"
      },
      "execution_count": 159,
      "outputs": []
    },
    {
      "cell_type": "markdown",
      "source": [
        "##### 6. Sort"
      ],
      "metadata": {
        "id": "OjiDYTSl9zZA"
      }
    },
    {
      "cell_type": "code",
      "source": [
        "#sort() - method is only for list, not for tuple"
      ],
      "metadata": {
        "id": "Nl875XS09zZC"
      },
      "execution_count": 160,
      "outputs": []
    },
    {
      "cell_type": "code",
      "source": [
        "#sorted() - doesn't change the tuple directly and returns the sorted value\n",
        "print(\"By sorted() method -\")\n",
        "vowels = ('u','a','i','e','o')\n",
        "print(\"Actual Tuple: \",vowels)\n",
        "vowels1 = sorted(vowels) #Default Ascending order\n",
        "print(\"Ascending Order: \",vowels1)\n",
        "vowels2 = sorted(vowels,reverse=True) #Descending order\n",
        "print(\"Descending Order: \",vowels2)"
      ],
      "metadata": {
        "colab": {
          "base_uri": "https://localhost:8080/"
        },
        "outputId": "3a1e1d2c-3b83-4598-d7da-f3681e250525",
        "id": "ejXmVQM79zZD"
      },
      "execution_count": 161,
      "outputs": [
        {
          "output_type": "stream",
          "name": "stdout",
          "text": [
            "By sorted() method -\n",
            "Actual Tuple:  ('u', 'a', 'i', 'e', 'o')\n",
            "Ascending Order:  ['a', 'e', 'i', 'o', 'u']\n",
            "Descending Order:  ['u', 'o', 'i', 'e', 'a']\n"
          ]
        }
      ]
    },
    {
      "cell_type": "markdown",
      "source": [
        "##### 7. Delete"
      ],
      "metadata": {
        "id": "rJ-CphVrFzmf"
      }
    },
    {
      "cell_type": "code",
      "source": [
        "tup=(0,1,2,3,4,5,5)\n",
        "print(\"Tuple before delete: \",tup)\n",
        "del(tup)\n",
        "#print(\"After: \",tup) - error coz deleted"
      ],
      "metadata": {
        "colab": {
          "base_uri": "https://localhost:8080/"
        },
        "outputId": "db0425d7-0bf0-4f54-99e0-c4e1fed3ff10",
        "id": "zS_f8dVSFzmg"
      },
      "execution_count": 162,
      "outputs": [
        {
          "output_type": "stream",
          "name": "stdout",
          "text": [
            "Tuple before delete:  (0, 1, 2, 3, 4, 5, 5)\n"
          ]
        }
      ]
    },
    {
      "cell_type": "markdown",
      "source": [
        "#### 3. Set Operations"
      ],
      "metadata": {
        "id": "05Zb9QVrO6-V"
      }
    },
    {
      "cell_type": "markdown",
      "source": [
        "```\n",
        "Contains data of different types, **unordered**, mutable, with **no duplicate** elements\n",
        "```"
      ],
      "metadata": {
        "id": "qqvSgbEtPw8L"
      }
    },
    {
      "cell_type": "markdown",
      "source": [
        "##### 1. Initialization"
      ],
      "metadata": {
        "id": "6KStHna8GOEP"
      }
    },
    {
      "cell_type": "code",
      "execution_count": 163,
      "metadata": {
        "colab": {
          "base_uri": "https://localhost:8080/"
        },
        "outputId": "cef67dc5-d8f5-49f7-e864-fd9a1286ae85",
        "id": "PV0xSV5XGOES"
      },
      "outputs": [
        {
          "output_type": "stream",
          "name": "stdout",
          "text": [
            "set()\n",
            "{}\n",
            "{0, 2, 4, 6, 8}\n",
            "{'m', 'S', 'a'}\n",
            "Type:  <class 'set'>\n"
          ]
        }
      ],
      "source": [
        "#Initialized empty\n",
        "st = set()\n",
        "print(st)\n",
        "st = {}\n",
        "print(st)\n",
        "\n",
        "#Declairation with Initialization\n",
        "st = set(range(0,10,2))\n",
        "print(st)\n",
        "\n",
        "print(set(\"Sam\"))\n",
        "\n",
        "print(\"Type: \",type(st)) #Type"
      ]
    },
    {
      "cell_type": "code",
      "source": [
        "#set doesn't content - list (unhashable object)\n",
        "st={'Sam',100,200.9,True,(1,2)}\n",
        "print(\"Original Set: \",st)\n",
        "#size\n",
        "print(\"Size/Length: \",len(st))"
      ],
      "metadata": {
        "colab": {
          "base_uri": "https://localhost:8080/"
        },
        "outputId": "241467b1-209a-4133-c6b7-27651d7264cf",
        "id": "PvDznNSsGOEX"
      },
      "execution_count": 164,
      "outputs": [
        {
          "output_type": "stream",
          "name": "stdout",
          "text": [
            "Original Set:  {'Sam', True, (1, 2), 100, 200.9}\n",
            "Size/Length:  5\n"
          ]
        }
      ]
    },
    {
      "cell_type": "code",
      "source": [
        "#Unordered - Retrieving element not possible\n",
        "#no sense of indexing & sort\n",
        "'''\n",
        "st[0]) - error\n",
        "st[-1]) - error\n",
        "'''"
      ],
      "metadata": {
        "colab": {
          "base_uri": "https://localhost:8080/",
          "height": 36
        },
        "id": "VTEQUH40I3NE",
        "outputId": "df367b5b-a2e7-41c7-be36-7d69ae2b65e3"
      },
      "execution_count": 165,
      "outputs": [
        {
          "output_type": "execute_result",
          "data": {
            "application/vnd.google.colaboratory.intrinsic+json": {
              "type": "string"
            },
            "text/plain": [
              "'\\nst[0]) - error\\nst[-1]) - error\\n'"
            ]
          },
          "metadata": {},
          "execution_count": 165
        }
      ]
    },
    {
      "cell_type": "markdown",
      "source": [
        "##### 2. Remove"
      ],
      "metadata": {
        "id": "S7gpTagYLb52"
      }
    },
    {
      "cell_type": "code",
      "source": [
        "print(\"Original Set: \",st)\n",
        "\n",
        "st.remove('Sam') #remove specific item & error for nonexistent value\n",
        "print(\"After remove:\\n\",st)\n",
        "\n",
        "#no argument for set.pop()\n",
        "st.pop() #remove a random item\n",
        "print(\"After pop:\\n\",st)\n",
        "\n",
        "st.clear() #Remove all items\n",
        "print(\"After clear:\\n\",st)"
      ],
      "metadata": {
        "colab": {
          "base_uri": "https://localhost:8080/"
        },
        "outputId": "7d85ad16-6a36-49c3-9c26-b8ee4ad6f524",
        "id": "_oLGtm3zLb55"
      },
      "execution_count": 166,
      "outputs": [
        {
          "output_type": "stream",
          "name": "stdout",
          "text": [
            "Original Set:  {'Sam', True, (1, 2), 100, 200.9}\n",
            "After remove:\n",
            " {True, (1, 2), 100, 200.9}\n",
            "After pop:\n",
            " {(1, 2), 100, 200.9}\n",
            "After clear:\n",
            " set()\n"
          ]
        }
      ]
    },
    {
      "cell_type": "markdown",
      "source": [
        "##### 3. Add"
      ],
      "metadata": {
        "id": "9LtC5pl6KnC3"
      }
    },
    {
      "cell_type": "code",
      "source": [
        "#add any object (as it is) except list (unhashable object)\n",
        "st = {1,2,3}\n",
        "st.add(0)\n",
        "st.add(\"added item\")\n",
        "#st.add([4,5]) - error\n",
        "st.add((6,7))\n",
        "print(\"After Insertion:\\n\",st)"
      ],
      "metadata": {
        "colab": {
          "base_uri": "https://localhost:8080/"
        },
        "outputId": "76c36bdd-5857-4767-a290-a709b4d779fe",
        "id": "S2RMka7VKnC8"
      },
      "execution_count": 167,
      "outputs": [
        {
          "output_type": "stream",
          "name": "stdout",
          "text": [
            "After Insertion:\n",
            " {0, 1, 2, 3, 'added item', (6, 7)}\n"
          ]
        }
      ]
    },
    {
      "cell_type": "markdown",
      "source": [
        "##### 4. Search"
      ],
      "metadata": {
        "id": "uMzrZJ4ENSsf"
      }
    },
    {
      "cell_type": "code",
      "source": [
        "st = {1,2,3,4,5}\n",
        "print(\"Original Set:\",st)"
      ],
      "metadata": {
        "colab": {
          "base_uri": "https://localhost:8080/"
        },
        "outputId": "53a6147e-6966-42dd-f834-1730b34c6351",
        "id": "-6I1hj_7NSsi"
      },
      "execution_count": 168,
      "outputs": [
        {
          "output_type": "stream",
          "name": "stdout",
          "text": [
            "Original Set: {1, 2, 3, 4, 5}\n"
          ]
        }
      ]
    },
    {
      "cell_type": "code",
      "source": [
        "#return boolean - True/False\n",
        "print(\"5 Present in: \",5 in st)\n",
        "print(\"5 Not Present in: \",5 not in st)"
      ],
      "metadata": {
        "colab": {
          "base_uri": "https://localhost:8080/"
        },
        "outputId": "64d0c4a2-3401-458f-e7b0-ad97c900b52b",
        "id": "RHm2XWWfNSsl"
      },
      "execution_count": 169,
      "outputs": [
        {
          "output_type": "stream",
          "name": "stdout",
          "text": [
            "5 Present in:  True\n",
            "5 Not Present in:  False\n"
          ]
        }
      ]
    },
    {
      "cell_type": "code",
      "source": [
        "#index() method is only for string, list, tuple, not set\n",
        "#find() method is only for string, not other sequences & set"
      ],
      "metadata": {
        "id": "xi9Fd3_NNk1U"
      },
      "execution_count": 170,
      "outputs": []
    },
    {
      "cell_type": "markdown",
      "source": [
        "##### 5. Delete"
      ],
      "metadata": {
        "id": "NgXPKcfSODql"
      }
    },
    {
      "cell_type": "code",
      "source": [
        "st={0,1,2,3,4,5}\n",
        "print(\"Set before delete: \",st)\n",
        "del(st)\n",
        "#print(\"After: \",st) - error coz deleted"
      ],
      "metadata": {
        "colab": {
          "base_uri": "https://localhost:8080/"
        },
        "outputId": "68f0f230-06f1-4529-811a-c3ef65c58a91",
        "id": "a0FUCjGZODqm"
      },
      "execution_count": 171,
      "outputs": [
        {
          "output_type": "stream",
          "name": "stdout",
          "text": [
            "Set before delete:  {0, 1, 2, 3, 4, 5}\n"
          ]
        }
      ]
    },
    {
      "cell_type": "markdown",
      "source": [
        "#### 4. Dictionary Operations"
      ],
      "metadata": {
        "id": "0QCDkGGcPCU0"
      }
    },
    {
      "cell_type": "markdown",
      "source": [
        "```\n",
        "Key (unique, not null) - any primitive datatype (integer, string, boolean),\n",
        "Value (allow duplicates) - any arbitrary python object\n",
        "```"
      ],
      "metadata": {
        "id": "7_bcG7QqP5Cz"
      }
    },
    {
      "cell_type": "markdown",
      "source": [
        "##### 1. Initialization"
      ],
      "metadata": {
        "id": "ihgIbScPRwCF"
      }
    },
    {
      "cell_type": "code",
      "execution_count": 172,
      "metadata": {
        "colab": {
          "base_uri": "https://localhost:8080/"
        },
        "outputId": "54a68e02-b9c8-449c-d737-01aab5de186d",
        "id": "3JgySIcrRwCI"
      },
      "outputs": [
        {
          "output_type": "stream",
          "name": "stdout",
          "text": [
            "{}\n",
            "{}\n",
            "{1: 'apple', 2: 'ball'}\n",
            "{1: 'apple', 2: 'ball'}\n",
            "Type:  <class 'dict'>\n"
          ]
        }
      ],
      "source": [
        "#Initialized empty\n",
        "dct = dict()\n",
        "print(dct)\n",
        "dct = {}\n",
        "print(dct)\n",
        "\n",
        "#Declairation with Initialization\n",
        "dct = {1: 'apple', 2: 'ball'}\n",
        "print(dct)\n",
        "#From sequence having each item as a pair\n",
        "dct = dict([(1,'apple'), (2,'ball')])\n",
        "print(dct)\n",
        "\n",
        "print(\"Type: \",type(dct)) #Type"
      ]
    },
    {
      "cell_type": "code",
      "source": [
        "dct = {\"name \" :{\"k1\":\"Sam\",'k4' :[345,534535,534,]} , \"age\": 3455 ,True : {45,34545,454,54}, \"key\" : False , 34554:(45,45,45,45) , \"_sfsdf\" : [34,45,454,54,545]}\n",
        "print(\"Original Dictionary:\\n\",dct)\n",
        "#size\n",
        "print(\"Size/Length: \",len(lst))\n",
        "\n",
        "#Retrieving element\n",
        "print(\"Item of dct['name ']['k4'][2] is: \",dct['name ']['k4'][2])"
      ],
      "metadata": {
        "colab": {
          "base_uri": "https://localhost:8080/"
        },
        "id": "-dTzSzTMZzNz",
        "outputId": "24ca926e-4930-43b4-f123-24b9674da0c5"
      },
      "execution_count": 173,
      "outputs": [
        {
          "output_type": "stream",
          "name": "stdout",
          "text": [
            "Original Dictionary:\n",
            " {'name ': {'k1': 'Sam', 'k4': [345, 534535, 534]}, 'age': 3455, True: {54, 34545, 45, 454}, 'key': False, 34554: (45, 45, 45, 45), '_sfsdf': [34, 45, 454, 54, 545]}\n",
            "Size/Length:  5\n",
            "Item of dct['name ']['k4'][2] is:  534\n"
          ]
        }
      ]
    },
    {
      "cell_type": "code",
      "source": [
        "#Mutable\n",
        "print(\"Item of dct['name ']['k1'] Before:\",dct['name ']['k1'])\n",
        "dct['name ']['k1'] = \"Deep\"\n",
        "print(\"Item of dct['name ']['k1'] After:\",dct['name ']['k1'])"
      ],
      "metadata": {
        "colab": {
          "base_uri": "https://localhost:8080/"
        },
        "id": "1cw19zBNblEP",
        "outputId": "97077d91-a368-4445-b154-96dd3736188a"
      },
      "execution_count": 174,
      "outputs": [
        {
          "output_type": "stream",
          "name": "stdout",
          "text": [
            "Item of dct['name ']['k1'] Before: Sam\n",
            "Item of dct['name ']['k1'] After: Deep\n"
          ]
        }
      ]
    },
    {
      "cell_type": "code",
      "source": [
        "#Keys ,Values - Items\n",
        "print(\"Keys: \",dct.keys())\n",
        "print(\"Keys Type: \",type(dct.keys()))\n",
        "print(\"Values: \",dct.values())\n",
        "print(\"Values Type: \",type(dct.values()))\n",
        "print(\"Items: \",dct.items())\n",
        "print(\"Items Type: \",type(dct.items()))"
      ],
      "metadata": {
        "colab": {
          "base_uri": "https://localhost:8080/"
        },
        "id": "iyTR0_YSD7OB",
        "outputId": "ee152746-553f-477c-8785-c0cbb00bba4e"
      },
      "execution_count": 175,
      "outputs": [
        {
          "output_type": "stream",
          "name": "stdout",
          "text": [
            "Keys:  dict_keys(['name ', 'age', True, 'key', 34554, '_sfsdf'])\n",
            "Keys Type:  <class 'dict_keys'>\n",
            "Values:  dict_values([{'k1': 'Deep', 'k4': [345, 534535, 534]}, 3455, {54, 34545, 45, 454}, False, (45, 45, 45, 45), [34, 45, 454, 54, 545]])\n",
            "Values Type:  <class 'dict_values'>\n",
            "Items:  dict_items([('name ', {'k1': 'Deep', 'k4': [345, 534535, 534]}), ('age', 3455), (True, {54, 34545, 45, 454}), ('key', False), (34554, (45, 45, 45, 45)), ('_sfsdf', [34, 45, 454, 54, 545])])\n",
            "Items Type:  <class 'dict_items'>\n"
          ]
        }
      ]
    },
    {
      "cell_type": "markdown",
      "source": [
        "##### 4. Dictionary Operations"
      ],
      "metadata": {
        "id": "1vG1cKVgZvsP"
      }
    },
    {
      "cell_type": "code",
      "source": [
        "dct = {1: 'apple', 2: 'mango'}\n",
        "print(\"Original Dictionary: \",dct)"
      ],
      "metadata": {
        "colab": {
          "base_uri": "https://localhost:8080/"
        },
        "id": "Kro-ga1lNdh_",
        "outputId": "ad4ae7f0-697d-44ea-b77b-7db77dce2aeb"
      },
      "execution_count": 176,
      "outputs": [
        {
          "output_type": "stream",
          "name": "stdout",
          "text": [
            "Original Dictionary:  {1: 'apple', 2: 'mango'}\n"
          ]
        }
      ]
    },
    {
      "cell_type": "code",
      "source": [
        "#Iteration/Traversal\n",
        "for item in dct.items():\n",
        "    print(\"Each Item:\",item)\n",
        "    print(\"Type of Item:\",type(item))\n",
        "print()\n",
        "for key,value in dct.items():\n",
        "    print(\"Each Key:\",key)\n",
        "    print(\"Type of Key:\",type(key))\n",
        "    print(\"Each Value:\",value)\n",
        "    print(\"Type of Value:\",type(value))"
      ],
      "metadata": {
        "colab": {
          "base_uri": "https://localhost:8080/"
        },
        "id": "Tu1H6dGxNV_I",
        "outputId": "991e5961-79b9-4902-8248-894fe6b5fc49"
      },
      "execution_count": 177,
      "outputs": [
        {
          "output_type": "stream",
          "name": "stdout",
          "text": [
            "Each Item: (1, 'apple')\n",
            "Type of Item: <class 'tuple'>\n",
            "Each Item: (2, 'mango')\n",
            "Type of Item: <class 'tuple'>\n",
            "\n",
            "Each Key: 1\n",
            "Type of Key: <class 'int'>\n",
            "Each Value: apple\n",
            "Type of Value: <class 'str'>\n",
            "Each Key: 2\n",
            "Type of Key: <class 'int'>\n",
            "Each Value: mango\n",
            "Type of Value: <class 'str'>\n"
          ]
        }
      ]
    },
    {
      "cell_type": "code",
      "source": [
        "#Wrong Operation\n",
        "#dct+dct - error\n",
        "#dct*3 - error"
      ],
      "metadata": {
        "id": "mznsDL-HZ_en"
      },
      "execution_count": 178,
      "outputs": []
    },
    {
      "cell_type": "markdown",
      "source": [
        "##### 5. Search - key"
      ],
      "metadata": {
        "id": "26rzy1RFNE87"
      }
    },
    {
      "cell_type": "code",
      "source": [
        "print(\"Original Dictionary: \",dct)\n",
        "#key search - return boolean (True/False)\n",
        "print(\"1 Present in: \",1 in dct)\n",
        "print(\"2 Not Present in: \",2 not in dct)"
      ],
      "metadata": {
        "colab": {
          "base_uri": "https://localhost:8080/"
        },
        "outputId": "e516d31e-cec3-4a2e-8509-a6d513cb53d1",
        "id": "JUSvSA4_NE8_"
      },
      "execution_count": 179,
      "outputs": [
        {
          "output_type": "stream",
          "name": "stdout",
          "text": [
            "Original Dictionary:  {1: 'apple', 2: 'mango'}\n",
            "1 Present in:  True\n",
            "2 Not Present in:  False\n"
          ]
        }
      ]
    },
    {
      "cell_type": "code",
      "source": [
        ""
      ],
      "metadata": {
        "id": "dfSf2VunNE9C"
      },
      "execution_count": 179,
      "outputs": []
    },
    {
      "cell_type": "markdown",
      "source": [
        "##### 2. Add"
      ],
      "metadata": {
        "id": "_dwcWZNvIB8Z"
      }
    },
    {
      "cell_type": "code",
      "source": [
        "print(\"Original Dictionary: \",dct)\n",
        "\n",
        "#add any object (as it is) at the end\n",
        "dct[3] = 0\n",
        "dct[4] = \"added item\"\n",
        "dct[5] = [4,5]\n",
        "dct[6] = (6,7)\n",
        "print(\"After Insertion: \",dct)"
      ],
      "metadata": {
        "colab": {
          "base_uri": "https://localhost:8080/"
        },
        "outputId": "30c3f13d-c84c-44a4-da1d-0a5b8d192989",
        "id": "RUPhQs-kIB8b"
      },
      "execution_count": 180,
      "outputs": [
        {
          "output_type": "stream",
          "name": "stdout",
          "text": [
            "Original Dictionary:  {1: 'apple', 2: 'mango'}\n",
            "After Insertion:  {1: 'apple', 2: 'mango', 3: 0, 4: 'added item', 5: [4, 5], 6: (6, 7)}\n"
          ]
        }
      ]
    },
    {
      "cell_type": "code",
      "source": [
        "#Update by adding 2nd one to 1st one\n",
        "dct1 = {1:\"Sam\"}\n",
        "dct2 = {2:\"Deep\"}\n",
        "print(\"Before Update:\\n\",dct1)\n",
        "dct1.update(dct2)\n",
        "print(\"After Update:\\n\",dct1)"
      ],
      "metadata": {
        "colab": {
          "base_uri": "https://localhost:8080/"
        },
        "outputId": "027962f9-2364-419a-a425-755200f8775f",
        "id": "ayjoKuuTIB8e"
      },
      "execution_count": 181,
      "outputs": [
        {
          "output_type": "stream",
          "name": "stdout",
          "text": [
            "Before Update:\n",
            " {1: 'Sam'}\n",
            "After Update:\n",
            " {1: 'Sam', 2: 'Deep'}\n"
          ]
        }
      ]
    },
    {
      "cell_type": "markdown",
      "source": [
        "##### 3. Remove"
      ],
      "metadata": {
        "id": "8wR4mefgH8D3"
      }
    },
    {
      "cell_type": "code",
      "source": [
        "print(\"Original Dictionary:\\n\",dct)\n",
        "\n",
        "#remove item of particular key\n",
        "dct.pop(2) #del dct[2]\n",
        "#error for wrong index\n",
        "print(\"After pop:\\n\",dct)\n",
        "\n",
        "#remove and returns an arbitrary element (key, value) pair as tuple\n",
        "tup = dct.popitem()\n",
        "print(\"After popitem:\\n\",dct)\n",
        "print(\"popitem Return: \",tup)\n",
        "print(\"popitem Return Type: \",type(tup))\n",
        "\n",
        "dct.clear() #Remove all items\n",
        "print(\"After clear:\\n\",dct)"
      ],
      "metadata": {
        "colab": {
          "base_uri": "https://localhost:8080/"
        },
        "outputId": "448c10ab-8ef1-4bcf-e8fe-f9155a991ced",
        "id": "D45msL2SH8D4"
      },
      "execution_count": 182,
      "outputs": [
        {
          "output_type": "stream",
          "name": "stdout",
          "text": [
            "Original Dictionary:\n",
            " {1: 'apple', 2: 'mango', 3: 0, 4: 'added item', 5: [4, 5], 6: (6, 7)}\n",
            "After pop:\n",
            " {1: 'apple', 3: 0, 4: 'added item', 5: [4, 5], 6: (6, 7)}\n",
            "After popitem:\n",
            " {1: 'apple', 3: 0, 4: 'added item', 5: [4, 5]}\n",
            "popitem Return:  (6, (6, 7))\n",
            "popitem Return Type:  <class 'tuple'>\n",
            "After clear:\n",
            " {}\n"
          ]
        }
      ]
    },
    {
      "cell_type": "markdown",
      "source": [
        "#### 5. Typecaste Datatypes/Convertion"
      ],
      "metadata": {
        "id": "TotdvEXVUUyh"
      }
    },
    {
      "cell_type": "markdown",
      "source": [
        "##### String to List, Tuple, Set"
      ],
      "metadata": {
        "id": "DN6KlESHRNeR"
      }
    },
    {
      "cell_type": "code",
      "source": [
        "strng=\"Soumyadeep\"\n",
        "print(\"String: \",strng)\n",
        "lst=list(strng)\n",
        "print(\"List: \",lst)\n",
        "tup = tuple(strng)\n",
        "print(\"Tuple: \",tup)\n",
        "st = set(strng)\n",
        "print(\"Set: \",st)"
      ],
      "metadata": {
        "colab": {
          "base_uri": "https://localhost:8080/"
        },
        "id": "RKX1KBZOUSf5",
        "outputId": "61fa26d8-c88c-4b89-b899-73b23cbfdd8a"
      },
      "execution_count": 200,
      "outputs": [
        {
          "output_type": "stream",
          "name": "stdout",
          "text": [
            "String:  Soumyadeep\n",
            "List:  ['S', 'o', 'u', 'm', 'y', 'a', 'd', 'e', 'e', 'p']\n",
            "Tuple:  ('S', 'o', 'u', 'm', 'y', 'a', 'd', 'e', 'e', 'p')\n",
            "Set:  {'m', 'a', 'e', 'd', 'u', 'S', 'p', 'y', 'o'}\n"
          ]
        }
      ]
    },
    {
      "cell_type": "markdown",
      "source": [
        "##### List, Tuple, Set Interchange"
      ],
      "metadata": {
        "id": "JhZpQTOYRTUW"
      }
    },
    {
      "cell_type": "markdown",
      "source": [
        "```\n",
        "To convert into set, \n",
        "List & Tuple should not contain List (unhashable object) inside \n",
        "- list of list/tuple of list.\n",
        "```"
      ],
      "metadata": {
        "id": "J7hqY4VWRZWK"
      }
    },
    {
      "cell_type": "code",
      "source": [
        "lst = [1,2,3,4,5]\n",
        "print(\"List: \",lst)\n",
        "tup = tuple(lst)\n",
        "print(\"Tuple: \",tup)\n",
        "st = set(tup)\n",
        "print(\"Set: \",st)\n",
        "#So on...."
      ],
      "metadata": {
        "colab": {
          "base_uri": "https://localhost:8080/"
        },
        "id": "6LO-Zh3DQce7",
        "outputId": "4837715e-18d0-4590-9396-4ba452b3b0ae"
      },
      "execution_count": 205,
      "outputs": [
        {
          "output_type": "stream",
          "name": "stdout",
          "text": [
            "List:  [1, 2, 3, 4, 5]\n",
            "Tuple:  (1, 2, 3, 4, 5)\n",
            "Set:  {1, 2, 3, 4, 5}\n"
          ]
        }
      ]
    },
    {
      "cell_type": "markdown",
      "source": [
        "##### Remove Duplicates (from List/Tuple)"
      ],
      "metadata": {
        "id": "2g9fOuNfKEWC"
      }
    },
    {
      "cell_type": "markdown",
      "source": [
        "```\n",
        "Convert to set to remove dulplicates, \n",
        "Sequence (List & Tuple) should not contain List (unhashable object) inside \n",
        "- list of list/tuple of list.\n",
        "```\n",
        "\n"
      ],
      "metadata": {
        "id": "nhwbqqQRVknZ"
      }
    },
    {
      "cell_type": "code",
      "source": [
        "#Remove Duplicates\n",
        "lst = [\"Sam\",\"Sam\"]\n",
        "print(\"Before: \",lst)\n",
        "lst = list(set(lst)) #only if there is no unhashable object inside (list)\n",
        "#[\"Sam\",\"Sam\",[\"Sam\",\"Sam\"]] - error but [\"Sam\",\"Sam\",(\"Sam\",\"Sam\")] - no error\n",
        "print(\"After: \",lst)"
      ],
      "metadata": {
        "colab": {
          "base_uri": "https://localhost:8080/"
        },
        "id": "IVR7Oj6_KDXU",
        "outputId": "610a3d61-f9ce-4f93-c112-6da9e7430b55"
      },
      "execution_count": 206,
      "outputs": [
        {
          "output_type": "stream",
          "name": "stdout",
          "text": [
            "Before:  ['Sam', 'Sam']\n",
            "After:  ['Sam']\n"
          ]
        }
      ]
    },
    {
      "cell_type": "code",
      "source": [
        "#Remove Duplicates\n",
        "tup = (\"Sam\",\"Sam\")\n",
        "print(\"Before: \",tup)\n",
        "tup = tuple(set(tup)) #only if there is no unhashable object inside (list)\n",
        "#(\"Sam\",\"Sam\",[\"Sam\",\"Sam\"]) - error but (\"Sam\",\"Sam\",(\"Sam\",\"Sam\")) - no error\n",
        "print(\"After: \",tup)"
      ],
      "metadata": {
        "colab": {
          "base_uri": "https://localhost:8080/"
        },
        "outputId": "6a26c256-4423-48aa-d536-ff3e53f51402",
        "id": "45iLzBwiKLmf"
      },
      "execution_count": 207,
      "outputs": [
        {
          "output_type": "stream",
          "name": "stdout",
          "text": [
            "Before:  ('Sam', 'Sam')\n",
            "After:  ('Sam',)\n"
          ]
        }
      ]
    },
    {
      "cell_type": "markdown",
      "source": [
        "##### Sequence (list & tuple) to Dictionary"
      ],
      "metadata": {
        "id": "bSl01yX_SIld"
      }
    },
    {
      "cell_type": "markdown",
      "source": [
        "```\n",
        "Inside Sequence(list & tuple), \n",
        "Each item (list/tuple/set) should be as a pair\n",
        "```"
      ],
      "metadata": {
        "id": "RoALSwetVBOi"
      }
    },
    {
      "cell_type": "code",
      "source": [
        "#From List\n",
        "print(\"From List\")\n",
        "lst = [[1,'apple'], (2,'mango'), {3,'banana'}]\n",
        "print(dict(lst))\n",
        "\n",
        "#From Tuple\n",
        "print(\"From Tuple\")\n",
        "tup = ([1,'apple'], (2,'mango'), {3,'banana'})\n",
        "print(dict(tup))"
      ],
      "metadata": {
        "colab": {
          "base_uri": "https://localhost:8080/"
        },
        "id": "83Lv0jIWSQiu",
        "outputId": "21025e9e-23cd-4a87-90d9-122237cefded"
      },
      "execution_count": 199,
      "outputs": [
        {
          "output_type": "stream",
          "name": "stdout",
          "text": [
            "From List\n",
            "{1: 'apple', 2: 'mango', 3: 'banana'}\n",
            "From Tuple\n",
            "{1: 'apple', 2: 'mango', 3: 'banana'}\n"
          ]
        }
      ]
    },
    {
      "cell_type": "markdown",
      "source": [
        "#### 6. Python Array"
      ],
      "metadata": {
        "id": "Rr68jRGIH71l"
      }
    },
    {
      "cell_type": "markdown",
      "source": [
        "Python does not have built-in Array. <br>\n",
        "Here all elements should be same datatype."
      ],
      "metadata": {
        "id": "0eXaeLKCIB62"
      }
    },
    {
      "cell_type": "code",
      "source": [
        "import array as arr\n",
        "\n",
        "#integer type array\n",
        "a = arr.array('i', [1, 2, 3])\n",
        "print(\"Original array: \", end =\" \")\n",
        "for i in range(0, len(a)):\n",
        "\tprint(a[i], end =\" \")\n",
        "print()\n",
        "\n",
        "a.append(4) #add at the last\n",
        "print(\"After append: \", end =\" \")\n",
        "for i in range(0, len(a)):\n",
        "\tprint(a[i], end =\" \")\n",
        "print()\n",
        "\n",
        "a.insert(2, 4) #add at 2nd index\n",
        "print(\"After insert: \", end =\" \")\n",
        "for i in range(0, len(a)):\n",
        "\tprint(a[i], end =\" \")\n",
        "print()\n",
        "\n",
        "\n",
        "#float type array\n",
        "b = arr.array('d', [2.5, 3.2, 3.3])\n",
        "print(\"Float array: \", end =\" \")\n",
        "for i in range(0, len(b)):\n",
        "\tprint (b[i], end =\" \")"
      ],
      "metadata": {
        "colab": {
          "base_uri": "https://localhost:8080/"
        },
        "id": "OnGOmrRzIEDU",
        "outputId": "ce0ccfa2-db3e-4d77-ef2c-4786756c6fe4"
      },
      "execution_count": null,
      "outputs": [
        {
          "output_type": "stream",
          "name": "stdout",
          "text": [
            "Original array:  1 2 3 \n",
            "After append:  1 2 3 4 \n",
            "After insert:  1 2 4 3 4 \n",
            "Float array:  2.5 3.2 3.3 "
          ]
        }
      ]
    }
  ]
}