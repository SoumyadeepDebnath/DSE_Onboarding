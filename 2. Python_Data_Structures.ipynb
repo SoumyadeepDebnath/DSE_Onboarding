{
  "nbformat": 4,
  "nbformat_minor": 0,
  "metadata": {
    "colab": {
      "name": "2. Python_Data_Structures.ipynb",
      "provenance": [],
      "authorship_tag": "ABX9TyPWJ/QEI0kLmhS/18/xqdR8",
      "include_colab_link": true
    },
    "kernelspec": {
      "name": "python3",
      "display_name": "Python 3"
    },
    "language_info": {
      "name": "python"
    }
  },
  "cells": [
    {
      "cell_type": "markdown",
      "metadata": {
        "id": "view-in-github",
        "colab_type": "text"
      },
      "source": [
        "<a href=\"https://colab.research.google.com/github/SoumyadeepDebnath/Data-Engineering-using-Python/blob/main/2.%20Python_Data_Structures.ipynb\" target=\"_parent\"><img src=\"https://colab.research.google.com/assets/colab-badge.svg\" alt=\"Open In Colab\"/></a>"
      ]
    },
    {
      "cell_type": "markdown",
      "source": [
        "#### 1. List Operations"
      ],
      "metadata": {
        "id": "kTCsFPaKHJ1T"
      }
    },
    {
      "cell_type": "markdown",
      "source": [
        "Contains data of different types, ordered, mutable and also duplicate elements"
      ],
      "metadata": {
        "id": "5KIFNey3Hzhc"
      }
    },
    {
      "cell_type": "markdown",
      "source": [
        "##### 1. Initialization"
      ],
      "metadata": {
        "id": "yN13M9U52uiq"
      }
    },
    {
      "cell_type": "code",
      "execution_count": 2,
      "metadata": {
        "colab": {
          "base_uri": "https://localhost:8080/"
        },
        "id": "IngnwRoxG86S",
        "outputId": "ce85ae31-c970-4d3b-ff55-0fc0f8dd0e53"
      },
      "outputs": [
        {
          "output_type": "stream",
          "name": "stdout",
          "text": [
            "[]\n",
            "[]\n",
            "[0, 2, 4, 6, 8]\n",
            "['S', 'a', 'm']\n",
            "Type:  <class 'list'>\n"
          ]
        }
      ],
      "source": [
        "lst=list() #Declairation, Initialized empty\n",
        "print(lst)\n",
        "lst=[] #Declairation, Initialized empty\n",
        "print(lst)\n",
        "\n",
        "lst = list(range(0,10,2))#Declairation with Initialization\n",
        "print(lst)\n",
        "\n",
        "print(list(\"Sam\"))\n",
        "\n",
        "print(\"Type: \",type(lst)) #Type"
      ]
    },
    {
      "cell_type": "code",
      "source": [
        "#Mutable\n",
        "print(\"Before:\",lst)\n",
        "lst[0] = 10 \n",
        "print(\"After:\",lst)"
      ],
      "metadata": {
        "colab": {
          "base_uri": "https://localhost:8080/"
        },
        "id": "RR_K8J58tyLk",
        "outputId": "cfce609d-37e6-403b-8228-85037ed24eff"
      },
      "execution_count": 3,
      "outputs": [
        {
          "output_type": "stream",
          "name": "stdout",
          "text": [
            "Before: [0, 2, 4, 6, 8]\n",
            "After: [10, 2, 4, 6, 8]\n"
          ]
        }
      ]
    },
    {
      "cell_type": "code",
      "source": [
        "lst=['Sam',100,200.9,True,['python','r']]\n",
        "print(lst)\n",
        "print(\"Size/Length: \",len(lst)) #size\n",
        "\n",
        "#Retrieving element\n",
        "print(\"First character from left: \",lst[0]) #positive index\n",
        "print(\"First character from right/Last character: \",lst[-1]) #negative index"
      ],
      "metadata": {
        "colab": {
          "base_uri": "https://localhost:8080/"
        },
        "id": "hn002dfEHXx0",
        "outputId": "fe014e49-2de4-497a-a60a-4227ed336391"
      },
      "execution_count": 4,
      "outputs": [
        {
          "output_type": "stream",
          "name": "stdout",
          "text": [
            "['Sam', 100, 200.9, True, ['python', 'r']]\n",
            "Size/Length:  5\n",
            "First character from left:  Sam\n",
            "First character from right/Last character:  ['python', 'r']\n"
          ]
        }
      ]
    },
    {
      "cell_type": "markdown",
      "source": [
        "##### 2. Remove"
      ],
      "metadata": {
        "id": "X4TqAsM22mGN"
      }
    },
    {
      "cell_type": "code",
      "source": [
        "lst.remove('Sam') #remove first for more than one matching value & error for nonexistent value\n",
        "print(\"After remove:\\n\",lst)\n",
        "\n",
        "lst.pop() #default remove item from last end\n",
        "lst.pop(2) #del lst[2] #remove item from particular positive index\n",
        "lst.pop(-1) #del lst[-1] #remove item from particular negative index\n",
        "#error for wrong index\n",
        "print(\"After pop:\\n\",lst)\n",
        "\n",
        "lst.clear() #Remove all items: \n",
        "print(\"After clear:\\n\",lst)"
      ],
      "metadata": {
        "colab": {
          "base_uri": "https://localhost:8080/"
        },
        "id": "ZyPkMO1dHdNu",
        "outputId": "c729a742-d0cd-4d53-ec19-8136f5defab2"
      },
      "execution_count": null,
      "outputs": [
        {
          "output_type": "stream",
          "name": "stdout",
          "text": [
            "After remove:\n",
            " [100, 200.9, True, ['python', 'r']]\n",
            "After pop:\n",
            " [100]\n",
            "After clear:\n",
            " []\n"
          ]
        }
      ]
    },
    {
      "cell_type": "code",
      "source": [
        "#Remove Duplicates\n",
        "\n",
        "lst = [\"Sam\",\"Sam\"]\n",
        "print(\"Before: \",lst)\n",
        "lst = list(set(lst)) #only if there is no unhashable object inside (list)\n",
        "#[\"Sam\",\"Sam\",[\"Sam\",\"Sam\"]] - error but [\"Sam\",\"Sam\",(\"Sam\",\"Sam\")] - no error\n",
        "print(\"After: \",lst)"
      ],
      "metadata": {
        "colab": {
          "base_uri": "https://localhost:8080/"
        },
        "id": "MK3lDzE2coq0",
        "outputId": "a2fa2420-a352-4c51-f09d-29d527f65e76"
      },
      "execution_count": null,
      "outputs": [
        {
          "output_type": "stream",
          "name": "stdout",
          "text": [
            "Before:  ['Sam', 'Sam']\n",
            "After:  ['Sam']\n"
          ]
        }
      ]
    },
    {
      "cell_type": "markdown",
      "source": [
        "##### 3. Add"
      ],
      "metadata": {
        "id": "pxZyz3y72fVH"
      }
    },
    {
      "cell_type": "code",
      "source": [
        "#add any object (as it is) at the end\n",
        "lst = [1,2,3]\n",
        "lst.append(0)\n",
        "lst.append(\"appended item\")\n",
        "lst.append([4,5])\n",
        "lst.append((6,7))\n",
        "print(\"After Insertion:\\n\",lst)"
      ],
      "metadata": {
        "colab": {
          "base_uri": "https://localhost:8080/"
        },
        "id": "5U8G3_5cM03z",
        "outputId": "92b8f070-dd79-434b-8df0-e5e3698805a0"
      },
      "execution_count": null,
      "outputs": [
        {
          "output_type": "stream",
          "name": "stdout",
          "text": [
            "After Insertion:\n",
            " [1, 2, 3, 0, 'appended item', [4, 5], (6, 7)]\n"
          ]
        }
      ]
    },
    {
      "cell_type": "code",
      "source": [
        "#add any object (as it is) at particular index\n",
        "lst = [1,2,3]\n",
        "lst.insert(2,0)\n",
        "lst.insert(2,\"interted item at 2nd index\")\n",
        "lst.insert(2,[4,5])\n",
        "lst.insert(2,(6,7))\n",
        "print(\"After Insertion:\\n\",lst)"
      ],
      "metadata": {
        "colab": {
          "base_uri": "https://localhost:8080/"
        },
        "id": "hP_EnWwcQUwB",
        "outputId": "30575961-4acb-490a-f7d2-40dbf2292b16"
      },
      "execution_count": null,
      "outputs": [
        {
          "output_type": "stream",
          "name": "stdout",
          "text": [
            "After Insertion:\n",
            " [1, 2, (6, 7), [4, 5], 'interted item at 2nd index', 0, 3]\n"
          ]
        }
      ]
    },
    {
      "cell_type": "code",
      "source": [
        "#Add only iterable object (list, tuple, string - list of characters) in the end\n",
        "#Return merged list\n",
        "lst = [1,2,3]\n",
        "#lst.extend(0) - error coz integer, float, complex, boolean are not iterable objects\n",
        "lst.extend(\"Sam\")\n",
        "lst.extend([\"Sam\"])\n",
        "lst.extend((\"Sam\"))\n",
        "lst.extend((\"Deb\",\"Deep\"))\n",
        "print(\"After Insertion:\\n\",lst)"
      ],
      "metadata": {
        "colab": {
          "base_uri": "https://localhost:8080/"
        },
        "id": "D2WTCBZhHbYi",
        "outputId": "ddfa5ae9-d7b7-4364-ee20-e4e9263c1cbb"
      },
      "execution_count": null,
      "outputs": [
        {
          "output_type": "stream",
          "name": "stdout",
          "text": [
            "After Insertion:\n",
            " [1, 2, 3, 'S', 'a', 'm', 'Sam', 'S', 'a', 'm', 'Deb', 'Deep']\n"
          ]
        }
      ]
    },
    {
      "cell_type": "markdown",
      "source": [
        "##### 4. List Operations"
      ],
      "metadata": {
        "id": "mAifNaV42J5h"
      }
    },
    {
      "cell_type": "code",
      "source": [
        "lst=[0,1,2,3,4,5,5]\n",
        "print(\"Original List: \",lst)"
      ],
      "metadata": {
        "colab": {
          "base_uri": "https://localhost:8080/"
        },
        "id": "jtL5WlAv2Pjx",
        "outputId": "3e42f0dd-bbbd-4220-b974-5ff72f8e012f"
      },
      "execution_count": 24,
      "outputs": [
        {
          "output_type": "stream",
          "name": "stdout",
          "text": [
            "Original List:  [0, 1, 2, 3, 4, 5, 5]\n"
          ]
        }
      ]
    },
    {
      "cell_type": "code",
      "source": [
        "print(\"Sum of all items: \",sum(lst)) #If all items are numbers\n",
        "print(\"Occurance of 1: \",lst.count(5)) #Occurance of an item\n",
        "print(\"Max:\",max(lst),\"and Min:\",min(lst)) #Max and Min item"
      ],
      "metadata": {
        "colab": {
          "base_uri": "https://localhost:8080/"
        },
        "id": "3hGaEcUq2Rjy",
        "outputId": "23df6162-c0a9-49de-ebe4-d91643cac716"
      },
      "execution_count": 25,
      "outputs": [
        {
          "output_type": "stream",
          "name": "stdout",
          "text": [
            "Sum of all items:  20\n",
            "Occurance of 1:  2\n",
            "Max: 5 and Min: 0\n"
          ]
        }
      ]
    },
    {
      "cell_type": "code",
      "source": [
        "print(\"Concatination: \",lst+lst) #Concatination\n",
        "print(\"Repetation: \",lst*3) #Repetation\n",
        "print(\"Slicing from 1 to 4 index (positive index):: \",lst[1:5]) #Slicing with positive index\n",
        "print(\"Slicing from 1 to 4 index (negative index): \",lst[-6:-2]) #Slicing with negative index\n",
        "print(\"Slicing with 2 step from start to end: \",lst[0:len(lst):2]) #Slicing with step\n",
        "print(\"Reverse Slicing: \",lst[6:1:-2]) #Negative step\n",
        "print(\"Reverse: \",lst[::-1]) #Reverse"
      ],
      "metadata": {
        "colab": {
          "base_uri": "https://localhost:8080/"
        },
        "id": "bqHmkB-22VSJ",
        "outputId": "a03ad2f2-f9a2-4894-c4cf-3cd306505e76"
      },
      "execution_count": 26,
      "outputs": [
        {
          "output_type": "stream",
          "name": "stdout",
          "text": [
            "Concatination:  [0, 1, 2, 3, 4, 5, 5, 0, 1, 2, 3, 4, 5, 5]\n",
            "Repetation:  [0, 1, 2, 3, 4, 5, 5, 0, 1, 2, 3, 4, 5, 5, 0, 1, 2, 3, 4, 5, 5]\n",
            "Slicing from 1 to 4 index (positive index)::  [1, 2, 3, 4]\n",
            "Slicing from 1 to 4 index (negative index):  [1, 2, 3, 4]\n",
            "Slicing with 2 step from start to end:  [0, 2, 4, 5]\n",
            "Reverse Slicing:  [5, 4, 2]\n",
            "Reverse:  [5, 5, 4, 3, 2, 1, 0]\n"
          ]
        }
      ]
    },
    {
      "cell_type": "code",
      "source": [
        "print(\"Wrong Slicing (Always empty):\")\n",
        "print(\"lst[4:1] - \",lst[4:1])\n",
        "print(\"lst[6:1:2] - \",lst[6:1:2])\n",
        "print(\"lst[1:6:-2] - \",lst[1:6:-2])"
      ],
      "metadata": {
        "colab": {
          "base_uri": "https://localhost:8080/"
        },
        "id": "AEYFfTL5Hf3w",
        "outputId": "0a5ce1f1-a0ba-4002-d085-d655d744c75a"
      },
      "execution_count": 27,
      "outputs": [
        {
          "output_type": "stream",
          "name": "stdout",
          "text": [
            "Wrong Slicing (Always empty):\n",
            "lst[4:1] -  []\n",
            "lst[6:1:2] -  []\n",
            "lst[1:6:-2] -  []\n"
          ]
        }
      ]
    },
    {
      "cell_type": "markdown",
      "source": [
        "##### 5. Search"
      ],
      "metadata": {
        "id": "4LUqy8Vw2A-5"
      }
    },
    {
      "cell_type": "code",
      "source": [
        "print(\"Original List:\",lst)"
      ],
      "metadata": {
        "colab": {
          "base_uri": "https://localhost:8080/"
        },
        "id": "nzF9B_3_9jSo",
        "outputId": "6029fa34-81e9-4521-e149-579a54100410"
      },
      "execution_count": 44,
      "outputs": [
        {
          "output_type": "stream",
          "name": "stdout",
          "text": [
            "Original List: [0, 1, 2, 3, 4, 5, 5]\n"
          ]
        }
      ]
    },
    {
      "cell_type": "code",
      "source": [
        "#return boolean - True/False\n",
        "print(\"Present in: \",5 in lst)\n",
        "print(\"Not Present in: \",5 not in lst)"
      ],
      "metadata": {
        "colab": {
          "base_uri": "https://localhost:8080/"
        },
        "id": "KKRVmrnR6R_g",
        "outputId": "b62da729-bb64-47b6-a90f-bfe95ad66468"
      },
      "execution_count": 29,
      "outputs": [
        {
          "output_type": "stream",
          "name": "stdout",
          "text": [
            "Present in:  True\n",
            "Not Present in:  False\n"
          ]
        }
      ]
    },
    {
      "cell_type": "code",
      "source": [
        "#Error if not present, return index of first occurrence, Start and End index are optional parameters\n",
        "print(\"Index of 5: \",lst.index(5,1,6)) #Error if not present"
      ],
      "metadata": {
        "colab": {
          "base_uri": "https://localhost:8080/"
        },
        "id": "799c8RPAHkKx",
        "outputId": "b3568291-b86f-4d2b-9bdd-28ddc28037e2"
      },
      "execution_count": 30,
      "outputs": [
        {
          "output_type": "stream",
          "name": "stdout",
          "text": [
            "Index of 5:  5\n"
          ]
        }
      ]
    },
    {
      "cell_type": "code",
      "source": [
        "#find() method is only for string, not other sequences"
      ],
      "metadata": {
        "id": "ZdPsobF464K5"
      },
      "execution_count": 31,
      "outputs": []
    },
    {
      "cell_type": "markdown",
      "source": [
        "##### 6. Sort"
      ],
      "metadata": {
        "id": "G1uwppW01yL7"
      }
    },
    {
      "cell_type": "code",
      "source": [
        "#sort() - changes the list directly and doesn't return any value\n",
        "print(\"By sort() method -\")\n",
        "vowels = ['u','a','i','e','o']\n",
        "print(\"Actual List: \",vowels)\n",
        "vowels.sort() #Default Ascending order\n",
        "print(\"Ascending Order: \",vowels)\n",
        "vowels.sort(reverse=True) #Descending order\n",
        "print(\"Descending Order: \",vowels)"
      ],
      "metadata": {
        "colab": {
          "base_uri": "https://localhost:8080/"
        },
        "id": "N5In-lpa17ER",
        "outputId": "473a1b2c-c26f-4a69-b714-ccaa9460fde7"
      },
      "execution_count": null,
      "outputs": [
        {
          "output_type": "stream",
          "name": "stdout",
          "text": [
            "By sort() method -\n",
            "Actual List:  ['u', 'a', 'i', 'e', 'o']\n",
            "Ascending Order:  ['a', 'e', 'i', 'o', 'u']\n",
            "Descending Order:  ['u', 'o', 'i', 'e', 'a']\n"
          ]
        }
      ]
    },
    {
      "cell_type": "code",
      "source": [
        "#sorted() - doesn't change the list directly and returns the sorted value\n",
        "print(\"By sorted() method -\")\n",
        "vowels = ['u','a','i','e','o']\n",
        "print(\"Actual List: \",vowels)\n",
        "vowels1 = sorted(vowels) #Default Ascending order\n",
        "print(\"Ascending Order: \",vowels1)\n",
        "vowels2 = sorted(vowels,reverse=True) #Descending order\n",
        "print(\"Descending Order: \",vowels2)"
      ],
      "metadata": {
        "colab": {
          "base_uri": "https://localhost:8080/"
        },
        "id": "LyEpQKVaHmFN",
        "outputId": "267b8830-6489-4cff-9e63-8ddd979446e2"
      },
      "execution_count": null,
      "outputs": [
        {
          "output_type": "stream",
          "name": "stdout",
          "text": [
            "By sorted() method -\n",
            "Actual List:  ['u', 'a', 'i', 'e', 'o']\n",
            "Ascending Order:  ['a', 'e', 'i', 'o', 'u']\n",
            "Descending Order:  ['u', 'o', 'i', 'e', 'a']\n"
          ]
        }
      ]
    },
    {
      "cell_type": "markdown",
      "source": [
        "##### Comprehension"
      ],
      "metadata": {
        "id": "rLV02xxQb_HW"
      }
    },
    {
      "cell_type": "markdown",
      "source": [
        "***1. only loop:***\n",
        "```\n",
        "Syntax: newlist = [expression for item in iterable]\n",
        "```"
      ],
      "metadata": {
        "id": "IDDkVcWSdv1C"
      }
    },
    {
      "cell_type": "code",
      "source": [
        "lst = [1,2,3,4,5]\n",
        "\n",
        "#Instead of this\n",
        "lst1 = []\n",
        "for i in \"Soumya\":\n",
        "    lst1.append(list(i))\n",
        "print(lst1)\n",
        "\n",
        "#Do this\n",
        "lst1 = [list(i) for i in \"Soumya\"]\n",
        "print(lst1)"
      ],
      "metadata": {
        "colab": {
          "base_uri": "https://localhost:8080/"
        },
        "id": "5HtTgBr2cBMu",
        "outputId": "155e4736-230b-4920-b635-5276ac220233"
      },
      "execution_count": null,
      "outputs": [
        {
          "output_type": "stream",
          "name": "stdout",
          "text": [
            "[['S'], ['o'], ['u'], ['m'], ['y'], ['a']]\n",
            "[['S'], ['o'], ['u'], ['m'], ['y'], ['a']]\n"
          ]
        }
      ]
    },
    {
      "cell_type": "code",
      "source": [
        "#Instead of this\n",
        "lst = []\n",
        "for i in range(3):\n",
        "    lst.append([])\n",
        "    for j in range(3):\n",
        "        lst[i].append(j)\n",
        "print(lst)\n",
        "\n",
        "#Do this\n",
        "lst = [[j for j in range(3)] for i in range(3)]\n",
        "print(lst)"
      ],
      "metadata": {
        "colab": {
          "base_uri": "https://localhost:8080/"
        },
        "id": "FkSigiMej68n",
        "outputId": "2695f78c-0d93-44a7-ada2-f8c83e939b1b"
      },
      "execution_count": null,
      "outputs": [
        {
          "output_type": "stream",
          "name": "stdout",
          "text": [
            "[[0, 1, 2], [0, 1, 2], [0, 1, 2]]\n",
            "[[0, 1, 2], [0, 1, 2], [0, 1, 2]]\n"
          ]
        }
      ]
    },
    {
      "cell_type": "markdown",
      "source": [
        "***2. loop with if:***\n",
        "```\n",
        "Syntax: newlist = [expression for item in iterable if condition == True]\n",
        "```"
      ],
      "metadata": {
        "id": "FmqARZ4shclU"
      }
    },
    {
      "cell_type": "code",
      "source": [
        "#Instead of this\n",
        "lst = []\n",
        "for i in range(10) :\n",
        "    if (i%2 ==0):\n",
        "        lst.append(i)\n",
        "print(lst)\n",
        "\n",
        "#Do this\n",
        "lst = [i for i in range(10) if(i%2 == 0)]\n",
        "print(lst)"
      ],
      "metadata": {
        "colab": {
          "base_uri": "https://localhost:8080/"
        },
        "id": "qJI6G2P5dKIV",
        "outputId": "00174a5d-ea13-4b62-aded-1b6fa3f5d47c"
      },
      "execution_count": null,
      "outputs": [
        {
          "output_type": "stream",
          "name": "stdout",
          "text": [
            "[0, 2, 4, 6, 8]\n",
            "[0, 2, 4, 6, 8]\n"
          ]
        }
      ]
    },
    {
      "cell_type": "code",
      "source": [
        "#Instead of this\n",
        "lst = []\n",
        "for i in range(10) :\n",
        "    if i % 2 == 0 :\n",
        "        if i % 3 == 0 :\n",
        "            lst.append(i)\n",
        "print(lst)\n",
        "\n",
        "#Do this\n",
        "lst = [i for i in range(10) if(i%2 == 0) if(i%3 == 0)]\n",
        "print(lst)"
      ],
      "metadata": {
        "colab": {
          "base_uri": "https://localhost:8080/"
        },
        "id": "FWyg88jkkZQx",
        "outputId": "fd16f9a4-8e11-4e64-df07-3ff9c301945a"
      },
      "execution_count": null,
      "outputs": [
        {
          "output_type": "stream",
          "name": "stdout",
          "text": [
            "[0, 6]\n",
            "[0, 6]\n"
          ]
        }
      ]
    },
    {
      "cell_type": "markdown",
      "source": [
        "***3. loop with if else:***\n",
        "```\n",
        "Syntax: newlist = [expression1 if condition == True else expression2 for item in iterable]\n",
        "```"
      ],
      "metadata": {
        "id": "ok8MVCKWhh7W"
      }
    },
    {
      "cell_type": "code",
      "source": [
        "#Instead of this\n",
        "lst = []\n",
        "for i in range(10):\n",
        "    if (i%2 != 0):\n",
        "        lst.append(\"odd\")\n",
        "    else :\n",
        "        lst.append(\"even\")\n",
        "print(lst)\n",
        "\n",
        "#Do this\n",
        "lst = [\"odd\" if(i%2 != 0) else \"even\" for i in range(10)]\n",
        "print(lst)"
      ],
      "metadata": {
        "colab": {
          "base_uri": "https://localhost:8080/"
        },
        "id": "rvYZk8a2fJCA",
        "outputId": "f978c873-f19b-433a-8f40-c8a6a738d647"
      },
      "execution_count": null,
      "outputs": [
        {
          "output_type": "stream",
          "name": "stdout",
          "text": [
            "['even', 'odd', 'even', 'odd', 'even', 'odd', 'even', 'odd', 'even', 'odd']\n",
            "['even', 'odd', 'even', 'odd', 'even', 'odd', 'even', 'odd', 'even', 'odd']\n"
          ]
        }
      ]
    },
    {
      "cell_type": "code",
      "source": [
        "#Instead of this\n",
        "lst = [0, 1, 2, 3, 4]\n",
        "lst1 = []\n",
        "for i in lst :\n",
        "    if i == 1 :\n",
        "        lst1.append(\"yes\")\n",
        "    elif i ==2 :\n",
        "        lst1.append(\"no\")\n",
        "    else :\n",
        "        lst1.append(\"test\")\n",
        "print(lst1)\n",
        "\n",
        "#Do this\n",
        "lst1 = [\"yes\" if(i == 1) else \"no\" if(i == 2) else \"test\" for i in lst]\n",
        "print(lst1)"
      ],
      "metadata": {
        "colab": {
          "base_uri": "https://localhost:8080/"
        },
        "id": "hZh7s4XRk4Pr",
        "outputId": "9b39a97e-e610-4c69-a14c-2928c4cc629b"
      },
      "execution_count": null,
      "outputs": [
        {
          "output_type": "stream",
          "name": "stdout",
          "text": [
            "['test', 'yes', 'no', 'test', 'test']\n",
            "['test', 'yes', 'no', 'test', 'test']\n"
          ]
        }
      ]
    },
    {
      "cell_type": "markdown",
      "source": [
        "#### 2. Tuple Operations"
      ],
      "metadata": {
        "id": "sw5mr6DnHu91"
      }
    },
    {
      "cell_type": "markdown",
      "source": [
        "Contains data of different types, ordered, but **immutable** (can't modify the size of tuple and value of the any element) and also duplicate elements"
      ],
      "metadata": {
        "id": "fqRj1ypxPdAg"
      }
    },
    {
      "cell_type": "markdown",
      "source": [
        "##### 1. Initialization"
      ],
      "metadata": {
        "id": "yVCEPYziJjMm"
      }
    },
    {
      "cell_type": "code",
      "source": [
        "#Initialized empty\n",
        "tup = tuple()\n",
        "print(tup)\n",
        "tup=() \n",
        "print(tup)\n",
        "\n",
        "tup = tuple(range(0,10,2))#Declairation with Initialization\n",
        "print(tup)\n",
        "\n",
        "print(tuple(\"Sam\"))\n",
        "\n",
        "print(\"Type: \",type(tup)) #Type"
      ],
      "metadata": {
        "id": "HOvBBb8kHwtB",
        "colab": {
          "base_uri": "https://localhost:8080/"
        },
        "outputId": "df00c5b5-36ed-4941-d044-629c35c2eedc"
      },
      "execution_count": 5,
      "outputs": [
        {
          "output_type": "stream",
          "name": "stdout",
          "text": [
            "()\n",
            "()\n",
            "(0, 2, 4, 6, 8)\n",
            "('S', 'a', 'm')\n",
            "Type:  <class 'tuple'>\n"
          ]
        }
      ]
    },
    {
      "cell_type": "code",
      "source": [
        "#Immutable\n",
        "print(\"Before:\",tup)\n",
        "#tup[0] = 10 - error\n",
        "print(\"After:\",tup)"
      ],
      "metadata": {
        "colab": {
          "base_uri": "https://localhost:8080/"
        },
        "id": "-AGZh7pN6T1U",
        "outputId": "4d6cc670-56aa-4281-ef9e-bcfe091cdcd5"
      },
      "execution_count": 7,
      "outputs": [
        {
          "output_type": "stream",
          "name": "stdout",
          "text": [
            "Before: (0, 2, 4, 6, 8)\n",
            "After: (0, 2, 4, 6, 8)\n"
          ]
        }
      ]
    },
    {
      "cell_type": "code",
      "source": [
        "tup=('Sam',100,200.9,True,['python','r'])\n",
        "print(tup)\n",
        "print(\"Size/Length: \",len(tup)) #size\n",
        "\n",
        "#Retrieving element\n",
        "print(\"First character from left: \",tup[0]) #positive index\n",
        "print(\"First character from right/Last character: \",tup[-1]) #negative index"
      ],
      "metadata": {
        "colab": {
          "base_uri": "https://localhost:8080/"
        },
        "id": "KR2wvE9hJG7u",
        "outputId": "50cfe0fc-a9b2-49ff-881b-24cff090cf1e"
      },
      "execution_count": 52,
      "outputs": [
        {
          "output_type": "stream",
          "name": "stdout",
          "text": [
            "('Sam', 100, 200.9, True, ['python', 'r'])\n",
            "Size/Length:  5\n",
            "First character from left:  Sam\n",
            "First character from right/Last character:  ['python', 'r']\n"
          ]
        }
      ]
    },
    {
      "cell_type": "markdown",
      "source": [
        "##### 2. Remove - (not possible)"
      ],
      "metadata": {
        "id": "cFOZAmYzJlh4"
      }
    },
    {
      "cell_type": "markdown",
      "source": [
        "```\n",
        "remove(), pop(), del, clear() - not possible due to immutability\n",
        "```"
      ],
      "metadata": {
        "id": "WCvBiyOzBf2z"
      }
    },
    {
      "cell_type": "code",
      "source": [
        "#Remove Duplicates\n",
        "tup = (\"Sam\",\"Sam\")\n",
        "print(\"Before: \",tup)\n",
        "tup = tuple(set(tup)) #only if there is no unhashable object inside (list)\n",
        "#(\"Sam\",\"Sam\",[\"Sam\",\"Sam\"]) - error but (\"Sam\",\"Sam\",(\"Sam\",\"Sam\")) - no error\n",
        "print(\"After: \",tup)"
      ],
      "metadata": {
        "colab": {
          "base_uri": "https://localhost:8080/"
        },
        "id": "quj4P33qd6CU",
        "outputId": "709a4dd5-763f-4766-b3f3-3f85a2f9f197"
      },
      "execution_count": 54,
      "outputs": [
        {
          "output_type": "stream",
          "name": "stdout",
          "text": [
            "Before:  ('Sam', 'Sam')\n",
            "After:  ('Sam',)\n"
          ]
        }
      ]
    },
    {
      "cell_type": "markdown",
      "source": [
        "##### 3. Add - (not possible)"
      ],
      "metadata": {
        "id": "j0Dm5eP075pv"
      }
    },
    {
      "cell_type": "markdown",
      "source": [
        "```\n",
        "append(), insert(), extend() - not possible due to immutability\n",
        "```"
      ],
      "metadata": {
        "id": "P7vfywln8oZ5"
      }
    },
    {
      "cell_type": "markdown",
      "source": [
        "##### 4. Tuple Operations"
      ],
      "metadata": {
        "id": "KZOocMJC653A"
      }
    },
    {
      "cell_type": "code",
      "source": [
        "tup=(0,1,2,3,4,5,5)\n",
        "print(\"Original Tuple: \",tup)"
      ],
      "metadata": {
        "colab": {
          "base_uri": "https://localhost:8080/"
        },
        "outputId": "9827f881-d1cb-475b-fb0a-2a928082eccc",
        "id": "YEjbY686653D"
      },
      "execution_count": 39,
      "outputs": [
        {
          "output_type": "stream",
          "name": "stdout",
          "text": [
            "Original Tuple:  (0, 1, 2, 3, 4, 5, 5)\n"
          ]
        }
      ]
    },
    {
      "cell_type": "code",
      "source": [
        "print(\"Sum of all items: \",sum(tup)) #If all items are numbers\n",
        "print(\"Occurance of 1: \",tup.count(5)) #Occurance of an item\n",
        "print(\"Max:\",max(tup),\"and Min:\",min(tup)) #Max and Min item"
      ],
      "metadata": {
        "colab": {
          "base_uri": "https://localhost:8080/"
        },
        "outputId": "fd6828a0-0e14-42f6-a35b-9b0d54e7a126",
        "id": "9AKuTrkN653H"
      },
      "execution_count": 40,
      "outputs": [
        {
          "output_type": "stream",
          "name": "stdout",
          "text": [
            "Sum of all items:  20\n",
            "Occurance of 1:  2\n",
            "Max: 5 and Min: 0\n"
          ]
        }
      ]
    },
    {
      "cell_type": "code",
      "source": [
        "print(\"Concatination: \",tup+tup) #Concatination\n",
        "print(\"Repetation: \",tup*3) #Repetation\n",
        "print(\"Slicing from 1 to 4 index (positive index):: \",tup[1:5]) #Slicing with positive index\n",
        "print(\"Slicing from 1 to 4 index (negative index): \",tup[-6:-2]) #Slicing with negative index\n",
        "print(\"Slicing with 2 step from start to end: \",tup[0:len(tup):2]) #Slicing with step\n",
        "print(\"Reverse Slicing: \",tup[6:1:-2]) #Negative step\n",
        "print(\"Reverse: \",tup[::-1]) #Reverse"
      ],
      "metadata": {
        "colab": {
          "base_uri": "https://localhost:8080/"
        },
        "outputId": "f9ae1bc2-1ae3-4b00-93b3-fe8c84a49869",
        "id": "VXcd85Hj653I"
      },
      "execution_count": 41,
      "outputs": [
        {
          "output_type": "stream",
          "name": "stdout",
          "text": [
            "Concatination:  (0, 1, 2, 3, 4, 5, 5, 0, 1, 2, 3, 4, 5, 5)\n",
            "Repetation:  (0, 1, 2, 3, 4, 5, 5, 0, 1, 2, 3, 4, 5, 5, 0, 1, 2, 3, 4, 5, 5)\n",
            "Slicing from 1 to 4 index (positive index)::  (1, 2, 3, 4)\n",
            "Slicing from 1 to 4 index (negative index):  (1, 2, 3, 4)\n",
            "Slicing with 2 step from start to end:  (0, 2, 4, 5)\n",
            "Reverse Slicing:  (5, 4, 2)\n",
            "Reverse:  (5, 5, 4, 3, 2, 1, 0)\n"
          ]
        }
      ]
    },
    {
      "cell_type": "code",
      "source": [
        "print(\"Wrong Slicing (Always empty):\")\n",
        "print(\"tup[4:1] - \",tup[4:1])\n",
        "print(\"tup[6:1:2] - \",tup[6:1:2])\n",
        "print(\"tup[1:6:-2] - \",tup[1:6:-2])"
      ],
      "metadata": {
        "colab": {
          "base_uri": "https://localhost:8080/"
        },
        "outputId": "2c668702-e0df-46d2-ea21-36406dc041f2",
        "id": "wAPA2uCp653J"
      },
      "execution_count": 42,
      "outputs": [
        {
          "output_type": "stream",
          "name": "stdout",
          "text": [
            "Wrong Slicing (Always empty):\n",
            "tup[4:1] -  ()\n",
            "tup[6:1:2] -  ()\n",
            "tup[1:6:-2] -  ()\n"
          ]
        }
      ]
    },
    {
      "cell_type": "markdown",
      "source": [
        "##### 5. Search"
      ],
      "metadata": {
        "id": "a8tgGj8R8AiV"
      }
    },
    {
      "cell_type": "code",
      "source": [
        "print(\"Original Tuple: \",tup)"
      ],
      "metadata": {
        "colab": {
          "base_uri": "https://localhost:8080/"
        },
        "id": "FtNYz0Qe9InG",
        "outputId": "af7b99bc-16d4-4a19-e09c-a9960e094f2e"
      },
      "execution_count": 43,
      "outputs": [
        {
          "output_type": "stream",
          "name": "stdout",
          "text": [
            "Original Tuple:  (0, 1, 2, 3, 4, 5, 5)\n"
          ]
        }
      ]
    },
    {
      "cell_type": "code",
      "source": [
        "#return boolean - True/False\n",
        "print(\"Present in: \",5 in tup)\n",
        "print(\"Not Present in: \",5 not in tup)"
      ],
      "metadata": {
        "colab": {
          "base_uri": "https://localhost:8080/"
        },
        "outputId": "dd0c207f-9c45-4a22-cbad-f2f9ab94d667",
        "id": "YclQluso8AiZ"
      },
      "execution_count": 17,
      "outputs": [
        {
          "output_type": "stream",
          "name": "stdout",
          "text": [
            "Present in:  True\n",
            "Not Present in:  False\n"
          ]
        }
      ]
    },
    {
      "cell_type": "code",
      "source": [
        "#Error if not present, return index of first occurrence, Start and End index are optional parameters\n",
        "print(\"Index of 5: \",tup.index(5,1,6)) #Error if not present"
      ],
      "metadata": {
        "colab": {
          "base_uri": "https://localhost:8080/"
        },
        "outputId": "12e37aeb-0a92-4cec-91d3-749e5c593777",
        "id": "gDPx9HbS8Aic"
      },
      "execution_count": 18,
      "outputs": [
        {
          "output_type": "stream",
          "name": "stdout",
          "text": [
            "Index of 5:  5\n"
          ]
        }
      ]
    },
    {
      "cell_type": "code",
      "source": [
        "#find() method is only for string, not other sequences"
      ],
      "metadata": {
        "id": "GgARlPvf8Aif"
      },
      "execution_count": 20,
      "outputs": []
    },
    {
      "cell_type": "markdown",
      "source": [
        "##### 6. Sort"
      ],
      "metadata": {
        "id": "OjiDYTSl9zZA"
      }
    },
    {
      "cell_type": "code",
      "source": [
        "#sort() - method is only for list, not for tuple"
      ],
      "metadata": {
        "id": "Nl875XS09zZC"
      },
      "execution_count": 47,
      "outputs": []
    },
    {
      "cell_type": "code",
      "source": [
        "#sorted() - doesn't change the tuple directly and returns the sorted value\n",
        "print(\"By sorted() method -\")\n",
        "vowels = ('u','a','i','e','o')\n",
        "print(\"Actual Tuple: \",vowels)\n",
        "vowels1 = sorted(vowels) #Default Ascending order\n",
        "print(\"Ascending Order: \",vowels1)\n",
        "vowels2 = sorted(vowels,reverse=True) #Descending order\n",
        "print(\"Descending Order: \",vowels2)"
      ],
      "metadata": {
        "colab": {
          "base_uri": "https://localhost:8080/"
        },
        "outputId": "c38337e6-0912-4d6d-84b1-1d4f3b8f5f7f",
        "id": "ejXmVQM79zZD"
      },
      "execution_count": 48,
      "outputs": [
        {
          "output_type": "stream",
          "name": "stdout",
          "text": [
            "By sorted() method -\n",
            "Actual Tuple:  ('u', 'a', 'i', 'e', 'o')\n",
            "Ascending Order:  ['a', 'e', 'i', 'o', 'u']\n",
            "Descending Order:  ['u', 'o', 'i', 'e', 'a']\n"
          ]
        }
      ]
    },
    {
      "cell_type": "markdown",
      "source": [
        "#### 3. Set Operations"
      ],
      "metadata": {
        "id": "05Zb9QVrO6-V"
      }
    },
    {
      "cell_type": "markdown",
      "source": [
        "Contains data of different types, **unordered**, mutable, with **no duplicate** elements"
      ],
      "metadata": {
        "id": "qqvSgbEtPw8L"
      }
    },
    {
      "cell_type": "code",
      "source": [
        ""
      ],
      "metadata": {
        "id": "4h5xnJ74PAmn"
      },
      "execution_count": null,
      "outputs": []
    },
    {
      "cell_type": "markdown",
      "source": [
        "#### 4. Dictionary Operations"
      ],
      "metadata": {
        "id": "0QCDkGGcPCU0"
      }
    },
    {
      "cell_type": "markdown",
      "source": [
        "Key can hold any primitive data type, whereas value is an arbitrary python object"
      ],
      "metadata": {
        "id": "7_bcG7QqP5Cz"
      }
    },
    {
      "cell_type": "code",
      "source": [
        ""
      ],
      "metadata": {
        "id": "_AdNdT5gPFvH"
      },
      "execution_count": null,
      "outputs": []
    },
    {
      "cell_type": "markdown",
      "source": [
        "#### 5. Typecaste Datatypes"
      ],
      "metadata": {
        "id": "TotdvEXVUUyh"
      }
    },
    {
      "cell_type": "code",
      "source": [
        "str=\"Soumyadeep\"\n",
        "lst=list(str)\n",
        "print(lst)"
      ],
      "metadata": {
        "colab": {
          "base_uri": "https://localhost:8080/"
        },
        "id": "RKX1KBZOUSf5",
        "outputId": "54866b77-9623-40ac-f797-459f398e30bf"
      },
      "execution_count": null,
      "outputs": [
        {
          "output_type": "stream",
          "name": "stdout",
          "text": [
            "['S', 'o', 'u', 'm', 'y', 'a', 'd', 'e', 'e', 'p']\n"
          ]
        }
      ]
    },
    {
      "cell_type": "markdown",
      "source": [
        "#### 6. Python Array"
      ],
      "metadata": {
        "id": "Rr68jRGIH71l"
      }
    },
    {
      "cell_type": "markdown",
      "source": [
        "Python does not have built-in Array. <br>\n",
        "Here all elements should be same datatype."
      ],
      "metadata": {
        "id": "0eXaeLKCIB62"
      }
    },
    {
      "cell_type": "code",
      "source": [
        "import array as arr\n",
        "\n",
        "#integer type array\n",
        "a = arr.array('i', [1, 2, 3])\n",
        "print(\"Original array: \", end =\" \")\n",
        "for i in range(0, len(a)):\n",
        "\tprint(a[i], end =\" \")\n",
        "print()\n",
        "\n",
        "a.append(4) #add at the last\n",
        "print(\"After append: \", end =\" \")\n",
        "for i in range(0, len(a)):\n",
        "\tprint(a[i], end =\" \")\n",
        "print()\n",
        "\n",
        "a.insert(2, 4) #add at 2nd index\n",
        "print(\"After insert: \", end =\" \")\n",
        "for i in range(0, len(a)):\n",
        "\tprint(a[i], end =\" \")\n",
        "print()\n",
        "\n",
        "\n",
        "#float type array\n",
        "b = arr.array('d', [2.5, 3.2, 3.3])\n",
        "print(\"Float array: \", end =\" \")\n",
        "for i in range(0, len(b)):\n",
        "\tprint (b[i], end =\" \")"
      ],
      "metadata": {
        "colab": {
          "base_uri": "https://localhost:8080/"
        },
        "id": "OnGOmrRzIEDU",
        "outputId": "ce0ccfa2-db3e-4d77-ef2c-4786756c6fe4"
      },
      "execution_count": null,
      "outputs": [
        {
          "output_type": "stream",
          "name": "stdout",
          "text": [
            "Original array:  1 2 3 \n",
            "After append:  1 2 3 4 \n",
            "After insert:  1 2 4 3 4 \n",
            "Float array:  2.5 3.2 3.3 "
          ]
        }
      ]
    }
  ]
}