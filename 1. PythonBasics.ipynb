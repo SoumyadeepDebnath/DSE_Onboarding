{
 "cells": [
  {
   "cell_type": "markdown",
   "metadata": {},
   "source": [
    "#### 1. Comment\n",
    "\n",
    "- Single Line Comment - #\n",
    "- Multiline Comment - \"\"\" \"\"\""
   ]
  },
  {
   "cell_type": "markdown",
   "metadata": {},
   "source": [
    "#### 2. Built in method - print()"
   ]
  },
  {
   "cell_type": "code",
   "execution_count": 1,
   "metadata": {},
   "outputs": [
    {
     "name": "stdout",
     "output_type": "stream",
     "text": [
      "Hello\n",
      "My name is  Soumyadeep\n",
      "My first name is Soumyadeep and last name is Debnath\n",
      "My first name is Soumyadeep and last name is Debnath\n"
     ]
    }
   ],
   "source": [
    "print('Hello')\n",
    "\n",
    "firstName = \"Soumyadeep\"\n",
    "print(\"My name is \",firstName)\n",
    "\n",
    "firstName = \"Soumyadeep\"\n",
    "lastName = \"Debnath\"\n",
    "print(\"My first name is {} and last name is {}\".format(firstName,lastName)) #sequence matter\n",
    "print(\"My first name is {value1} and last name is {value2}\".format(value2=lastName,value1=firstName)) #sequence not matter"
   ]
  },
  {
   "cell_type": "markdown",
   "metadata": {},
   "source": [
    "#### 3. Naming Convension\n",
    "- Camel Case: In the camel case, each word or abbreviation in the middle of begins with a capital letter. There is no intervention of whitespace. For example - nameOfStudent, valueOfVaraible, etc.\n",
    "- Pascal Case: It is the same as the Camel Case, but here the first word is also capital. For example - NameOfStudent, etc.\n",
    "- Snake Case: In the snake case, Words are separated by the underscore. For example - name_of_student, etc."
   ]
  },
  {
   "cell_type": "markdown",
   "metadata": {},
   "source": [
    "#### 4. Variable and Assignments"
   ]
  },
  {
   "cell_type": "code",
   "execution_count": 2,
   "metadata": {},
   "outputs": [
    {
     "name": "stdout",
     "output_type": "stream",
     "text": [
      "value:  50 , id:  140727138860352\n",
      "value:  50 , id:  140727138860352\n",
      "value:  python , id:  2065268063024\n"
     ]
    }
   ],
   "source": [
    "#Reassigning values to a variable\n",
    "var1 = 50\n",
    "var2 = var1\n",
    "print('value: ', var1,', id: ',id(var1))\n",
    "print('value: ', var2,', id: ',id(var2))\n",
    "var1 = 'python'  \n",
    "print('value: ', var1,', id: ',id(var1))"
   ]
  },
  {
   "cell_type": "code",
   "execution_count": 3,
   "metadata": {},
   "outputs": [
    {
     "name": "stdout",
     "output_type": "stream",
     "text": [
      "50 50 50\n"
     ]
    }
   ],
   "source": [
    "#Assigning single value to multiple variables\n",
    "x=y=z=50\n",
    "print(x,y,z)"
   ]
  },
  {
   "cell_type": "code",
   "execution_count": 4,
   "metadata": {},
   "outputs": [
    {
     "name": "stdout",
     "output_type": "stream",
     "text": [
      "5 10 15\n"
     ]
    }
   ],
   "source": [
    "#Assigning multiple values to multiple variables\n",
    "a,b,c=5,10,15\n",
    "print(a,b,c)"
   ]
  },
  {
   "cell_type": "markdown",
   "metadata": {},
   "source": [
    "#### 5. Datatypes\n",
    "- Boolean - True, False\n",
    "- Numbers: Integer, Float, Complex\n",
    "- Sequence: (Concatenation by +, Repetation by *, Slicing by [:])\n",
    " - String\n",
    " - List - Contains data of different types, ordered, mutable and also duplicate elements.\n",
    " - Tuple - Contains data of different types but immutable/Read-only (can't modify the size of tuple and value of the any element).\n",
    "- Set: Contains data of different types, unordered, mutable, with no duplicate elements.\n",
    "- Dictionary - Key can hold any primitive data type, whereas value is an arbitrary python object."
   ]
  },
  {
   "cell_type": "markdown",
   "metadata": {},
   "source": [
    "#### 6. Built in method - type()\n",
    "type(True) - bool <br>\n",
    "\n",
    "type(1) - int <br>\n",
    "type(1.4) - float <br>\n",
    "type(1+3j) - complex <br>\n",
    "\n",
    "type('p') - str <br>\n",
    "type([1,'hi',2.3]) - list <br>\n",
    "type((\"hi\", \"Python\", 2)) - tuple <br>\n",
    "\n",
    "type({1:'Sam', 2:'Alex'}) - dict"
   ]
  },
  {
   "cell_type": "markdown",
   "metadata": {},
   "source": [
    "#### 7. Built in method - isinstance()\n",
    "function is used to check an object belongs to a particular class - return Ture/False\n",
    "\n",
    "isinstance({1:'Sam', 2:'Alex'},dict) - True"
   ]
  },
  {
   "cell_type": "markdown",
   "metadata": {},
   "source": [
    "#### 8. Arithmetic Operators"
   ]
  },
  {
   "cell_type": "code",
   "execution_count": 5,
   "metadata": {},
   "outputs": [
    {
     "name": "stdout",
     "output_type": "stream",
     "text": [
      "Addition: 5+2 = 7\n",
      "Substraction: 5-2 = 3\n",
      "Multiplication: 5*2 = 10\n",
      "Division: 5/2 = 2.5\n",
      "Floor Division: 5//2 = 2\n",
      "Reminder: 5%2 = 1\n",
      "Exponent: 5**2 = 25\n",
      "Concat: 5*'i'+'j' = iiiiij\n"
     ]
    }
   ],
   "source": [
    "print(\"Addition: 5+2 =\",5+2)\n",
    "print(\"Substraction: 5-2 =\",5-2)\n",
    "print(\"Multiplication: 5*2 =\",5*2)\n",
    "print(\"Division: 5/2 =\",5/2)\n",
    "print(\"Floor Division: 5//2 =\",5//2)\n",
    "print(\"Reminder: 5%2 =\",5%2)\n",
    "print(\"Exponent: 5**2 =\",5**2)\n",
    "print(\"Concat: 5*'i'+'j' =\",5*'i'+'j')"
   ]
  },
  {
   "cell_type": "markdown",
   "metadata": {},
   "source": [
    "#### 9. String Operations"
   ]
  },
  {
   "cell_type": "code",
   "execution_count": 6,
   "metadata": {},
   "outputs": [
    {
     "name": "stdout",
     "output_type": "stream",
     "text": [
      "String Concat: 5*'i'+'j' = iiiiij\n",
      "single line string\n",
      "multiline \n",
      "string\n"
     ]
    }
   ],
   "source": [
    "print(\"String Concat: 5*'i'+'j' =\",5*'i'+'j')\n",
    "\n",
    "#Single line String\n",
    "str = \"single line string\"  \n",
    "print(str)\n",
    "\n",
    "str = \"\"\"multiline \n",
    "string\"\"\"  \n",
    "print(str)"
   ]
  },
  {
   "cell_type": "code",
   "execution_count": 7,
   "metadata": {},
   "outputs": [
    {
     "name": "stdout",
     "output_type": "stream",
     "text": [
      "Actual String: hey all, Sam is here now\n",
      "Fourth Character: a\n",
      "From 1st to 4th:  ey a\n",
      "From Start to 4th:  hey a\n",
      "From 10th to Last:  am is here now\n",
      "From Last 5th to last 2nd:  e no\n",
      "Reverse:  won ereh si maS ,lla yeh\n"
     ]
    }
   ],
   "source": [
    "str1 = 'hey all, Sam is here now'\n",
    "print(\"Actual String: \"+str1)\n",
    "print(\"Fourth Character: \"+str1[4]) #Retrieving character\n",
    "\n",
    "#Substring\n",
    "print(\"From 1st to 4th: \",str1[1:5])\n",
    "print(\"From Start to 4th: \",str1[:5])\n",
    "print(\"From 10th to Last: \",str1[10:])\n",
    "print(\"From Last 5th to last 2nd: \",str1[-5:-1])\n",
    "\n",
    "#Reversing\n",
    "print(\"Reverse: \",str1[::-1])"
   ]
  },
  {
   "cell_type": "code",
   "execution_count": 9,
   "metadata": {},
   "outputs": [
    {
     "name": "stdout",
     "output_type": "stream",
     "text": [
      "First index of substring by index():  9\n",
      "First index of substring by find():  9\n"
     ]
    }
   ],
   "source": [
    "#Search\n",
    "print(\"First index of substring by index(): \",str1.index('Sam',0,18)) #Error if not present, index of first occurrence, Start and End index are optional parameters\n",
    "status = str1.find('Sam',0,18) #-1 if not present, Index of first occurrence, Start and End index are optional parameters\n",
    "if(status!=-1): \n",
    "    print(\"First index of substring by find(): \",status)\n",
    "else:\n",
    "    print(\"Item not present\")"
   ]
  },
  {
   "cell_type": "markdown",
   "metadata": {},
   "source": [
    "#### 10. Boolean Operations"
   ]
  },
  {
   "cell_type": "code",
   "execution_count": 10,
   "metadata": {},
   "outputs": [
    {
     "name": "stdout",
     "output_type": "stream",
     "text": [
      "Initialize:  False\n",
      "True\n",
      "True\n",
      "Upper Only Case:  False\n",
      "Lower Only Case:  False\n",
      "Contain Only Space:  False\n",
      "Alphanumeric:  False\n",
      "Alphabetic:  False\n",
      "Numeric:  False\n",
      "Have Tile word:  False\n"
     ]
    }
   ],
   "source": [
    "bl = bool() #Declair and Initialize with False value\n",
    "print(\"Initialize: \",bl)\n",
    "\n",
    "my_str = 'Sam is a Data Scientist'\n",
    "print(my_str.startswith('Sam')) #test if string startswith 'Sam'\n",
    "print(my_str.endswith('Scientist')) #test if string endswith 'Scientist'\n",
    "print(\"Upper Only Case: \",my_str.isupper())\n",
    "print(\"Lower Only Case: \",my_str.islower())\n",
    "print(\"Contain Only Space: \",my_str.isspace())\n",
    "\n",
    "print(\"Alphanumeric: \",my_str.isalnum())\n",
    "print(\"Alphabetic: \",my_str.isalpha())\n",
    "print(\"Numeric: \",my_str.isdigit())\n",
    "print(\"Have Tile word: \",my_str.istitle()) #Single word with first character is capital"
   ]
  }
 ],
 "metadata": {
  "kernelspec": {
   "display_name": "Python 3",
   "language": "python",
   "name": "python3"
  },
  "language_info": {
   "codemirror_mode": {
    "name": "ipython",
    "version": 3
   },
   "file_extension": ".py",
   "mimetype": "text/x-python",
   "name": "python",
   "nbconvert_exporter": "python",
   "pygments_lexer": "ipython3",
   "version": "3.8.3"
  }
 },
 "nbformat": 4,
 "nbformat_minor": 4
}
