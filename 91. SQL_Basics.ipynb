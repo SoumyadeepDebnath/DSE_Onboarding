{
  "nbformat": 4,
  "nbformat_minor": 0,
  "metadata": {
    "colab": {
      "name": "SQL-Basics.ipynb",
      "provenance": [],
      "authorship_tag": "ABX9TyNlE0RgSuvQ/QuDjvNCGXQ4",
      "include_colab_link": true
    },
    "kernelspec": {
      "name": "python3",
      "display_name": "Python 3"
    },
    "language_info": {
      "name": "python"
    }
  },
  "cells": [
    {
      "cell_type": "markdown",
      "metadata": {
        "id": "view-in-github",
        "colab_type": "text"
      },
      "source": [
        "<a href=\"https://colab.research.google.com/github/SoumyadeepDebnath/Data-Engineering/blob/main/91.%20SQL_Basics.ipynb\" target=\"_parent\"><img src=\"https://colab.research.google.com/assets/colab-badge.svg\" alt=\"Open In Colab\"/></a>"
      ]
    },
    {
      "cell_type": "markdown",
      "source": [
        "## **Concepts**"
      ],
      "metadata": {
        "id": "hPyq5GDfjZ_3"
      }
    },
    {
      "cell_type": "markdown",
      "source": [
        "**[Data Types](https://www.javatpoint.com/sql-data-types)**\n",
        "*   String \n",
        "*   Numeric\n",
        "*   Date and time Data\n",
        "\n"
      ],
      "metadata": {
        "id": "Vgy-rMz5dnHk"
      }
    },
    {
      "cell_type": "markdown",
      "source": [
        "####**Primary Key :** *(unique/no duplicate, not null, single column)*\n",
        "\n",
        "A column or columns is called primary key (PK) that uniquely identifies each row in the table. *A table can contain only one primary key constraint*.\n",
        "\n",
        "If you want to create a primary key, you should define a PRIMARY KEY constraint when you create or modify a table.\n",
        "\n",
        "When multiple columns are used as a primary key, it is known as **Composite Primary Key**.\n",
        "\n",
        "####**Composite Key :** *(unique/no duplicate, not null, single column)*\n",
        "\n",
        "A composite key is a combination of two or more columns in a table that can be used to uniquely identify each row in the table when *the columns are combined uniqueness is guaranteed, but when it taken individually it does not guarantee uniqueness*.\n",
        "\n",
        "Sometimes more than one attributes are needed to uniquely identify an entity. A primary key that is made by the combination of more than one attribute is known as a composite key.\n",
        "\n",
        "In shorts, Composite key is a key which is the combination of more than one field or column of a given table. It may be a candidate key or primary key.\n",
        "\n",
        "*Columns that make up the composite key can be of different data types.*"
      ],
      "metadata": {
        "id": "ZpULRdPxmTy4"
      }
    },
    {
      "cell_type": "code",
      "source": [
        "#Single Column\n",
        "\"\"\"\n",
        "ALTER TABLE table_name \n",
        "ADD PRIMARY KEY (column_name);\n",
        "\n",
        "ALTER TABLE table_name \n",
        "DROP PRIMARY KEY (column_name);\n",
        "\"\"\"\n",
        "#Multiple Column\n",
        "\"\"\"\n",
        "ALTER TABLE table_name \n",
        "ADD CONSTRAINT constraint_name \n",
        "PRIMARY KEY (column_name1, column_name2);\n",
        "\n",
        "ALTER TABLE table_name \n",
        "DROP CONSTRAINT constraint_name;\n",
        "\"\"\""
      ],
      "metadata": {
        "id": "S4o-KoOxk6l4"
      },
      "execution_count": null,
      "outputs": []
    },
    {
      "cell_type": "markdown",
      "source": [
        "####**Foreign Key(s) :** *(can be duplicate, can be multiple null, single column for one relation)*\n",
        "\n",
        "In the relational databases, a foreign key is a field or a column that is used to establish a link between two tables.\n",
        "\n",
        "In simple words you can say that, a foreign key in one table used to point primary key in another table."
      ],
      "metadata": {
        "id": "NaWLgRnjmsWP"
      }
    },
    {
      "cell_type": "code",
      "source": [
        "\n",
        "\"\"\"\n",
        "ALTER TABLE table_name1\n",
        "ADD CONSTRAINT constraint_name \n",
        "PRIMARY KEY (primary_key_column_name)\n",
        "REFERENCES table_name2 (foreign_key_column_name);\n",
        "\n",
        "ALTER TABLE table_name\n",
        "DROP FOREIGN KEY constraint_name;\n",
        "\"\"\""
      ],
      "metadata": {
        "id": "5azabQiGm2Z6"
      },
      "execution_count": null,
      "outputs": []
    },
    {
      "cell_type": "markdown",
      "source": [
        "####**Unique Key(s) :** *(unique/no duplicate, can be one null, one or more columns)*\n",
        "\n",
        "A unique key is a set of one or more than one columns of a table that uniquely identify a record in a database table.\n",
        "\n",
        "There is an automatically defined unique key constraint within a primary key constraint.\n",
        "\n",
        "**Comparisons :**\n",
        "```\n",
        "The unique key and primary key both provide a guarantee for uniqueness for a column or a set of columns.\n",
        "\n",
        "> You can say that it is little like primary key but it can accept only one null value and it cannot have duplicate values.\n",
        "> For one table, there may be many unique key constraints, but only one PRIMARY KEY constraint.\n",
        "\n",
        "```"
      ],
      "metadata": {
        "id": "htr92j7KqQ4m"
      }
    },
    {
      "cell_type": "code",
      "source": [
        "#Single Column\n",
        "\"\"\"\n",
        "ALTER TABLE table_name \n",
        "ADD UNIQUE (column_name);\n",
        "\n",
        "ALTER TABLE table_name \n",
        "DROP UNIQUE (column_name);\n",
        "\"\"\"\n",
        "#Multiple Column\n",
        "\"\"\"\n",
        "ALTER TABLE table_name \n",
        "ADD CONSTRAINT constraint_name \n",
        "UNIQUE (column_name1, column_name2);\n",
        "\n",
        "ALTER TABLE table_name \n",
        "DROP CONSTRAINT constraint_name or DROP INDEX constraint_name;\n",
        "\"\"\""
      ],
      "metadata": {
        "id": "Y8d1qwApsnjE"
      },
      "execution_count": null,
      "outputs": []
    },
    {
      "cell_type": "markdown",
      "source": [
        "#### **Alternate Key(s) :** *(unique/no duplicate, not null, one or more columns)*\n",
        "\n",
        "#### **Candidate Key(s) :** *(unique/no duplicate, not null, one or more columns)*\n",
        "If a table has more than one candidate key, one of them will become the primary key and rest of all are called alternate keys.\n",
        "\n",
        "#### **Compound Key :** *()*\n",
        "The difference between compound and the composite key is that any part of the compound key can be a foreign key, but the composite key may or maybe not a part of the foreign key.\n",
        "\n",
        "#### **Surrogate Key :** *()*"
      ],
      "metadata": {
        "id": "dXaZjxmSvcjC"
      }
    },
    {
      "cell_type": "markdown",
      "source": [
        "## **Basic Queries**"
      ],
      "metadata": {
        "id": "S5gKCd3OeWIB"
      }
    },
    {
      "cell_type": "markdown",
      "source": [
        "#### **Database**"
      ],
      "metadata": {
        "id": "vOVfwKbqazBs"
      }
    },
    {
      "cell_type": "code",
      "source": [
        "\"\"\"\n",
        "SHOW DATABASE;\n",
        "\"\"\"\n",
        "\n",
        "SHOW DATABASE;"
      ],
      "metadata": {
        "id": "I3uQzzIqe8Go"
      },
      "execution_count": null,
      "outputs": []
    },
    {
      "cell_type": "code",
      "execution_count": null,
      "metadata": {
        "id": "pDDFKOPIauCl"
      },
      "outputs": [],
      "source": [
        "\"\"\"\n",
        "CREATE DATABASE database_name;\n",
        "\"\"\"\n",
        "\t\n",
        "CREATE DATABASE Company, Student;"
      ]
    },
    {
      "cell_type": "code",
      "source": [
        "\"\"\"\n",
        "ALTER DATABASE old_database_name MODIFY NAME = new_database_name;  \n",
        "\"\"\"\n",
        "\n",
        "ALTER DATABASE Student MODIFY NAME = College ;"
      ],
      "metadata": {
        "id": "G9_EhRObhJVQ"
      },
      "execution_count": null,
      "outputs": []
    },
    {
      "cell_type": "code",
      "source": [
        "\"\"\"\n",
        "DROP DATABASE database_name;\n",
        "\"\"\"\n",
        "\t\n",
        "DROP DATABASE Company, Student;"
      ],
      "metadata": {
        "id": "xJVa-WKZbFP1"
      },
      "execution_count": null,
      "outputs": []
    },
    {
      "cell_type": "markdown",
      "source": [
        "`    Cannot drop database \"database_name\" because it is currently in use.  `\n",
        "\n",
        "`    Can't drop database 'database_name'; database doesn't exist`"
      ],
      "metadata": {
        "id": "I6HIY2g6gQuq"
      }
    },
    {
      "cell_type": "code",
      "source": [
        "\"\"\"\n",
        "REPLACE DATABASE database_name;\n",
        "\"\"\"\n",
        "\n",
        "REPLACE DATABASE Company;"
      ],
      "metadata": {
        "id": "r21ULPKrfmL_"
      },
      "execution_count": null,
      "outputs": []
    },
    {
      "cell_type": "markdown",
      "source": [
        "*SQL does not allow developers to create the database with the existing database name. Suppose if you want to create another Student database in the same database system, then the Create Database statement will show the following error in the output:*\n",
        "\n",
        "`Can't create database 'Student'; database exists`\n",
        "\n",
        "*So, firstly you have to delete the existing database by using the Drop Statement. You can also replace the existing database with the help of Replace keyword.*"
      ],
      "metadata": {
        "id": "2IkShzJkfHm9"
      }
    },
    {
      "cell_type": "code",
      "source": [
        "\"\"\"\n",
        "USE database_name;\n",
        "\"\"\"\n",
        "\n",
        "USE DATABASE Company;"
      ],
      "metadata": {
        "id": "relnRBV_hod2"
      },
      "execution_count": null,
      "outputs": []
    },
    {
      "cell_type": "markdown",
      "source": [
        "This SQL statement selects the existing SQL database. Before performing the operations on the database table, you have to select the database from the multiple existing databases."
      ],
      "metadata": {
        "id": "pUgP-d3_hsM6"
      }
    },
    {
      "cell_type": "markdown",
      "source": [
        "#### **Table**"
      ],
      "metadata": {
        "id": "dFngj6MYbH6l"
      }
    },
    {
      "cell_type": "code",
      "source": [
        "\"\"\"\n",
        "CREATE TABLE table_name\n",
        "(\n",
        "column_name1 data_type [column1 constraint(s)],\n",
        "column_name2 data_type [column2 constraint(s)],\n",
        ".....,  \n",
        "column_nameN data_type [columnN constraint(s)],\n",
        "    [PRIMARY KEY (column_name) or CONSTRAINT constraint_name PRIMARY KEY (column_name1, column_name2);]\n",
        "    [FOREIGN KEY (foreign_key_column_name) REFERENCES other_table_name (primary_key_column_name)]\n",
        "    [UNIQUE (column_name) or CONSTRAINT constraint_name UNIQUE (column_name1, column_name2)]\n",
        ");\n",
        "\"\"\"\n",
        "\n",
        "CREATE TABLE Employee_details(\n",
        "    Emp_Id NUMBER(4) NOT NULL,\n",
        "    First_name VARCHAR(30),\n",
        "    Last_name VARCHAR(30),\n",
        "    Salary Money,\n",
        "    City VARCHAR(30),\n",
        "    PRIMARY KEY (Emp_Id)\n",
        ");"
      ],
      "metadata": {
        "id": "WWQW3gQ5bKak"
      },
      "execution_count": null,
      "outputs": []
    },
    {
      "cell_type": "code",
      "source": [
        "\"\"\"\n",
        "ALTER TABLE table_name ADD column_name datatype [columnN constraint(s)];\n",
        "ALTER TABLE table_name MODIFY column_name column_datatype;\n",
        "ALTER TABLE table_name DROP COLUMN column_name;\n",
        "\"\"\""
      ],
      "metadata": {
        "id": "BsXdxrE3bXsE"
      },
      "execution_count": null,
      "outputs": []
    },
    {
      "cell_type": "code",
      "source": [
        "\"\"\"\n",
        "DROP TABLE [ IF EXISTS ]\n",
        "table_name1, table_name2, ……, table_nameN;\n",
        "\"\"\"\n",
        "\n",
        "DROP TABLE Employee_details, Company_details;"
      ],
      "metadata": {
        "id": "3xRywVvTbdXE"
      },
      "execution_count": null,
      "outputs": []
    },
    {
      "cell_type": "markdown",
      "source": [
        "#### **Record / Row**"
      ],
      "metadata": {
        "id": "Xwf1ZlSibXVc"
      }
    },
    {
      "cell_type": "code",
      "source": [
        "\"\"\"\n",
        "INSERT INTO table_name  \n",
        "(column_name1, column_name2, .…, column_nameN)  \n",
        "VALUES (value_1, value_2, ..…, value_N), (value_1, value_2, ..…, value_N);\n",
        "\"\"\"\n",
        "\n",
        "INSERT INTO Employee_details  \n",
        "(Emp_ID, Name)\n",
        "VALUES (101, Akhil);"
      ],
      "metadata": {
        "id": "2JHKHZztbqiJ"
      },
      "execution_count": null,
      "outputs": []
    },
    {
      "cell_type": "code",
      "source": [
        "\"\"\"\n",
        "SELECT column_name1, column_name2, .…, column_nameN\n",
        "FROM table_name\n",
        "    [ WHERE condition ]\n",
        "    [ ORDER BY order_column_name1 [ ASC | DESC ], .... ];\n",
        "\"\"\"\n",
        "\n",
        "SELECT Emp_ID, First_Name, Last_Name, Salary, City\n",
        "FROM Employee_details\n",
        "WHERE Salary = 100000\n",
        "ORDER BY Last_Name;\n",
        "\n",
        "\n",
        "\"\"\"\n",
        "SELECT DISTINCT column_name1, column_name2, ...\n",
        "FROM table_name;\n",
        "    [ WHERE condition ]\n",
        "    [ ORDER BY order_column_name1 [ ASC | DESC ], .... ];\n",
        "\"\"\"\n",
        "\n",
        "SELECT DISTINCT Emp_ID, First_Name, Last_Name, Salary, City\n",
        "FROM Employee_details"
      ],
      "metadata": {
        "id": "OWekBjlqb5Qt"
      },
      "execution_count": null,
      "outputs": []
    },
    {
      "cell_type": "code",
      "source": [
        "\"\"\"\n",
        "UPDATE table_name\n",
        "SET column_name1 = new_value_1, column_name2 = new_value_2, ...., column_nameN = new_value_N  \n",
        "    [ WHERE  condition ];\n",
        "\"\"\"\n",
        "\n",
        "UPDATE Employee_details\n",
        "SET Salary = 100000\n",
        "WHERE Emp_ID = 10;"
      ],
      "metadata": {
        "id": "BbUixb8ab16b"
      },
      "execution_count": null,
      "outputs": []
    },
    {
      "cell_type": "code",
      "source": [
        "\"\"\"\n",
        "DELETE FROM table_name\n",
        "WHERE CONDITION;\n",
        "\"\"\"\n",
        "\n",
        "DELETE FROM Employee_details  \n",
        "WHERE First_Name = 'Sumit';"
      ],
      "metadata": {
        "id": "18W5nzw8bz7n"
      },
      "execution_count": null,
      "outputs": []
    },
    {
      "cell_type": "code",
      "source": [
        "#TRUNCATE TABLE table_name;\n",
        "\n",
        "TRUNCATE TABLE Employee_details;"
      ],
      "metadata": {
        "id": "NnURKR2ubxq1"
      },
      "execution_count": null,
      "outputs": []
    },
    {
      "cell_type": "markdown",
      "source": [
        "## **Joins**\n",
        "1.   Inner Join\n",
        "2.   Left Outer Join\n",
        "3.   Right Outer Join\n",
        "4.   Outer Join / Full Outer Join\n",
        "5.   Cross Join\n",
        "\n"
      ],
      "metadata": {
        "id": "eINrP42c0tDi"
      }
    },
    {
      "cell_type": "markdown",
      "source": [
        ""
      ],
      "metadata": {
        "id": "jCgTrbG_VA8o"
      }
    },
    {
      "cell_type": "code",
      "source": [
        ""
      ],
      "metadata": {
        "id": "xRbfi-TH0wW1"
      },
      "execution_count": null,
      "outputs": []
    },
    {
      "cell_type": "markdown",
      "source": [
        "## **Clause**\n",
        "1.   WHERE\n",
        "2.   AND\n",
        "3.   OR\n",
        "4.   WITH\n",
        "5.   AS\n",
        "6.   HAVING\n",
        "7.   ORDER BY\n",
        "8.   GROUP BY"
      ],
      "metadata": {
        "id": "teRaPXvcR57_"
      }
    },
    {
      "cell_type": "code",
      "source": [
        "\"\"\"\n",
        "SELECT column1, column 2, ... column n  \n",
        "FROM    table_name  \n",
        "WHERE [conditions]\n",
        "\n",
        "SELECT column_names FROM table_name WHERE condition 1 AND condition 2;\n",
        "\n",
        "SELECT column_names FROM table_name WHERE condition 1 OR condition 2;\n",
        "\"\"\"   "
      ],
      "metadata": {
        "id": "AjXIm1WvUGt5"
      },
      "execution_count": null,
      "outputs": []
    },
    {
      "cell_type": "code",
      "source": [
        "\"\"\"\n",
        "WITH <alias_name> AS (sql_sub-query_statement)  \n",
        "SELECT column_list FROM <alias_name> [table name]  \n",
        "[WHERE <join_condition>]  \n",
        "When you use multiple sub-query aliases, the syntax will be as follows.\n",
        "\n",
        "WITH <alias_name_A>  AS (sql_sub-query_statement)  \n",
        "<alias_name_B> AS (sql_sub-query_statement_from_alias_name_A  \n",
        "Or sql_sub-query_statement)  \n",
        "SELECT <column_list>  \n",
        "FROM <alias_name_A >,< alias_name_B >, [tablenames]  \n",
        "[WHERE < join_condition>]\n",
        "\"\"\""
      ],
      "metadata": {
        "id": "SFriT0CoUCPV"
      },
      "execution_count": null,
      "outputs": []
    },
    {
      "cell_type": "code",
      "source": [
        "\"\"\"\n",
        "SELECT Column_Name1 AS New_Column_Name, Column_Name2  As New_Column_Name FROM Table_Name;\n",
        "\"\"\"\n",
        "\n",
        "SELECT day_of_order AS 'Date', Customer As 'Client', Product, Quantity FROM orders;"
      ],
      "metadata": {
        "id": "HJS9FQShTNFx"
      },
      "execution_count": null,
      "outputs": []
    },
    {
      "cell_type": "code",
      "source": [
        "SELECT SUM(Emp_Salary), Emp_City FROM Employee GROUP BY Emp_City HAVING SUM(Emp_Salary)>5000;\n",
        "\n",
        "SELECT COUNT(Roll_No), Age FROM Student_details GROUP BY Age HAVING COUNT(Roll_No) >= 2;\n",
        "\n",
        "SELECT MIN(Emp_Salary), Emp_Dept FROM Employee GROUP BY Emp_Dept HAVING MIN(Emp_Salary) > 4000;\n",
        "\n",
        "SELECT MAX(Emp_Salary), Emp_Dept FROM Employee GROUP BY Emp_Dept HAVING MAX(Emp_Salary) < 8000;\n",
        "\n",
        "SELECT AVG(Emp_Salary), Emp_Dept FROM Employee_Dept GROUP BY Emp_Dept HAVING AVG(Emp_Salary) > 6500;"
      ],
      "metadata": {
        "id": "LOc9DJG2ScVu"
      },
      "execution_count": null,
      "outputs": []
    },
    {
      "cell_type": "markdown",
      "source": [
        "> The main difference between WHERE & Having clause is that,\n",
        "\n",
        "the WHERE clause is used to **specify a condition for filtering records before any grouping**. \n",
        "\n",
        "while the HAVING clause is used to **specify a condition for filtering values from a group after grouping**."
      ],
      "metadata": {
        "id": "BzVDlVfRVG3R"
      }
    },
    {
      "cell_type": "code",
      "source": [
        "\"\"\"\n",
        "can be applicable with multiple columns also (sequentially)\n",
        "\"\"\"\n",
        "\n",
        "SELECT D_name, D_state, D_salary\n",
        "FROM developers\n",
        "ORDER BY D_state DESC; #default ascending order\n",
        "\n",
        "SELECT D_state, avg(D_salary) AS salary\n",
        "FROM developers\n",
        "GROUP BY D_state;"
      ],
      "metadata": {
        "id": "e2sgfHyXY2v5"
      },
      "execution_count": null,
      "outputs": []
    },
    {
      "cell_type": "markdown",
      "source": [
        "> The main difference between ORDER BY & GROUP By clause is that,\n",
        "\n",
        "The ORDER BY clause is applicable when we want to get the data based on the **sorting order of one or multiple columns**.\n",
        "\n",
        "the GROUP BY clause is applicable when we want to get the data based on the **grouping order of one or multiple columns using aggregate function**.\n"
      ],
      "metadata": {
        "id": "LVnPmmZsXPCq"
      }
    },
    {
      "cell_type": "markdown",
      "source": [
        "## **Clause**\n",
        "1.   WHERE\n",
        "2.   AND\n",
        "3.   OR\n",
        "4.   WITH\n",
        "5.   AS\n",
        "6.   HAVING"
      ],
      "metadata": {
        "id": "RfbDfDjXSb2X"
      }
    },
    {
      "cell_type": "markdown",
      "source": [
        ""
      ],
      "metadata": {
        "id": "9j0BSZ5EWrzN"
      }
    }
  ]
}