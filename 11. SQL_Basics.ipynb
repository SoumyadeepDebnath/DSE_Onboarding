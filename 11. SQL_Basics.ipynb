{
  "nbformat": 4,
  "nbformat_minor": 0,
  "metadata": {
    "colab": {
      "name": "SQL-Basics.ipynb",
      "provenance": [],
      "authorship_tag": "ABX9TyMP0BeJp9ZjwKn86HMIRt1/",
      "include_colab_link": true
    },
    "kernelspec": {
      "name": "python3",
      "display_name": "Python 3"
    },
    "language_info": {
      "name": "python"
    }
  },
  "cells": [
    {
      "cell_type": "markdown",
      "metadata": {
        "id": "view-in-github",
        "colab_type": "text"
      },
      "source": [
        "<a href=\"https://colab.research.google.com/github/SoumyadeepDebnath/Data-Engineering/blob/main/11.%20SQL_Basics.ipynb\" target=\"_parent\"><img src=\"https://colab.research.google.com/assets/colab-badge.svg\" alt=\"Open In Colab\"/></a>"
      ]
    },
    {
      "cell_type": "markdown",
      "source": [
        "#### **Database**"
      ],
      "metadata": {
        "id": "vOVfwKbqazBs"
      }
    },
    {
      "cell_type": "code",
      "execution_count": null,
      "metadata": {
        "id": "pDDFKOPIauCl"
      },
      "outputs": [],
      "source": [
        "#CREATE DATABASE database_name;\n",
        "\t\n",
        "CREATE DATABASE Company;"
      ]
    },
    {
      "cell_type": "code",
      "source": [
        "#DROP DATABASE database_name;\n",
        "\t\n",
        "DROP DATABASE Company;"
      ],
      "metadata": {
        "id": "xJVa-WKZbFP1"
      },
      "execution_count": null,
      "outputs": []
    },
    {
      "cell_type": "markdown",
      "source": [
        "#### **Table**"
      ],
      "metadata": {
        "id": "dFngj6MYbH6l"
      }
    },
    {
      "cell_type": "code",
      "source": [
        "\"\"\"\n",
        "CREATE TABLE table_name\n",
        "(\n",
        "column_name1 data_type [column1 constraint(s)],\n",
        "column_name2 data_type [column2 constraint(s)],\n",
        ".....,  \n",
        "column_nameN data_type [columnN constraint(s)],\n",
        "PRIMARY KEY(one or more col)\n",
        ");\n",
        "\"\"\"\n",
        "\n",
        "CREATE TABLE Employee_details(\n",
        "    Emp_Id NUMBER(4) NOT NULL,\n",
        "    First_name VARCHAR(30),\n",
        "    Last_name VARCHAR(30),\n",
        "    Salary Money,\n",
        "    City VARCHAR(30),\n",
        "    PRIMARY KEY (Emp_Id)\n",
        ");"
      ],
      "metadata": {
        "id": "WWQW3gQ5bKak"
      },
      "execution_count": null,
      "outputs": []
    },
    {
      "cell_type": "code",
      "source": [
        "\"\"\"\n",
        "ALTER TABLE table_name ADD column_name datatype [columnN constraint(s)];\n",
        "ALTER TABLE table_name MODIFY column_name column_datatype;\n",
        "ALTER TABLE table_name DROP COLUMN column_name;\n",
        "\"\"\""
      ],
      "metadata": {
        "id": "BsXdxrE3bXsE"
      },
      "execution_count": null,
      "outputs": []
    },
    {
      "cell_type": "code",
      "source": [
        "\"\"\"\n",
        "DROP TABLE [ IF EXISTS ]\n",
        "table_name1, table_name2, ……, table_nameN;\n",
        "\"\"\"\n",
        "\n",
        "DROP TABLE Employee_details, Company_details;"
      ],
      "metadata": {
        "id": "3xRywVvTbdXE"
      },
      "execution_count": null,
      "outputs": []
    },
    {
      "cell_type": "markdown",
      "source": [
        "#### **Record / Row**"
      ],
      "metadata": {
        "id": "Xwf1ZlSibXVc"
      }
    },
    {
      "cell_type": "code",
      "source": [
        "\"\"\"\n",
        "INSERT INTO table_name  \n",
        "(column_name1, column_name2, .…, column_nameN)  \n",
        "VALUES (value_1, value_2, ..…, value_N), (value_1, value_2, ..…, value_N);\n",
        "\"\"\"\n",
        "\n",
        "INSERT INTO Employee_details  \n",
        "(Emp_ID, Name)\n",
        "VALUES (101, Akhil);"
      ],
      "metadata": {
        "id": "2JHKHZztbqiJ"
      },
      "execution_count": null,
      "outputs": []
    },
    {
      "cell_type": "code",
      "source": [
        "\"\"\"\n",
        "SELECT column_name1, column_name2, .…, column_nameN\n",
        "FROM table_name\n",
        "    [ WHERE condition ]\n",
        "    [ ORDER BY order_column_name1 [ ASC | DESC ], .... ];\n",
        "\"\"\"\n",
        "\n",
        "SELECT Emp_ID, First_Name, Last_Name, Salary, City\n",
        "FROM Employee_details\n",
        "WHERE Salary = 100000\n",
        "ORDER BY Last_Name;\n",
        "\n",
        "\n",
        "\"\"\"\n",
        "SELECT DISTINCT column_name1, column_name2, ...\n",
        "FROM table_name;\n",
        "    [ WHERE condition ]\n",
        "    [ ORDER BY order_column_name1 [ ASC | DESC ], .... ];\n",
        "\"\"\"\n",
        "\n",
        "SELECT DISTINCT Emp_ID, First_Name, Last_Name, Salary, City\n",
        "FROM Employee_details"
      ],
      "metadata": {
        "id": "OWekBjlqb5Qt"
      },
      "execution_count": null,
      "outputs": []
    },
    {
      "cell_type": "code",
      "source": [
        "\"\"\"\n",
        "UPDATE table_name\n",
        "SET column_name1 = new_value_1, column_name2 = new_value_2, ...., column_nameN = new_value_N  \n",
        "    [ WHERE  condition ];\n",
        "\"\"\"\n",
        "\n",
        "UPDATE Employee_details\n",
        "SET Salary = 100000\n",
        "WHERE Emp_ID = 10;"
      ],
      "metadata": {
        "id": "BbUixb8ab16b"
      },
      "execution_count": null,
      "outputs": []
    },
    {
      "cell_type": "code",
      "source": [
        "\"\"\"\n",
        "DELETE FROM table_name\n",
        "WHERE CONDITION;\n",
        "\"\"\"\n",
        "\n",
        "DELETE FROM Employee_details  \n",
        "WHERE First_Name = 'Sumit';"
      ],
      "metadata": {
        "id": "18W5nzw8bz7n"
      },
      "execution_count": null,
      "outputs": []
    },
    {
      "cell_type": "code",
      "source": [
        "#TRUNCATE TABLE table_name;\n",
        "\n",
        "TRUNCATE TABLE Employee_details;"
      ],
      "metadata": {
        "id": "NnURKR2ubxq1"
      },
      "execution_count": null,
      "outputs": []
    }
  ]
}