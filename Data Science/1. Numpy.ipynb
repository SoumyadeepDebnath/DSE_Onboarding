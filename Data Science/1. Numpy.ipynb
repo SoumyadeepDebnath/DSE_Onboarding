{
 "cells": [
  {
   "cell_type": "markdown",
   "metadata": {},
   "source": [
    "NumPy is a general-purpose array-processing package. It provides a high-performance multidimensional array object, and tools for working with these arrays. It is the fundamental package for scientific computing with Python.\n",
    "\n",
    "#### Array\n",
    "An array is a data structure that stores values of same data type. In Python, list can contain values corresponding to different data types but array can only contain values corresponding to same data type"
   ]
  },
  {
   "cell_type": "code",
   "execution_count": 1,
   "metadata": {},
   "outputs": [],
   "source": [
    "# pip install numpy or conda install numpy - for manually install\n",
    "\n",
    "#Import Mumpy\n",
    "import numpy as np"
   ]
  },
  {
   "cell_type": "markdown",
   "metadata": {},
   "source": [
    "#### Single Dimension array"
   ]
  },
  {
   "cell_type": "code",
   "execution_count": 2,
   "metadata": {},
   "outputs": [
    {
     "name": "stdout",
     "output_type": "stream",
     "text": [
      "[1 2 3 4 5 6]\n",
      "<class 'numpy.ndarray'>\n",
      "(6,)\n"
     ]
    }
   ],
   "source": [
    "my_lst=[1,2,3,4,5,6]\n",
    "arr1 = np.array(my_lst)\n",
    "\n",
    "print(arr1)\n",
    "print(type(arr1))\n",
    "print(arr1.shape) #know only no of columns for 1D array"
   ]
  },
  {
   "cell_type": "code",
   "execution_count": 3,
   "metadata": {},
   "outputs": [
    {
     "data": {
      "text/plain": [
       "array([1, 2, 3, 4, 5, 6])"
      ]
     },
     "execution_count": 3,
     "metadata": {},
     "output_type": "execute_result"
    }
   ],
   "source": [
    "arr1"
   ]
  },
  {
   "cell_type": "code",
   "execution_count": 4,
   "metadata": {},
   "outputs": [
    {
     "data": {
      "text/plain": [
       "array([[1, 2],\n",
       "       [3, 4],\n",
       "       [5, 6]])"
      ]
     },
     "execution_count": 4,
     "metadata": {},
     "output_type": "execute_result"
    }
   ],
   "source": [
    "arr2 = arr1.reshape(3,2) #convert shape with same no of elements, otherwise error\n",
    "arr2"
   ]
  },
  {
   "cell_type": "markdown",
   "metadata": {},
   "source": [
    "#### Multinested / Multi Dimension array"
   ]
  },
  {
   "cell_type": "code",
   "execution_count": 5,
   "metadata": {},
   "outputs": [
    {
     "name": "stdout",
     "output_type": "stream",
     "text": [
      "[[1 2 3 4 5]\n",
      " [2 3 4 5 6]\n",
      " [9 7 6 8 9]]\n",
      "<class 'numpy.ndarray'>\n",
      "(3, 5)\n"
     ]
    }
   ],
   "source": [
    "my_lst1=[1,2,3,4,5]\n",
    "my_lst2=[2,3,4,5,6]\n",
    "my_lst3=[9,7,6,8,9]\n",
    "arr3 = np.array([my_lst1,my_lst2,my_lst3])\n",
    "\n",
    "print(arr3)\n",
    "print(type(arr3))\n",
    "print(arr3.shape) #know no of row & column"
   ]
  },
  {
   "cell_type": "code",
   "execution_count": 6,
   "metadata": {},
   "outputs": [
    {
     "data": {
      "text/plain": [
       "array([[1, 2, 3, 4, 5],\n",
       "       [2, 3, 4, 5, 6],\n",
       "       [9, 7, 6, 8, 9]])"
      ]
     },
     "execution_count": 6,
     "metadata": {},
     "output_type": "execute_result"
    }
   ],
   "source": [
    "arr3"
   ]
  },
  {
   "cell_type": "code",
   "execution_count": 7,
   "metadata": {},
   "outputs": [
    {
     "data": {
      "text/plain": [
       "array([[1, 2, 3],\n",
       "       [4, 5, 2],\n",
       "       [3, 4, 5],\n",
       "       [6, 9, 7],\n",
       "       [6, 8, 9]])"
      ]
     },
     "execution_count": 7,
     "metadata": {},
     "output_type": "execute_result"
    }
   ],
   "source": [
    "arr4 = arr3.reshape(5,3) #Convert shape with same no of elements, otherwise error\n",
    "arr4"
   ]
  },
  {
   "cell_type": "markdown",
   "metadata": {},
   "source": [
    "#### 1D array Indexing"
   ]
  },
  {
   "cell_type": "code",
   "execution_count": 8,
   "metadata": {},
   "outputs": [
    {
     "data": {
      "text/plain": [
       "array([1, 2, 3, 4, 5, 6])"
      ]
     },
     "execution_count": 8,
     "metadata": {},
     "output_type": "execute_result"
    }
   ],
   "source": [
    "arr1"
   ]
  },
  {
   "cell_type": "code",
   "execution_count": 9,
   "metadata": {},
   "outputs": [
    {
     "data": {
      "text/plain": [
       "array([1, 2, 3, 4, 5, 6])"
      ]
     },
     "execution_count": 9,
     "metadata": {},
     "output_type": "execute_result"
    }
   ],
   "source": [
    "arr1[:] #All elements"
   ]
  },
  {
   "cell_type": "code",
   "execution_count": 10,
   "metadata": {},
   "outputs": [
    {
     "data": {
      "text/plain": [
       "5"
      ]
     },
     "execution_count": 10,
     "metadata": {},
     "output_type": "execute_result"
    }
   ],
   "source": [
    "arr1[4] #Single element"
   ]
  },
  {
   "cell_type": "code",
   "execution_count": 11,
   "metadata": {},
   "outputs": [
    {
     "data": {
      "text/plain": [
       "array([4, 5, 6])"
      ]
     },
     "execution_count": 11,
     "metadata": {},
     "output_type": "execute_result"
    }
   ],
   "source": [
    "arr1[3:] #As 1d arry so, from 3rd column to last column"
   ]
  },
  {
   "cell_type": "markdown",
   "metadata": {},
   "source": [
    "#### 2D array Indexing"
   ]
  },
  {
   "cell_type": "code",
   "execution_count": 12,
   "metadata": {},
   "outputs": [
    {
     "data": {
      "text/plain": [
       "array([[1, 2, 3, 4, 5],\n",
       "       [2, 3, 4, 5, 6],\n",
       "       [9, 7, 6, 8, 9]])"
      ]
     },
     "execution_count": 12,
     "metadata": {},
     "output_type": "execute_result"
    }
   ],
   "source": [
    "arr3"
   ]
  },
  {
   "cell_type": "code",
   "execution_count": 13,
   "metadata": {},
   "outputs": [
    {
     "data": {
      "text/plain": [
       "array([[1, 2, 3, 4, 5],\n",
       "       [2, 3, 4, 5, 6],\n",
       "       [9, 7, 6, 8, 9]])"
      ]
     },
     "execution_count": 13,
     "metadata": {},
     "output_type": "execute_result"
    }
   ],
   "source": [
    "arr3[:] #All elements"
   ]
  },
  {
   "cell_type": "code",
   "execution_count": 14,
   "metadata": {},
   "outputs": [
    {
     "data": {
      "text/plain": [
       "array([[5, 6],\n",
       "       [8, 9]])"
      ]
     },
     "execution_count": 14,
     "metadata": {},
     "output_type": "execute_result"
    }
   ],
   "source": [
    "arr3[1:,3:] #From 1st row to last row and from 3rd column to last column"
   ]
  },
  {
   "cell_type": "code",
   "execution_count": 15,
   "metadata": {},
   "outputs": [
    {
     "data": {
      "text/plain": [
       "array([[4, 5],\n",
       "       [5, 6],\n",
       "       [8, 9]])"
      ]
     },
     "execution_count": 15,
     "metadata": {},
     "output_type": "execute_result"
    }
   ],
   "source": [
    "arr3[:,3:] #For all rows, from 3rd column to last column"
   ]
  },
  {
   "cell_type": "code",
   "execution_count": 16,
   "metadata": {},
   "outputs": [
    {
     "data": {
      "text/plain": [
       "array([[2, 3, 4, 5, 6],\n",
       "       [9, 7, 6, 8, 9]])"
      ]
     },
     "execution_count": 16,
     "metadata": {},
     "output_type": "execute_result"
    }
   ],
   "source": [
    "arr3[1:,:] #From 1st row to last row, for all columns"
   ]
  },
  {
   "cell_type": "code",
   "execution_count": 17,
   "metadata": {},
   "outputs": [
    {
     "data": {
      "text/plain": [
       "array([[4, 5],\n",
       "       [5, 6]])"
      ]
     },
     "execution_count": 17,
     "metadata": {},
     "output_type": "execute_result"
    }
   ],
   "source": [
    "arr3[0:2,3:5] #Specific part"
   ]
  },
  {
   "cell_type": "markdown",
   "metadata": {},
   "source": [
    "#### Build in functions"
   ]
  },
  {
   "cell_type": "code",
   "execution_count": 18,
   "metadata": {},
   "outputs": [
    {
     "name": "stdout",
     "output_type": "stream",
     "text": [
      "1D Linspace:  [ 1.   2.8  4.6  6.4  8.2 10. ]\n",
      "nD Linspace:\n",
      " [[ 1.   2.8  4.6]\n",
      " [ 6.4  8.2 10. ]]\n",
      "\n",
      "\n",
      "1D Initialize:  [1 2 3 4 5 6 7 8 9]\n",
      "nD Initialize:\n",
      " [[1 2 3]\n",
      " [4 5 6]\n",
      " [7 8 9]]\n",
      "\n",
      "\n",
      "1D Updated:\n",
      " [1 2 3 4 0 0 0 0 0]\n",
      "nD Updated:\n",
      " [[1 2 3]\n",
      " [4 0 0]\n",
      " [7 0 0]]\n"
     ]
    }
   ],
   "source": [
    "#Initialize\n",
    "arr = np.linspace(1,10,6) #With n no of equally spaced values in the range\n",
    "print(\"1D Linspace: \",arr)\n",
    "arr1 = np.linspace(1,10,6).reshape(2,3) #With n no of equally spaced values in the range with shape\n",
    "print(\"nD Linspace:\\n\",arr1)\n",
    "\n",
    "print(\"\\n\")\n",
    "\n",
    "arr = np.arange(1,10,1) #With start, end before, step values\n",
    "print(\"1D Initialize: \",arr)\n",
    "arr1 = np.arange(1,10,1).reshape(3,3) #With start, end before, step values with shape\n",
    "print(\"nD Initialize:\\n\",arr1)\n",
    "\n",
    "print(\"\\n\")\n",
    "\n",
    "arr[4:]=0 #Replaced values and updated\n",
    "print(\"1D Updated:\\n\",arr)\n",
    "arr1[1:,1:]=0 #Replaced values and updated with shape\n",
    "print(\"nD Updated:\\n\",arr1)"
   ]
  },
  {
   "cell_type": "code",
   "execution_count": 19,
   "metadata": {},
   "outputs": [
    {
     "name": "stdout",
     "output_type": "stream",
     "text": [
      "Actual arr:  [1 2 3 4 5 6 7 8 9]\n",
      "After direct copy - (reference is also copying)\n",
      "arr:  [1 2 3 4 0 0 0 0 0]\n",
      "arr1:  [1 2 3 4 0 0 0 0 0]\n",
      "\n",
      "\n",
      "Actual arr:  [1 2 3 4 5 6 7 8 9]\n",
      "After copy by copy() - (copying in new reference)\n",
      "arr:  [1 2 3 4 5 6 7 8 9]\n",
      "arr1:  [1 2 3 4 0 0 0 0 0]\n"
     ]
    }
   ],
   "source": [
    "#copy() function and broadcasting for 1D, nD also possible\n",
    "arr = np.array([1,2,3,4,5,6,7,8,9])\n",
    "print(\"Actual arr: \",arr)\n",
    "print(\"After direct copy - (reference is also copying)\")\n",
    "arr1= arr\n",
    "arr1[4:] = 0\n",
    "print(\"arr: \",arr)\n",
    "print(\"arr1: \",arr1)\n",
    "\n",
    "print(\"\\n\")\n",
    "\n",
    "arr = np.array([1,2,3,4,5,6,7,8,9])\n",
    "print(\"Actual arr: \",arr)\n",
    "print(\"After copy by copy() - (copying in new reference)\")\n",
    "arr1= arr.copy()\n",
    "arr1[4:] = 0\n",
    "print(\"arr: \",arr)\n",
    "print(\"arr1: \",arr1)"
   ]
  },
  {
   "cell_type": "code",
   "execution_count": 20,
   "metadata": {},
   "outputs": [
    {
     "name": "stdout",
     "output_type": "stream",
     "text": [
      "[1. 1. 1. 1. 1.]\n",
      "[[1 1 1]\n",
      " [1 1 1]]\n"
     ]
    }
   ],
   "source": [
    "arr = np.ones(5) #Initialize will all 1 with default float type\n",
    "print(arr)\n",
    "\n",
    "arr = np.ones((2,3),dtype=int)\n",
    "print(arr)"
   ]
  },
  {
   "cell_type": "code",
   "execution_count": 21,
   "metadata": {},
   "outputs": [
    {
     "name": "stdout",
     "output_type": "stream",
     "text": [
      "Definite no of Random Integers within a range:\n",
      " [72 35 82 33 64 52 94 88]\n",
      "\n",
      "\n",
      "Definite no of Random Integers within a Range with Shape:\n",
      " [[88 35 76 25]\n",
      " [ 3 88  2 75]]\n",
      "\n",
      "\n",
      "Random Floats with Shape:\n",
      " [[0.30646409 0.90274554 0.22210068 0.46209245 0.99929203]\n",
      " [0.12063093 0.34473951 0.27391851 0.50428395 0.1341161 ]]\n",
      "\n",
      "\n",
      "Random Sample from Uniform Distribution with Shape:\n",
      " [[0.03861068 0.49404621 0.02740142 0.35754029]\n",
      " [0.58093402 0.44863046 0.32756581 0.68461918]\n",
      " [0.15438759 0.65030393 0.60325935 0.17807852]]\n",
      "\n",
      "\n",
      "Random Sample from Standard Normal Distribution with Shape:\n",
      " [[ 0.62770403 -1.24629493  0.29413905  0.59553562]\n",
      " [ 0.49028797  0.81990155  2.90390159  0.98166222]\n",
      " [-2.01682907  0.48131821  0.85393762  0.2309463 ]]\n"
     ]
    }
   ],
   "source": [
    "arr = np.random.randint(1,100,8) #default 1D array\n",
    "print(\"Definite no of Random Integers within a range:\\n\",arr)\n",
    "\n",
    "print(\"\\n\")\n",
    "\n",
    "arr = np.random.randint(1,100,8).reshape(2,4)\n",
    "print(\"Definite no of Random Integers within a Range with Shape:\\n\",arr)\n",
    "\n",
    "print(\"\\n\")\n",
    "\n",
    "arr = np.random.random_sample((2,5)) #default interval [0,1) and shape optional\n",
    "print(\"Random Floats with Shape:\\n\",arr)\n",
    "\n",
    "print(\"\\n\")\n",
    "\n",
    "arr = np.random.rand(3,4) #default interval [0,1)\n",
    "print(\"Random Sample from Uniform Distribution with Shape:\\n\",arr)\n",
    "\n",
    "print(\"\\n\")\n",
    "\n",
    "arr = np.random.randn(3,4)\n",
    "print(\"Random Sample from Standard Normal Distribution with Shape:\\n\",arr)"
   ]
  },
  {
   "cell_type": "markdown",
   "metadata": {},
   "source": [
    "#### Basic Conditions and Operations"
   ]
  },
  {
   "cell_type": "code",
   "execution_count": 23,
   "metadata": {},
   "outputs": [
    {
     "name": "stdout",
     "output_type": "stream",
     "text": [
      "Actual arr:  [1 2 3 4 5 6 7 8 9]\n",
      "\n",
      "\n",
      "Summation with all elements:  [ 4  5  6  7  8  9 10 11 12]\n",
      "Substrtaction with all elements:  [-2 -1  0  1  2  3  4  5  6]\n",
      "Multiplication with all elements:  [ 3  6  9 12 15 18 21 24 27]\n",
      "Division with all elements:  [0.33333333 0.66666667 1.         1.33333333 1.66666667 2.\n",
      " 2.33333333 2.66666667 3.        ]\n",
      "Reminder of all elements:  [1 2 0 1 2 0 1 2 0]\n",
      "\n",
      "\n",
      "Checking condition with all elements:  [ True  True False False False False False False False]\n",
      "Elements less than 3 are [1 2] \n"
     ]
    }
   ],
   "source": [
    "val = 3\n",
    "\n",
    "arr = np.array([1,2,3,4,5,6,7,8,9])\n",
    "print(\"Actual arr: \",arr)\n",
    "\n",
    "print(\"\\n\")\n",
    "\n",
    "print(\"Summation with all elements: \",arr+val)\n",
    "print(\"Substrtaction with all elements: \",arr-val)\n",
    "print(\"Multiplication with all elements: \",arr*val)\n",
    "print(\"Division with all elements: \",arr/val)\n",
    "print(\"Reminder of all elements: \",arr%val)\n",
    "\n",
    "print(\"\\n\")\n",
    "\n",
    "print(\"Checking condition with all elements: \",arr<val)\n",
    "\n",
    "#Extract elements with condition\n",
    "print(\"Elements less than {} are {} \".format(val,arr[arr<val]))"
   ]
  }
 ],
 "metadata": {
  "kernelspec": {
   "display_name": "Python 3",
   "language": "python",
   "name": "python3"
  },
  "language_info": {
   "codemirror_mode": {
    "name": "ipython",
    "version": 3
   },
   "file_extension": ".py",
   "mimetype": "text/x-python",
   "name": "python",
   "nbconvert_exporter": "python",
   "pygments_lexer": "ipython3",
   "version": "3.8.3"
  }
 },
 "nbformat": 4,
 "nbformat_minor": 4
}
