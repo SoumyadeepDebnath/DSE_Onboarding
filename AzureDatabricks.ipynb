{
  "nbformat": 4,
  "nbformat_minor": 0,
  "metadata": {
    "colab": {
      "name": "AzureDatabricks.ipynb",
      "provenance": [],
      "collapsed_sections": [
        "sWLLaI4CD8en",
        "tX6UYRZ-AEWa",
        "HShPxMPu-Y5h"
      ],
      "authorship_tag": "ABX9TyPB3nGe6IuUj6jizkL9tT1a",
      "include_colab_link": true
    },
    "kernelspec": {
      "name": "python3",
      "display_name": "Python 3"
    },
    "language_info": {
      "name": "python"
    }
  },
  "cells": [
    {
      "cell_type": "markdown",
      "metadata": {
        "id": "view-in-github",
        "colab_type": "text"
      },
      "source": [
        "<a href=\"https://colab.research.google.com/github/SoumyadeepDebnath/Data-Engineering/blob/main/AzureDatabricks.ipynb\" target=\"_parent\"><img src=\"https://colab.research.google.com/assets/colab-badge.svg\" alt=\"Open In Colab\"/></a>"
      ]
    },
    {
      "cell_type": "code",
      "source": [
        "#display the dataframe in normal tabular view, we can get the different views like tablular or charts (pie,Area,Bar,etc.), and download options from Databricks.\n",
        "df.display() / display(df)"
      ],
      "metadata": {
        "id": "vM9l8UzPGDN7"
      },
      "execution_count": null,
      "outputs": []
    },
    {
      "cell_type": "markdown",
      "source": [
        "#### **DBFS**"
      ],
      "metadata": {
        "id": "sWLLaI4CD8en"
      }
    },
    {
      "cell_type": "code",
      "execution_count": null,
      "metadata": {
        "id": "VLv2LoF5bmNm"
      },
      "outputs": [],
      "source": [
        "%fs ls"
      ]
    },
    {
      "cell_type": "markdown",
      "source": [
        "![image.png](data:image/png;base64,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)"
      ],
      "metadata": {
        "id": "jgHBaS5uIcEL"
      }
    },
    {
      "cell_type": "code",
      "source": [
        "%fs mkdir mydir\n",
        "# -> dbfs:/mydir/"
      ],
      "metadata": {
        "id": "1QaHVyOWDwuD"
      },
      "execution_count": null,
      "outputs": []
    },
    {
      "cell_type": "markdown",
      "source": [
        "#### **Upload Data without Mount**"
      ],
      "metadata": {
        "id": "tX6UYRZ-AEWa"
      }
    },
    {
      "cell_type": "code",
      "source": [
        "#File path - dbfs:/FileStore/shared_uploads/<username>/"
      ],
      "metadata": {
        "id": "4drOpnHnACqH"
      },
      "execution_count": null,
      "outputs": []
    },
    {
      "cell_type": "markdown",
      "source": [
        "#### **Mount**"
      ],
      "metadata": {
        "id": "HShPxMPu-Y5h"
      }
    },
    {
      "cell_type": "code",
      "source": [
        "#File path - dbfs:/mnt/<mount-name>/...../"
      ],
      "metadata": {
        "id": "QjJdcUKZApVy"
      },
      "execution_count": null,
      "outputs": []
    },
    {
      "cell_type": "code",
      "source": [
        "dbutils.fs.help()"
      ],
      "metadata": {
        "id": "MpfH2O4a-gby"
      },
      "execution_count": null,
      "outputs": []
    },
    {
      "cell_type": "code",
      "source": [
        "#Mount Azure Blob storage containers to DBFS\n",
        "dbutils.fs.mount(\n",
        "  source = \"wasbs://<container-name>@<storage-account-name>.blob.core.windows.net\",\n",
        "  mount_point = \"/mnt/<mount-name>\",\n",
        "  extra_configs = {\"<conf-key>\":dbutils.secrets.get(scope = \"<scope-name>\", key = \"<key-name>\")})"
      ],
      "metadata": {
        "id": "IpJGieyC_DH2"
      },
      "execution_count": null,
      "outputs": []
    },
    {
      "cell_type": "code",
      "source": [
        "dbutils.fs.refreshMounts()"
      ],
      "metadata": {
        "id": "RBbWlrt2bqK1"
      },
      "execution_count": null,
      "outputs": []
    },
    {
      "cell_type": "code",
      "source": [
        "dbutils.fs.unmount(\"/mnt/<mount-name>\")"
      ],
      "metadata": {
        "id": "Niu2ZYUa_JDI"
      },
      "execution_count": null,
      "outputs": []
    },
    {
      "cell_type": "code",
      "source": [
        "#Show list of mounts :\n",
        "\n",
        "%fs mounts\n",
        "\n",
        "dbutils.fs.ls(\"<mount-path>\")\n",
        "%fs ls <mount-path>"
      ],
      "metadata": {
        "id": "zDvsM7SF-72g"
      },
      "execution_count": null,
      "outputs": []
    },
    {
      "cell_type": "markdown",
      "source": [
        "https://docs.microsoft.com/en-us/azure/databricks/_static/notebooks/delta/quickstart-python.html"
      ],
      "metadata": {
        "id": "pDXgOONC4dv1"
      }
    },
    {
      "cell_type": "code",
      "source": [
        "#clean ip\n",
        "dbutils.fs.rm(path, True)\n",
        "\n"
      ],
      "metadata": {
        "id": "WqwtH3mn4WVd"
      },
      "execution_count": null,
      "outputs": []
    },
    {
      "cell_type": "markdown",
      "source": [
        "### **Execute a DataBricks Notebook From Another Notebook**"
      ],
      "metadata": {
        "id": "PAo_whKD-Il6"
      }
    },
    {
      "cell_type": "markdown",
      "source": [
        "This command accepts three parameters:\n",
        "1.   path: relative path to the executed notebook\n",
        "2.   timeout (in seconds): kill the notebook in case the execution time exceeds the given timeout\n",
        "3.   arguments: a dictionary of arguments that is passed to the executed notebook, must be implemented as widgets in the executed notebook\n",
        "\n",
        "\n",
        "\n"
      ],
      "metadata": {
        "id": "QcK5xLb--V-j"
      }
    },
    {
      "cell_type": "code",
      "source": [
        "dbutils.notebook.run(\"notebook-name_with_path\", 60, {\"argument\": \"data\", \"argument2\": \"data2\", ...})\n",
        "dbutils.notebook.exit(\"notebook-name_with_path\")"
      ],
      "metadata": {
        "id": "8xH4hWaMbqJA"
      },
      "execution_count": null,
      "outputs": []
    },
    {
      "cell_type": "code",
      "source": [
        "# Example 1 - returning data through temporary views.\n",
        "# You can only return one string using dbutils.notebook.exit(), but since called notebooks reside in the same JVM, you can\n",
        "# return a name referencing data stored in a temporary view.\n",
        "\n",
        "## In callee notebook\n",
        "spark.range(5).toDF(\"value\").createOrReplaceGlobalTempView(\"my_data\")\n",
        "dbutils.notebook.exit(\"my_data\")\n",
        "\n",
        "## In caller notebook\n",
        "returned_table = dbutils.notebook.run(\"LOCATION_OF_CALLEE_NOTEBOOK\", 60)\n",
        "global_temp_db = spark.conf.get(\"spark.sql.globalTempDatabase\")\n",
        "display(table(global_temp_db + \".\" + returned_table))\n",
        "\n",
        "# Example 2 - returning data through DBFS.\n",
        "# For larger datasets, you can write the results to DBFS and then return the DBFS path of the stored data.\n",
        "\n",
        "## In callee notebook\n",
        "dbutils.fs.rm(\"/tmp/results/my_data\", recurse=True)\n",
        "spark.range(5).toDF(\"value\").write.format(\"parquet\").load(\"dbfs:/tmp/results/my_data\")\n",
        "dbutils.notebook.exit(\"dbfs:/tmp/results/my_data\")\n",
        "\n",
        "## In caller notebook\n",
        "returned_table = dbutils.notebook.run(\"LOCATION_OF_CALLEE_NOTEBOOK\", 60)\n",
        "display(spark.read.format(\"parquet\").load(returned_table))\n",
        "\n",
        "# Example 3 - returning JSON data.\n",
        "# To return multiple values, you can use standard JSON libraries to serialize and deserialize results.\n",
        "\n",
        "## In callee notebook\n",
        "import json\n",
        "dbutils.notebook.exit(json.dumps({\n",
        "  \"status\": \"OK\",\n",
        "  \"table\": \"my_data\"\n",
        "}))\n",
        "\n",
        "## In caller notebook\n",
        "result = dbutils.notebook.run(\"LOCATION_OF_CALLEE_NOTEBOOK\", 60)\n",
        "print(json.loads(result))"
      ],
      "metadata": {
        "id": "CtHdZS1kbqGn"
      },
      "execution_count": null,
      "outputs": []
    },
    {
      "cell_type": "markdown",
      "source": [
        "### **Check the version of Azure Databricks Runtime**"
      ],
      "metadata": {
        "id": "OqFid81E_TTN"
      }
    },
    {
      "cell_type": "code",
      "source": [
        "spark.conf.get(\"spark.databricks.clusterUsageTags.sparkVersion\")"
      ],
      "metadata": {
        "id": "fQj_AF5pbqFN"
      },
      "execution_count": null,
      "outputs": []
    },
    {
      "cell_type": "markdown",
      "source": [
        "### **Checking the version of Azure Databricks Runtime**"
      ],
      "metadata": {
        "id": "srUee1J0NXE9"
      }
    },
    {
      "cell_type": "code",
      "source": [],
      "metadata": {
        "id": "TGzfBDP-bqC5"
      },
      "execution_count": null,
      "outputs": []
    },
    {
      "cell_type": "code",
      "source": [],
      "metadata": {
        "id": "rrLJbkwMbqA0"
      },
      "execution_count": null,
      "outputs": []
    },
    {
      "cell_type": "code",
      "source": [],
      "metadata": {
        "id": "a_S-rhhRbp-x"
      },
      "execution_count": null,
      "outputs": []
    },
    {
      "cell_type": "code",
      "source": [],
      "metadata": {
        "id": "I0a4YzI1bp8q"
      },
      "execution_count": null,
      "outputs": []
    },
    {
      "cell_type": "code",
      "source": [],
      "metadata": {
        "id": "iFFt77cEbp6g"
      },
      "execution_count": null,
      "outputs": []
    },
    {
      "cell_type": "code",
      "source": [],
      "metadata": {
        "id": "s3gLu9qebp3_"
      },
      "execution_count": null,
      "outputs": []
    },
    {
      "cell_type": "code",
      "source": [],
      "metadata": {
        "id": "PUlBvn5Xbpy_"
      },
      "execution_count": null,
      "outputs": []
    },
    {
      "cell_type": "code",
      "source": [],
      "metadata": {
        "id": "1P5jg_g2bpkY"
      },
      "execution_count": null,
      "outputs": []
    },
    {
      "cell_type": "markdown",
      "source": [],
      "metadata": {
        "id": "umGsKmmQ-HJd"
      }
    }
  ]
}