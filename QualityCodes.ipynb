{
  "nbformat": 4,
  "nbformat_minor": 0,
  "metadata": {
    "colab": {
      "name": "QualityCodes.ipynb",
      "provenance": [],
      "authorship_tag": "ABX9TyMgOOZRTrn9HIikhGRq80gM",
      "include_colab_link": true
    },
    "kernelspec": {
      "name": "python3",
      "display_name": "Python 3"
    },
    "language_info": {
      "name": "python"
    }
  },
  "cells": [
    {
      "cell_type": "markdown",
      "metadata": {
        "id": "view-in-github",
        "colab_type": "text"
      },
      "source": [
        "<a href=\"https://colab.research.google.com/github/SoumyadeepDebnath/DataEngineering_with_Python_by_SAM/blob/main/QualityCodes.ipynb\" target=\"_parent\"><img src=\"https://colab.research.google.com/assets/colab-badge.svg\" alt=\"Open In Colab\"/></a>"
      ]
    },
    {
      "cell_type": "markdown",
      "source": [
        "#### **Multiple Assignment**"
      ],
      "metadata": {
        "id": "5xhr98zw5oZv"
      }
    },
    {
      "cell_type": "code",
      "source": [
        "# Instead of this\n",
        "x = 10\n",
        "y = 10\n",
        "z = 10\n",
        "\n",
        "a = 1\n",
        "b = 2\n",
        "\n",
        "# Use this\n",
        "x = y = z = 10\n",
        "\n",
        "a,b = 1,2"
      ],
      "metadata": {
        "id": "r5E3PVwR7uk7"
      },
      "execution_count": 5,
      "outputs": []
    },
    {
      "cell_type": "markdown",
      "source": [
        "#### **Variable Unpacking**"
      ],
      "metadata": {
        "id": "LZFPj3ZA6TyW"
      }
    },
    {
      "cell_type": "markdown",
      "source": [
        "In Python, unpacking is the process of assigning an iterable of values to a tuple (or list) of variables using a single assignment statement."
      ],
      "metadata": {
        "id": "moC2LHBk-1N1"
      }
    },
    {
      "cell_type": "code",
      "source": [
        "# Instead of this\n",
        "x = 1\n",
        "y = 2\n",
        "\n",
        "x = 1\n",
        "y = [2, 3, 4, 5]\n",
        "\n",
        "x = 1\n",
        "y = [2, 3, 4]\n",
        "z = 5\n",
        "\n",
        "# Use this\n",
        "x, y = [1, 2]\n",
        "\n",
        "x, *y = [1, 2, 3, 4, 5]\n",
        "\n",
        "x, *y, z = [1, 2, 3, 4, 5]"
      ],
      "metadata": {
        "id": "456QKnhF70mZ"
      },
      "execution_count": 4,
      "outputs": []
    },
    {
      "cell_type": "markdown",
      "source": [
        "#### **Swapping Variables**"
      ],
      "metadata": {
        "id": "qlL7y5oH6YPZ"
      }
    },
    {
      "cell_type": "code",
      "source": [
        "# Instead of this\n",
        "temp = x\n",
        "x = y\n",
        "y = temp\n",
        "\n",
        "# Use this\n",
        "x, y = y, x"
      ],
      "metadata": {
        "id": "drP4IrdG7-Ha"
      },
      "execution_count": 6,
      "outputs": []
    },
    {
      "cell_type": "markdown",
      "source": [
        "#### **Name Casing**"
      ],
      "metadata": {
        "id": "E5icm-gu7JB0"
      }
    },
    {
      "cell_type": "markdown",
      "source": [
        "In python, snake_case is preferred over camelCase for variables and functions names."
      ],
      "metadata": {
        "id": "qogQPDWa_TiP"
      }
    },
    {
      "cell_type": "code",
      "source": [
        "# Instead of this\n",
        "def isEven(num):\n",
        "    pass\n",
        "    \n",
        "# Use this\n",
        "def is_even(num):\n",
        "    pass"
      ],
      "metadata": {
        "id": "WJmZTsF68CC5"
      },
      "execution_count": 7,
      "outputs": []
    },
    {
      "cell_type": "markdown",
      "source": [
        "#### **Conditional Expressions**"
      ],
      "metadata": {
        "id": "AnolOsDM8C0y"
      }
    },
    {
      "cell_type": "code",
      "source": [
        "# Instead of this\n",
        "def is_even(num):\n",
        "    if num % 2 == 0:\n",
        "        print(\"Even\")\n",
        "    else:\n",
        "        print(\"Odd\")\n",
        "\n",
        "# Use this\n",
        "def is_even(num):\n",
        "    print(\"Even\") if num % 2 == 0 else print(\"Odd\")\n",
        "\n",
        "# Or this\n",
        "def is_even(num):\n",
        "    print(\"Even\" if num % 2 == 0 else \"Odd\")"
      ],
      "metadata": {
        "id": "QQKpYteS8DEr"
      },
      "execution_count": 10,
      "outputs": []
    },
    {
      "cell_type": "markdown",
      "source": [
        "#### **String Formatting**"
      ],
      "metadata": {
        "id": "fmpVHb2Y8NOI"
      }
    },
    {
      "cell_type": "code",
      "source": [
        "name = \"Soumyadeep\"\n",
        "item = \"Debnath\""
      ],
      "metadata": {
        "id": "o4vrZSL6AL-q"
      },
      "execution_count": 13,
      "outputs": []
    },
    {
      "cell_type": "code",
      "source": [
        "# Instead of this\n",
        "print(\"%s likes %s.\" %(name, item))\n",
        "# Or this\n",
        "print(\"{} likes {}.\".format(name, item))\n",
        "\n",
        "# Use this\n",
        "print(f\"{name} likes {item}.\")"
      ],
      "metadata": {
        "id": "xaJbiWYn8OyU"
      },
      "execution_count": null,
      "outputs": []
    },
    {
      "cell_type": "markdown",
      "source": [
        "#### **Comparison Operator**"
      ],
      "metadata": {
        "id": "PWKy7dnI8OMB"
      }
    },
    {
      "cell_type": "code",
      "source": [
        "# Instead of this\n",
        "if 0 < x and x < 1000:\n",
        "    print(\"x is a 3 digit number\")\n",
        "    \n",
        "# Use this\n",
        "if 0 < x < 1000:\n",
        "    print(\"x is a 3 digit number\")"
      ],
      "metadata": {
        "id": "jqSNhvrv8cS1"
      },
      "execution_count": null,
      "outputs": []
    },
    {
      "cell_type": "markdown",
      "source": [
        "#### **Iterating over a list or tuple**"
      ],
      "metadata": {
        "id": "-q2CSEzn8mry"
      }
    },
    {
      "cell_type": "code",
      "source": [
        "names = ['Harry', 'Ron', 'Hermione', 'Ginny', 'Neville']"
      ],
      "metadata": {
        "id": "dNPUlo5_8sTI"
      },
      "execution_count": 16,
      "outputs": []
    },
    {
      "cell_type": "markdown",
      "source": [
        "Don’t need to use indices to access list elements"
      ],
      "metadata": {
        "id": "-GKmV-W2Arj6"
      }
    },
    {
      "cell_type": "code",
      "source": [
        "# Instead of this\n",
        "for i in range(len(names)):\n",
        "    print(names[i])\n",
        "\n",
        "# Use this\n",
        "for name in names:\n",
        "    print(name)"
      ],
      "metadata": {
        "id": "clPVdNC98m_i"
      },
      "execution_count": null,
      "outputs": []
    },
    {
      "cell_type": "markdown",
      "source": [
        "Using enumerate() - for both indices and values"
      ],
      "metadata": {
        "id": "8TtJ3QUq9v66"
      }
    },
    {
      "cell_type": "code",
      "source": [
        "for index, value in enumerate(names):\n",
        "    print(index, value)"
      ],
      "metadata": {
        "id": "GWudA1ti9tgF"
      },
      "execution_count": null,
      "outputs": []
    },
    {
      "cell_type": "markdown",
      "source": [
        "#### **List comprehension**"
      ],
      "metadata": {
        "id": "9psdaNSA89lR"
      }
    },
    {
      "cell_type": "code",
      "source": [
        "arr = [1, 2, 3, 4, 5, 6]\n",
        "res = []"
      ],
      "metadata": {
        "id": "AOuxY1ep9EF1"
      },
      "execution_count": 19,
      "outputs": []
    },
    {
      "cell_type": "markdown",
      "source": [
        "A list comprehension is a syntactic construct used to create a list from existing lists in several computer languages. In contrast to the use of map and filter functions, it uses the mathematical set-builder notation (set comprehension)."
      ],
      "metadata": {
        "id": "9Em4WoP2BMsn"
      }
    },
    {
      "cell_type": "code",
      "source": [
        "# Instead of this\n",
        "for num in arr:\n",
        "    if num % 2 == 0:\n",
        "        res.append(num * 2)\n",
        "    else:\n",
        "        res.append(num)\n",
        "\n",
        "# Use this\n",
        "res = [(num * 2 if num % 2 == 0 else num) for num in arr]"
      ],
      "metadata": {
        "id": "FukRsj5u891n"
      },
      "execution_count": 20,
      "outputs": []
    },
    {
      "cell_type": "markdown",
      "source": [
        "#### **Using Set for searching**"
      ],
      "metadata": {
        "id": "wVaHOL7S9H4V"
      }
    },
    {
      "cell_type": "markdown",
      "source": [
        "Searching in a set is faster(O(1)) compared to list(O(n)).\n",
        "\n",
        "Convert list to set for search fastest."
      ],
      "metadata": {
        "id": "KOY-cURb-evo"
      }
    },
    {
      "cell_type": "code",
      "source": [
        "# Instead of this \n",
        "l = ['a', 'e', 'i', 'o', 'u']\n",
        "def is_vowel(char):\n",
        "    if char in l:\n",
        "        print(\"Vowel\")\n",
        "        \n",
        "# Use this\n",
        "s = {'a', 'e', 'i', 'o', 'u'}\n",
        "def is_vowel(char):\n",
        "    if char in s:\n",
        "        print(\"Vowel\")"
      ],
      "metadata": {
        "id": "IFEH7k2A-SoV"
      },
      "execution_count": 21,
      "outputs": []
    },
    {
      "cell_type": "markdown",
      "source": [
        "#### **Iterating Dictionary**"
      ],
      "metadata": {
        "id": "SrUyIKPa9IMt"
      }
    },
    {
      "cell_type": "code",
      "source": [
        "roll_name = {\n",
        "    315: \"Soumyadeep\",\n",
        "    705: \"Debnath\"\n",
        "}"
      ],
      "metadata": {
        "id": "XqhDsB4Z9dJ-"
      },
      "execution_count": 23,
      "outputs": []
    },
    {
      "cell_type": "markdown",
      "source": [
        "Use dict.items() to iterate through a dictionary."
      ],
      "metadata": {
        "id": "hIz1FDbGBo3e"
      }
    },
    {
      "cell_type": "code",
      "source": [
        "# Instead of this\n",
        "for key in roll_name:\n",
        "    print(key, roll_name[key])\n",
        "\n",
        "# Use this\n",
        "for key, value in roll_name.items():\n",
        "    print(key, value)"
      ],
      "metadata": {
        "id": "tlsr3fU59JzZ"
      },
      "execution_count": null,
      "outputs": []
    }
  ]
}