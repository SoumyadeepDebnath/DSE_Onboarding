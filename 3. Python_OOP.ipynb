{
  "nbformat": 4,
  "nbformat_minor": 0,
  "metadata": {
    "colab": {
      "name": "Python_OOP.ipynb",
      "provenance": [],
      "authorship_tag": "ABX9TyNMQPgNaooBIL26x2IGjtlW",
      "include_colab_link": true
    },
    "kernelspec": {
      "name": "python3",
      "display_name": "Python 3"
    },
    "language_info": {
      "name": "python"
    }
  },
  "cells": [
    {
      "cell_type": "markdown",
      "metadata": {
        "id": "view-in-github",
        "colab_type": "text"
      },
      "source": [
        "<a href=\"https://colab.research.google.com/github/SoumyadeepDebnath/DataEngineering_with_Python_by_SAM/blob/main/3.%20Python_OOP.ipynb\" target=\"_parent\"><img src=\"https://colab.research.google.com/assets/colab-badge.svg\" alt=\"Open In Colab\"/></a>"
      ]
    },
    {
      "cell_type": "markdown",
      "source": [
        "#### 1. Function"
      ],
      "metadata": {
        "id": "DHo64iJaKLtc"
      }
    },
    {
      "cell_type": "code",
      "execution_count": 23,
      "metadata": {
        "id": "EjL3qaaKW6hd",
        "colab": {
          "base_uri": "https://localhost:8080/"
        },
        "outputId": "4180fcff-5185-4249-ba30-8ac450a313c3"
      },
      "outputs": [
        {
          "output_type": "stream",
          "name": "stdout",
          "text": [
            "68\n",
            "<class 'NoneType'>\n"
          ]
        }
      ],
      "source": [
        "def test1(x,y):\n",
        "    print(x+y) #no return\n",
        "\n",
        "print(type(test1(23,45)))"
      ]
    },
    {
      "cell_type": "code",
      "source": [
        "def test2(x,y): #empty function\n",
        "    pass \n",
        "\n",
        "print(type(test2(23,45)))"
      ],
      "metadata": {
        "colab": {
          "base_uri": "https://localhost:8080/"
        },
        "id": "czk4PCS7MN6j",
        "outputId": "5eaaf1d7-8101-4122-c59b-61a097b3e7a0"
      },
      "execution_count": 24,
      "outputs": [
        {
          "output_type": "stream",
          "name": "stdout",
          "text": [
            "<class 'NoneType'>\n"
          ]
        }
      ]
    },
    {
      "cell_type": "code",
      "source": [
        "def test3(n): \n",
        "    return n * 2 #default input and output are same type\n",
        "\n",
        "print(test3(67))\n",
        "print(test3(26.3))\n",
        "print(test3(\"Sam\"))\n",
        "print(test3([3,4,5,6]))\n",
        "print(test3((3,4,5,6)))\n",
        "#print(test3({3,4,5,6})) - error coz set can't store duplicates\n",
        "#print(test3({1:'a',2:'b'})) - error coz dictionary can't store duplicate keys"
      ],
      "metadata": {
        "colab": {
          "base_uri": "https://localhost:8080/"
        },
        "id": "vU0bSCufVFby",
        "outputId": "f08f618c-050b-4d5a-86e9-0b735f5516ec"
      },
      "execution_count": 31,
      "outputs": [
        {
          "output_type": "stream",
          "name": "stdout",
          "text": [
            "134\n",
            "52.6\n",
            "SamSam\n",
            "[3, 4, 5, 6, 3, 4, 5, 6]\n",
            "(3, 4, 5, 6, 3, 4, 5, 6)\n"
          ]
        }
      ]
    },
    {
      "cell_type": "code",
      "source": [
        "def test4(a,b,c):\n",
        "    return a+b #first return executed\n",
        "    return b+c #not executed\n",
        "\n",
        "print(test4(4,5,6))\n",
        "print(type(test4(4,5,6)))"
      ],
      "metadata": {
        "colab": {
          "base_uri": "https://localhost:8080/"
        },
        "id": "nOPJN2g1L28d",
        "outputId": "03eb17cb-e451-415d-bd23-a92470b62448"
      },
      "execution_count": 32,
      "outputs": [
        {
          "output_type": "stream",
          "name": "stdout",
          "text": [
            "9\n",
            "<class 'int'>\n"
          ]
        }
      ]
    },
    {
      "cell_type": "code",
      "source": [
        "def test3(a,b,c):\n",
        "    yield a+b #first return executed\n",
        "    yield b+c\n",
        "\n",
        "print(test3(4,5,6))\n",
        "print(test3(4,5,6))"
      ],
      "metadata": {
        "colab": {
          "base_uri": "https://localhost:8080/"
        },
        "id": "nDH7Mn0YUhPC",
        "outputId": "1fcf17dc-82c5-4137-b528-65c6167c721c"
      },
      "execution_count": 22,
      "outputs": [
        {
          "output_type": "stream",
          "name": "stdout",
          "text": [
            "<generator object test3 at 0x7fddae1aeed0>\n",
            "<generator object test3 at 0x7fddae1aeed0>\n"
          ]
        }
      ]
    },
    {
      "cell_type": "code",
      "source": [
        "#Return Multiple values - only in python\n",
        "def test5(a,b):\n",
        "    return a*10,b*40,a+b\n",
        "\n",
        "print(test5(4,5)) #default return tuple\n",
        "print(type(test5(4,5)))\n",
        "\n",
        "a,b,c=test5(4,5) #store in different variables\n",
        "print(a,b,c)"
      ],
      "metadata": {
        "colab": {
          "base_uri": "https://localhost:8080/"
        },
        "id": "DNDdrGYQMIlL",
        "outputId": "b63aef51-1dde-4d14-bef4-75688ac6381e"
      },
      "execution_count": 33,
      "outputs": [
        {
          "output_type": "stream",
          "name": "stdout",
          "text": [
            "(40, 200, 9)\n",
            "<class 'tuple'>\n",
            "40 200 9\n"
          ]
        }
      ]
    },
    {
      "cell_type": "code",
      "source": [
        "#Default initialization\n",
        "def test6(n,m = 90 ): #consider if no value passed\n",
        "    return n+m\n",
        "\n",
        "print(test6(30))\n",
        "print(test6(30,30))"
      ],
      "metadata": {
        "colab": {
          "base_uri": "https://localhost:8080/"
        },
        "id": "AODYSKuGW8Ke",
        "outputId": "6aaccc99-b663-4c39-de35-1096ba6fde20"
      },
      "execution_count": 40,
      "outputs": [
        {
          "output_type": "stream",
          "name": "stdout",
          "text": [
            "120\n",
            "60\n"
          ]
        }
      ]
    },
    {
      "cell_type": "code",
      "source": [
        "def boolx(x = True , y = False): #boolean parameter - True=1,False=0\n",
        "    return x + y\n",
        "\n",
        "print(boolx())\n",
        "print(boolx(False))\n",
        "print(boolx(y=True)) #initialize specific parameter by skipping other\n",
        "print(boolx(False,8))"
      ],
      "metadata": {
        "colab": {
          "base_uri": "https://localhost:8080/"
        },
        "id": "MPe9sWVgZFe_",
        "outputId": "ce8c0021-2285-4a84-9f39-cbb80b70f7b6"
      },
      "execution_count": 42,
      "outputs": [
        {
          "output_type": "stream",
          "name": "stdout",
          "text": [
            "1\n",
            "0\n",
            "2\n",
            "8\n"
          ]
        }
      ]
    },
    {
      "cell_type": "code",
      "source": [
        "def test13(*args):\n",
        "    l = []\n",
        "    for i in args:\n",
        "        l = l + i\n",
        "    return l \n",
        "\n",
        "test13([3,4,5,6] , [3,4,5,6,7] , [3,4,5,6])"
      ],
      "metadata": {
        "colab": {
          "base_uri": "https://localhost:8080/"
        },
        "id": "u_DAS9DHcQfT",
        "outputId": "1503e4c5-9bc9-468a-9e7a-e410fd2e40d3"
      },
      "execution_count": 50,
      "outputs": [
        {
          "output_type": "execute_result",
          "data": {
            "text/plain": [
              "[3, 4, 5, 6, 3, 4, 5, 6, 7, 3, 4, 5, 6]"
            ]
          },
          "metadata": {},
          "execution_count": 50
        }
      ]
    },
    {
      "cell_type": "code",
      "source": [
        "#If number of arguments is unknown\n",
        "def test7(*args, a=[\"Deb\"]): #pass any number of parameters\n",
        "    lst = []\n",
        "    for i in args: #args stores data in a iterator\n",
        "        print(\"Item: \",i)\n",
        "        lst = lst+i\n",
        "    return lst+list(a) #concat all elements in a list\n",
        "\n",
        "print(\"Concat: \",test7([\"Sam\"],[34,4,4,5]))"
      ],
      "metadata": {
        "colab": {
          "base_uri": "https://localhost:8080/"
        },
        "id": "SMBGGsLGTZ7-",
        "outputId": "ec1f9151-ec0c-40fa-d1a6-1dece2cb189d"
      },
      "execution_count": 56,
      "outputs": [
        {
          "output_type": "stream",
          "name": "stdout",
          "text": [
            "Item:  ['Sam']\n",
            "Item:  [34, 4, 4, 5]\n",
            "Concat:  ['Sam', 34, 4, 4, 5, 'Deb']\n"
          ]
        }
      ]
    },
    {
      "cell_type": "code",
      "source": [
        "i=\"sam\"\n",
        "list(i)"
      ],
      "metadata": {
        "colab": {
          "base_uri": "https://localhost:8080/"
        },
        "id": "QVP_e0cFckmJ",
        "outputId": "62e62b4e-5f55-4a82-b775-a1ca8ddc8fcb"
      },
      "execution_count": 52,
      "outputs": [
        {
          "output_type": "execute_result",
          "data": {
            "text/plain": [
              "['s', 'a', 'm']"
            ]
          },
          "metadata": {},
          "execution_count": 52
        }
      ]
    },
    {
      "cell_type": "markdown",
      "source": [
        "#### 2.Class & Object"
      ],
      "metadata": {
        "id": "gKOS75fAebq1"
      }
    },
    {
      "cell_type": "code",
      "source": [
        ""
      ],
      "metadata": {
        "id": "5wW1-BcYefPA"
      },
      "execution_count": null,
      "outputs": []
    },
    {
      "cell_type": "markdown",
      "source": [
        "#### 3. Abstraction"
      ],
      "metadata": {
        "id": "f5RCs9SVekzc"
      }
    },
    {
      "cell_type": "code",
      "source": [
        ""
      ],
      "metadata": {
        "id": "1dPnAg2TeoCY"
      },
      "execution_count": null,
      "outputs": []
    },
    {
      "cell_type": "markdown",
      "source": [
        "#### 4. Inheritance"
      ],
      "metadata": {
        "id": "r1N8igtCeoa5"
      }
    },
    {
      "cell_type": "code",
      "source": [
        ""
      ],
      "metadata": {
        "id": "VcBaEbhveroa"
      },
      "execution_count": null,
      "outputs": []
    },
    {
      "cell_type": "markdown",
      "source": [
        "map,\n",
        "reduce,\n",
        "filter\n",
        "\n",
        "\n",
        "functions"
      ],
      "metadata": {
        "id": "_b2DRx7DKPXw"
      }
    },
    {
      "cell_type": "code",
      "source": [
        ""
      ],
      "metadata": {
        "id": "dJjqKvPHLECb"
      },
      "execution_count": null,
      "outputs": []
    }
  ]
}