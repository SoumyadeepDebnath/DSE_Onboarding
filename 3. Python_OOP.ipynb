{
  "nbformat": 4,
  "nbformat_minor": 0,
  "metadata": {
    "colab": {
      "name": "3. Python_OOP.ipynb",
      "provenance": [],
      "authorship_tag": "ABX9TyOKQut+ar94ey43UGt/6jWo",
      "include_colab_link": true
    },
    "kernelspec": {
      "name": "python3",
      "display_name": "Python 3"
    },
    "language_info": {
      "name": "python"
    }
  },
  "cells": [
    {
      "cell_type": "markdown",
      "metadata": {
        "id": "view-in-github",
        "colab_type": "text"
      },
      "source": [
        "<a href=\"https://colab.research.google.com/github/SoumyadeepDebnath/DataEngineering_with_Python_by_SAM/blob/main/3.%20Python_OOP.ipynb\" target=\"_parent\"><img src=\"https://colab.research.google.com/assets/colab-badge.svg\" alt=\"Open In Colab\"/></a>"
      ]
    },
    {
      "cell_type": "markdown",
      "source": [
        "#### 1. Function"
      ],
      "metadata": {
        "id": "DHo64iJaKLtc"
      }
    },
    {
      "cell_type": "markdown",
      "source": [
        "##### 1. non return type"
      ],
      "metadata": {
        "id": "xStFDrjqeE1a"
      }
    },
    {
      "cell_type": "code",
      "source": [
        "def test():\n",
        "    \"\"\"\n",
        "    Function Defination\n",
        "    In Details.\n",
        "    \"\"\"\n",
        "    print(\"Docstring\")\n",
        "\n",
        "test() #select & mouseover function call"
      ],
      "metadata": {
        "colab": {
          "base_uri": "https://localhost:8080/"
        },
        "id": "W3c2TtSyKtQn",
        "outputId": "a7ae75de-a786-4b27-ece4-c270d4f060da"
      },
      "execution_count": null,
      "outputs": [
        {
          "output_type": "stream",
          "name": "stdout",
          "text": [
            "Docstring\n"
          ]
        }
      ]
    },
    {
      "cell_type": "code",
      "source": [
        "def test2(x,y): #empty function\n",
        "    pass \n",
        "\n",
        "print(type(test2(23,45)))"
      ],
      "metadata": {
        "colab": {
          "base_uri": "https://localhost:8080/"
        },
        "id": "czk4PCS7MN6j",
        "outputId": "6b3ef5f5-f0ad-4e7b-ac32-73f905355015"
      },
      "execution_count": null,
      "outputs": [
        {
          "output_type": "stream",
          "name": "stdout",
          "text": [
            "<class 'NoneType'>\n"
          ]
        }
      ]
    },
    {
      "cell_type": "code",
      "execution_count": null,
      "metadata": {
        "id": "EjL3qaaKW6hd",
        "colab": {
          "base_uri": "https://localhost:8080/"
        },
        "outputId": "14331c84-52fa-4f8f-ed96-4ee1542a3197"
      },
      "outputs": [
        {
          "output_type": "stream",
          "name": "stdout",
          "text": [
            "68\n",
            "<class 'NoneType'>\n"
          ]
        }
      ],
      "source": [
        "def test1(x,y):\n",
        "    print(x+y) #no return\n",
        "\n",
        "print(type(test1(23,45)))"
      ]
    },
    {
      "cell_type": "markdown",
      "source": [
        "##### 2. Different return types"
      ],
      "metadata": {
        "id": "udhpM8mzd35T"
      }
    },
    {
      "cell_type": "code",
      "source": [
        "def test3(n): \n",
        "    return n * 2 #default input and output are same type\n",
        "\n",
        "print(test3(67))\n",
        "print(test3(26.3))\n",
        "print(test3(\"Sam\"))\n",
        "print(test3([3,4,5,6]))\n",
        "print(test3((3,4,5,6)))\n",
        "#print(test3({3,4,5,6})) - error coz set can't store duplicates\n",
        "#print(test3({1:'a',2:'b'})) - error coz dictionary can't store duplicate keys"
      ],
      "metadata": {
        "colab": {
          "base_uri": "https://localhost:8080/"
        },
        "id": "vU0bSCufVFby",
        "outputId": "a134c495-b60c-4cdf-f958-2cbe20e2baaf"
      },
      "execution_count": null,
      "outputs": [
        {
          "output_type": "stream",
          "name": "stdout",
          "text": [
            "134\n",
            "52.6\n",
            "SamSam\n",
            "[3, 4, 5, 6, 3, 4, 5, 6]\n",
            "(3, 4, 5, 6, 3, 4, 5, 6)\n"
          ]
        }
      ]
    },
    {
      "cell_type": "code",
      "source": [
        "def test4(a,b,c):\n",
        "    return a+b #first return executed\n",
        "    return b+c #not executed\n",
        "\n",
        "print(test4(4,5,6))\n",
        "print(type(test4(4,5,6)))"
      ],
      "metadata": {
        "colab": {
          "base_uri": "https://localhost:8080/"
        },
        "id": "nOPJN2g1L28d",
        "outputId": "2ae5cbec-0f54-4783-ae40-69d227f09fc6"
      },
      "execution_count": null,
      "outputs": [
        {
          "output_type": "stream",
          "name": "stdout",
          "text": [
            "9\n",
            "<class 'int'>\n"
          ]
        }
      ]
    },
    {
      "cell_type": "code",
      "source": [
        "#Return Multiple values - only in python\n",
        "def test5(a,b):\n",
        "    return a*10,b*40,a+b\n",
        "\n",
        "print(test5(4,5)) #default return tuple\n",
        "print(type(test5(4,5)))\n",
        "\n",
        "a,b,c=test5(4,5) #store in different variables\n",
        "print(a,b,c)"
      ],
      "metadata": {
        "colab": {
          "base_uri": "https://localhost:8080/"
        },
        "id": "DNDdrGYQMIlL",
        "outputId": "d3197d79-e13b-41f1-b87a-cf2f19045215"
      },
      "execution_count": null,
      "outputs": [
        {
          "output_type": "stream",
          "name": "stdout",
          "text": [
            "(40, 200, 9)\n",
            "<class 'tuple'>\n",
            "40 200 9\n"
          ]
        }
      ]
    },
    {
      "cell_type": "code",
      "source": [
        "#Default initialization\n",
        "def test6(n,m = 90): #consider if no value passed\n",
        "    return n+m\n",
        "\n",
        "print(test6(30))\n",
        "print(test6(30,30))"
      ],
      "metadata": {
        "colab": {
          "base_uri": "https://localhost:8080/"
        },
        "id": "AODYSKuGW8Ke",
        "outputId": "57f6d864-4232-4bdc-eced-aa25b3dba222"
      },
      "execution_count": null,
      "outputs": [
        {
          "output_type": "stream",
          "name": "stdout",
          "text": [
            "120\n",
            "60\n"
          ]
        }
      ]
    },
    {
      "cell_type": "code",
      "source": [
        "def boolx(x=True, y=False): #boolean parameter - True=1,False=0\n",
        "    return x + y\n",
        "\n",
        "print(boolx())\n",
        "print(boolx(False))\n",
        "print(boolx(y=True)) #initialize specific parameter by skipping other\n",
        "print(boolx(False,8))"
      ],
      "metadata": {
        "colab": {
          "base_uri": "https://localhost:8080/"
        },
        "id": "MPe9sWVgZFe_",
        "outputId": "732a7532-ebde-40b0-89a8-630665563a05"
      },
      "execution_count": null,
      "outputs": [
        {
          "output_type": "stream",
          "name": "stdout",
          "text": [
            "1\n",
            "0\n",
            "2\n",
            "8\n"
          ]
        }
      ]
    },
    {
      "cell_type": "markdown",
      "source": [
        "##### 3. Note: If number of arguments is unknown"
      ],
      "metadata": {
        "id": "sPUEVSITA8Mb"
      }
    },
    {
      "cell_type": "code",
      "source": [
        "#Positioanl Argument - *args\n",
        "def test7(*args, a=\"Deb\"): #pass any number of parameters in *args\n",
        "    for i in args: #*args stores data in a iterator\n",
        "        print(\"Item: \",i)\n",
        "    print(\"Return: \",args)\n",
        "    return args #as multiple value, default return tuple\n",
        "\n",
        "print(type(test7(\"Sam\", 2.5, 6, [4,4,5], {1:'a',2:'b'})))"
      ],
      "metadata": {
        "colab": {
          "base_uri": "https://localhost:8080/"
        },
        "id": "SMBGGsLGTZ7-",
        "outputId": "183ce739-2e7f-438e-d598-a7e5cc6e6cdc"
      },
      "execution_count": null,
      "outputs": [
        {
          "output_type": "stream",
          "name": "stdout",
          "text": [
            "Item:  Sam\n",
            "Item:  2.5\n",
            "Item:  6\n",
            "Item:  [4, 4, 5]\n",
            "Item:  {1: 'a', 2: 'b'}\n",
            "Return:  ('Sam', 2.5, 6, [4, 4, 5], {1: 'a', 2: 'b'})\n",
            "<class 'tuple'>\n"
          ]
        }
      ]
    },
    {
      "cell_type": "code",
      "source": [
        "#Keyword Argument - **kwargs\n",
        "def test8(**kwargs): #pass any number of parameters as key=value in **kwargs\n",
        "    print(\"Return: \",kwargs)\n",
        "    #print(kwargs.items()) - list of tuples of key,value\n",
        "    return kwargs #return a dictionary with key:value\n",
        "\n",
        "#print(test8(4,56,56)) - error coz not in key value format\n",
        "\n",
        "print(type(test8(a = 8, b = True, c=[4,5,6,6,\"Sam\"], d=\"Deb\")))"
      ],
      "metadata": {
        "colab": {
          "base_uri": "https://localhost:8080/"
        },
        "id": "t82DZmutiqZW",
        "outputId": "8e224cf1-71c0-407f-c82a-c44e75dea45f"
      },
      "execution_count": null,
      "outputs": [
        {
          "output_type": "stream",
          "name": "stdout",
          "text": [
            "Return:  {'a': 8, 'b': True, 'c': [4, 5, 6, 6, 'Sam'], 'd': 'Deb'}\n",
            "<class 'dict'>\n"
          ]
        }
      ]
    },
    {
      "cell_type": "markdown",
      "source": [
        "##### 4. Iterator & Generator"
      ],
      "metadata": {
        "id": "FpoMKWwcM5kA"
      }
    },
    {
      "cell_type": "markdown",
      "source": [
        "Iterator - can iterate over iterable objects like string, list, tuple, set, dictionary by converting them using iterator object"
      ],
      "metadata": {
        "id": "_7Uj2JVeOhBq"
      }
    },
    {
      "cell_type": "code",
      "source": [
        "s=\"Sam\"\n",
        "sIterator=iter(s)\n",
        "print(next(sIterator))\n",
        "print(next(sIterator))\n",
        "print(next(sIterator))\n",
        "#print(next(sIterator)) - error for end"
      ],
      "metadata": {
        "colab": {
          "base_uri": "https://localhost:8080/"
        },
        "id": "6thSnQb6M6BA",
        "outputId": "1310723f-420b-413c-9b3b-20032b028176"
      },
      "execution_count": null,
      "outputs": [
        {
          "output_type": "stream",
          "name": "stdout",
          "text": [
            "S\n",
            "a\n",
            "m\n"
          ]
        }
      ]
    },
    {
      "cell_type": "markdown",
      "source": [
        "Generator - (remember last) <br>\n",
        "if the function is running, then returns outputs continuously and remembers last"
      ],
      "metadata": {
        "id": "NjQ2Lx2MUocH"
      }
    },
    {
      "cell_type": "code",
      "source": [
        "def test9(n):\n",
        "    l = []\n",
        "    for i in range(n) :\n",
        "        l.append(i**3)\n",
        "    return l\n",
        "\n",
        "print(test9(10))\n",
        "\n",
        "#print(test9(1000000000000000)) - no result untill completes"
      ],
      "metadata": {
        "colab": {
          "base_uri": "https://localhost:8080/"
        },
        "id": "2v2bqPL2Ury6",
        "outputId": "63b91cce-5a99-4dc8-a840-aab57cc06f57"
      },
      "execution_count": null,
      "outputs": [
        {
          "output_type": "stream",
          "name": "stdout",
          "text": [
            "[0, 1, 8, 27, 64, 125, 216, 343, 512, 729]\n"
          ]
        }
      ]
    },
    {
      "cell_type": "code",
      "source": [
        "def test10(n):\n",
        "    for i in range(n):\n",
        "        yield  i**3\n",
        "\n",
        "for i in test10(10):\n",
        "    print(i)\n",
        "\n",
        "#for i in test10(1000000000000000): - continuously prints results\n",
        "#    print(i)"
      ],
      "metadata": {
        "colab": {
          "base_uri": "https://localhost:8080/"
        },
        "id": "SDT-XpvgWdbg",
        "outputId": "bae28513-b157-45d4-a9af-d1a4ff0b02b5"
      },
      "execution_count": null,
      "outputs": [
        {
          "output_type": "stream",
          "name": "stdout",
          "text": [
            "0\n",
            "1\n",
            "8\n",
            "27\n",
            "64\n",
            "125\n",
            "216\n",
            "343\n",
            "512\n",
            "729\n"
          ]
        }
      ]
    },
    {
      "cell_type": "code",
      "source": [
        "def test11():\n",
        "\tyield 1\n",
        "\tyield 2\n",
        "\tyield 3\n",
        "\n",
        "# Driver code to check above generator function\n",
        "for i in test11():\n",
        "\tprint(i)"
      ],
      "metadata": {
        "colab": {
          "base_uri": "https://localhost:8080/"
        },
        "id": "a1HorF6FZBbY",
        "outputId": "0445ab9d-e9f7-44d7-b291-fcb097991880"
      },
      "execution_count": null,
      "outputs": [
        {
          "output_type": "stream",
          "name": "stdout",
          "text": [
            "1\n",
            "2\n",
            "3\n"
          ]
        }
      ]
    },
    {
      "cell_type": "markdown",
      "source": [
        "##### 5. Global & Local (keywords - global, nonlocal) with Nested Function"
      ],
      "metadata": {
        "id": "vYkjuvk7Jley"
      }
    },
    {
      "cell_type": "code",
      "source": [
        "r = 10\n",
        "def test9(a, b) : \n",
        "    r = a+b\n",
        "    print(\"Local: \",r)\n",
        "\n",
        "test9(10,20)\n",
        "print(\"Global: \",r)\n"
      ],
      "metadata": {
        "id": "QVP_e0cFckmJ",
        "colab": {
          "base_uri": "https://localhost:8080/"
        },
        "outputId": "84ce32a4-4980-4653-c3db-6ebdeba06b34"
      },
      "execution_count": null,
      "outputs": [
        {
          "output_type": "stream",
          "name": "stdout",
          "text": [
            "Local:  30\n",
            "Global:  10\n"
          ]
        }
      ]
    },
    {
      "cell_type": "code",
      "source": [
        "#global keyword\n",
        "r = 10\n",
        "print(\"Global: \",r)\n",
        "def test10(a, b) : \n",
        "    global r #first define then initialize\n",
        "    r = a+b\n",
        "    print(\"Local: \",r)\n",
        "\n",
        "test10(10,20)\n",
        "print(\"Updated Global: \",r)"
      ],
      "metadata": {
        "colab": {
          "base_uri": "https://localhost:8080/"
        },
        "id": "g0XfhQWwKXUZ",
        "outputId": "c8edc12a-cbce-41fb-acdf-3320b2f38518"
      },
      "execution_count": null,
      "outputs": [
        {
          "output_type": "stream",
          "name": "stdout",
          "text": [
            "Global:  10\n",
            "Local:  30\n",
            "Updated Global:  30\n"
          ]
        }
      ]
    },
    {
      "cell_type": "code",
      "source": [
        "#Nested function\n",
        "def outer():\n",
        "    x = 10\n",
        "    def inner():\n",
        "        x = 20\n",
        "        print(\"Inner Local:\", x)\n",
        "    inner()\n",
        "    print(\"Outer Local:\", x)\n",
        "\n",
        "outer()"
      ],
      "metadata": {
        "colab": {
          "base_uri": "https://localhost:8080/"
        },
        "id": "VZ43vd19RnHC",
        "outputId": "89394cf3-26c7-40ac-a5c8-5292e3114e25"
      },
      "execution_count": null,
      "outputs": [
        {
          "output_type": "stream",
          "name": "stdout",
          "text": [
            "Inner Local: 20\n",
            "Outer Local: 10\n"
          ]
        }
      ]
    },
    {
      "cell_type": "code",
      "source": [
        "#nonlocal keyword\n",
        "def outer():\n",
        "    x = 10\n",
        "    print(\"Outer Local:\", x)\n",
        "    def inner():\n",
        "        nonlocal x\n",
        "        x = 20\n",
        "        print(\"Inner Local:\", x)\n",
        "    inner()\n",
        "    print(\"Updated Outer Local:\", x)\n",
        "\n",
        "outer()"
      ],
      "metadata": {
        "colab": {
          "base_uri": "https://localhost:8080/"
        },
        "id": "N5miNid0SOJG",
        "outputId": "f2e2b4a8-bb8d-4eb8-d9de-3cd789a099a9"
      },
      "execution_count": null,
      "outputs": [
        {
          "output_type": "stream",
          "name": "stdout",
          "text": [
            "Outer Local: 10\n",
            "Inner Local: 20\n",
            "Updated Outer Local: 20\n"
          ]
        }
      ]
    },
    {
      "cell_type": "markdown",
      "source": [
        "##### 6. Lamda Function (Annonymous - no name)"
      ],
      "metadata": {
        "id": "uewvmum-Fnwx"
      }
    },
    {
      "cell_type": "markdown",
      "source": [
        "\n",
        "Defination -> variable = lamda operands : operation <br>\n",
        "Call -> variable(operands or values in order)"
      ],
      "metadata": {
        "id": "4-xxo1q7Oa_T"
      }
    },
    {
      "cell_type": "code",
      "source": [
        "m = lambda x,y : x+y\n",
        "\n",
        "a=10\n",
        "b=20\n",
        "print(m(a,b))\n",
        "print(m(\"Sam\",\"Deep\"))"
      ],
      "metadata": {
        "colab": {
          "base_uri": "https://localhost:8080/"
        },
        "id": "Cnp96TyLFiyg",
        "outputId": "d52d5fbf-cb5d-4ce0-eb3d-b094b4a87d4c"
      },
      "execution_count": null,
      "outputs": [
        {
          "output_type": "stream",
          "name": "stdout",
          "text": [
            "30\n",
            "SamDeep\n"
          ]
        }
      ]
    },
    {
      "cell_type": "markdown",
      "source": [
        "#### 2.Class & Object"
      ],
      "metadata": {
        "id": "gKOS75fAebq1"
      }
    },
    {
      "cell_type": "code",
      "source": [
        "class data :\n",
        "    #adding __ we create private method \n",
        "    #init() function provide data to class\n",
        "    #self indicate the same class and this word can be replaced by anything different in all places\n",
        "    def __init__(self,filename,filetype,date,size):\n",
        "        self.filename = filename\n",
        "        self.filetype = filetype\n",
        "        self.date = date\n",
        "        self.size = size\n",
        "        \n",
        "    def fileopen(self):\n",
        "        f = open(self.filename,'w')\n",
        "        f.write(\"This is test file.\")\n",
        "        f.close()\n",
        "    \n",
        "    def fileread(self):\n",
        "        f = open(self.filename,'r')\n",
        "        print(f.read())\n",
        "        f.close()\n",
        "    \n",
        "    def fileappend(self):\n",
        "        f = open(self.filename,'a')\n",
        "        f.write(\" Appending data to file.\")\n",
        "        f.close()\n",
        "\n",
        "#file1 = data() - error coz expecting parameters\n",
        "file1 = data('file1','txt','2021-4-11','2MB')\n",
        "file1.fileopen()\n",
        "file1.fileread()\n",
        "file1.fileappend()\n",
        "file1.fileread()"
      ],
      "metadata": {
        "id": "5wW1-BcYefPA",
        "colab": {
          "base_uri": "https://localhost:8080/"
        },
        "outputId": "a6790421-b5bd-4bd0-a368-83199258be06"
      },
      "execution_count": 14,
      "outputs": [
        {
          "output_type": "stream",
          "name": "stdout",
          "text": [
            "This is test file.\n",
            "This is test file. Appending data to file.\n"
          ]
        }
      ]
    },
    {
      "cell_type": "code",
      "source": [
        ""
      ],
      "metadata": {
        "id": "9GFt2ZQ4AyNZ"
      },
      "execution_count": null,
      "outputs": []
    },
    {
      "cell_type": "code",
      "source": [
        ""
      ],
      "metadata": {
        "id": "sIrDo9L0Ax_B"
      },
      "execution_count": null,
      "outputs": []
    },
    {
      "cell_type": "markdown",
      "source": [
        "#### 3. Abstraction"
      ],
      "metadata": {
        "id": "f5RCs9SVekzc"
      }
    },
    {
      "cell_type": "markdown",
      "source": [
        "Access Modifiers - public, protected(_), private(__)"
      ],
      "metadata": {
        "id": "MqRoiFLPB5S1"
      }
    },
    {
      "cell_type": "code",
      "source": [
        ""
      ],
      "metadata": {
        "id": "1dPnAg2TeoCY"
      },
      "execution_count": null,
      "outputs": []
    },
    {
      "cell_type": "markdown",
      "source": [
        "#### 4. Inheritance"
      ],
      "metadata": {
        "id": "r1N8igtCeoa5"
      }
    },
    {
      "cell_type": "code",
      "source": [
        ""
      ],
      "metadata": {
        "id": "VcBaEbhveroa"
      },
      "execution_count": null,
      "outputs": []
    },
    {
      "cell_type": "markdown",
      "source": [
        "map,\n",
        "reduce,\n",
        "filter\n",
        "\n",
        "\n",
        "functions"
      ],
      "metadata": {
        "id": "_b2DRx7DKPXw"
      }
    },
    {
      "cell_type": "code",
      "source": [
        ""
      ],
      "metadata": {
        "id": "dJjqKvPHLECb"
      },
      "execution_count": null,
      "outputs": []
    }
  ]
}
